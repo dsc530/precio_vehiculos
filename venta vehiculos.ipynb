{
 "cells": [
  {
   "cell_type": "markdown",
   "metadata": {},
   "source": [
    "# Predicción Valores Autos"
   ]
  },
  {
   "cell_type": "markdown",
   "metadata": {},
   "source": [
    "El servicio de venta de autos usados Rusty Bargain está desarrollando una aplicación para atraer nuevos clientes. Gracias a esa app, puedes averiguar rápidamente el valor de mercado de tu coche. Tienes acceso al historial: especificaciones técnicas, versiones de equipamiento y precios. Tienes que crear un modelo que determine el valor de mercado.\n",
    "A Rusty Bargain le interesa:\n",
    "- la calidad de la predicción;\n",
    "- la velocidad de la predicción;\n",
    "- el tiempo requerido para el entrenamiento"
   ]
  },
  {
   "cell_type": "markdown",
   "metadata": {},
   "source": [
    "## Importación Librerías"
   ]
  },
  {
   "cell_type": "code",
   "execution_count": 2,
   "metadata": {},
   "outputs": [],
   "source": [
    "import pandas as pd\n",
    "import numpy as np\n",
    "import matplotlib.pyplot as plt\n",
    "\n",
    "from sklearn.preprocessing import OrdinalEncoder\n",
    "from sklearn.model_selection import train_test_split\n",
    "from sklearn.preprocessing import MinMaxScaler\n",
    "from sklearn.linear_model import LinearRegression\n",
    "from sklearn.ensemble import RandomForestRegressor\n",
    "from sklearn.metrics import mean_squared_error\n",
    "from sklearn.metrics import r2_score\n",
    "\n",
    "from scipy.stats import boxcox\n",
    "\n",
    "from lightgbm import LGBMRegressor\n",
    "from catboost import CatBoostRegressor\n",
    "\n",
    "import time"
   ]
  },
  {
   "cell_type": "markdown",
   "metadata": {},
   "source": [
    "## Preparación de datos"
   ]
  },
  {
   "cell_type": "markdown",
   "metadata": {},
   "source": [
    "### Importación de Datos"
   ]
  },
  {
   "cell_type": "code",
   "execution_count": 4,
   "metadata": {},
   "outputs": [],
   "source": [
    "df= pd.read_csv('car_data.csv')"
   ]
  },
  {
   "cell_type": "code",
   "execution_count": 5,
   "metadata": {},
   "outputs": [
    {
     "name": "stdout",
     "output_type": "stream",
     "text": [
      "<class 'pandas.core.frame.DataFrame'>\n",
      "RangeIndex: 354369 entries, 0 to 354368\n",
      "Data columns (total 16 columns):\n",
      " #   Column             Non-Null Count   Dtype \n",
      "---  ------             --------------   ----- \n",
      " 0   DateCrawled        354369 non-null  object\n",
      " 1   Price              354369 non-null  int64 \n",
      " 2   VehicleType        316879 non-null  object\n",
      " 3   RegistrationYear   354369 non-null  int64 \n",
      " 4   Gearbox            334536 non-null  object\n",
      " 5   Power              354369 non-null  int64 \n",
      " 6   Model              334664 non-null  object\n",
      " 7   Mileage            354369 non-null  int64 \n",
      " 8   RegistrationMonth  354369 non-null  int64 \n",
      " 9   FuelType           321474 non-null  object\n",
      " 10  Brand              354369 non-null  object\n",
      " 11  NotRepaired        283215 non-null  object\n",
      " 12  DateCreated        354369 non-null  object\n",
      " 13  NumberOfPictures   354369 non-null  int64 \n",
      " 14  PostalCode         354369 non-null  int64 \n",
      " 15  LastSeen           354369 non-null  object\n",
      "dtypes: int64(7), object(9)\n",
      "memory usage: 43.3+ MB\n"
     ]
    }
   ],
   "source": [
    "df.info()"
   ]
  },
  {
   "cell_type": "code",
   "execution_count": 6,
   "metadata": {
    "scrolled": false
   },
   "outputs": [
    {
     "data": {
      "text/html": [
       "<div>\n",
       "<style scoped>\n",
       "    .dataframe tbody tr th:only-of-type {\n",
       "        vertical-align: middle;\n",
       "    }\n",
       "\n",
       "    .dataframe tbody tr th {\n",
       "        vertical-align: top;\n",
       "    }\n",
       "\n",
       "    .dataframe thead th {\n",
       "        text-align: right;\n",
       "    }\n",
       "</style>\n",
       "<table border=\"1\" class=\"dataframe\">\n",
       "  <thead>\n",
       "    <tr style=\"text-align: right;\">\n",
       "      <th></th>\n",
       "      <th>DateCrawled</th>\n",
       "      <th>Price</th>\n",
       "      <th>VehicleType</th>\n",
       "      <th>RegistrationYear</th>\n",
       "      <th>Gearbox</th>\n",
       "      <th>Power</th>\n",
       "      <th>Model</th>\n",
       "      <th>Mileage</th>\n",
       "      <th>RegistrationMonth</th>\n",
       "      <th>FuelType</th>\n",
       "      <th>Brand</th>\n",
       "      <th>NotRepaired</th>\n",
       "      <th>DateCreated</th>\n",
       "      <th>NumberOfPictures</th>\n",
       "      <th>PostalCode</th>\n",
       "      <th>LastSeen</th>\n",
       "    </tr>\n",
       "  </thead>\n",
       "  <tbody>\n",
       "    <tr>\n",
       "      <th>0</th>\n",
       "      <td>24/03/2016 11:52</td>\n",
       "      <td>480</td>\n",
       "      <td>NaN</td>\n",
       "      <td>1993</td>\n",
       "      <td>manual</td>\n",
       "      <td>0</td>\n",
       "      <td>golf</td>\n",
       "      <td>150000</td>\n",
       "      <td>0</td>\n",
       "      <td>petrol</td>\n",
       "      <td>volkswagen</td>\n",
       "      <td>NaN</td>\n",
       "      <td>24/03/2016 00:00</td>\n",
       "      <td>0</td>\n",
       "      <td>70435</td>\n",
       "      <td>07/04/2016 03:16</td>\n",
       "    </tr>\n",
       "    <tr>\n",
       "      <th>1</th>\n",
       "      <td>24/03/2016 10:58</td>\n",
       "      <td>18300</td>\n",
       "      <td>coupe</td>\n",
       "      <td>2011</td>\n",
       "      <td>manual</td>\n",
       "      <td>190</td>\n",
       "      <td>NaN</td>\n",
       "      <td>125000</td>\n",
       "      <td>5</td>\n",
       "      <td>gasoline</td>\n",
       "      <td>audi</td>\n",
       "      <td>yes</td>\n",
       "      <td>24/03/2016 00:00</td>\n",
       "      <td>0</td>\n",
       "      <td>66954</td>\n",
       "      <td>07/04/2016 01:46</td>\n",
       "    </tr>\n",
       "    <tr>\n",
       "      <th>2</th>\n",
       "      <td>14/03/2016 12:52</td>\n",
       "      <td>9800</td>\n",
       "      <td>suv</td>\n",
       "      <td>2004</td>\n",
       "      <td>auto</td>\n",
       "      <td>163</td>\n",
       "      <td>grand</td>\n",
       "      <td>125000</td>\n",
       "      <td>8</td>\n",
       "      <td>gasoline</td>\n",
       "      <td>jeep</td>\n",
       "      <td>NaN</td>\n",
       "      <td>14/03/2016 00:00</td>\n",
       "      <td>0</td>\n",
       "      <td>90480</td>\n",
       "      <td>05/04/2016 12:47</td>\n",
       "    </tr>\n",
       "    <tr>\n",
       "      <th>3</th>\n",
       "      <td>17/03/2016 16:54</td>\n",
       "      <td>1500</td>\n",
       "      <td>small</td>\n",
       "      <td>2001</td>\n",
       "      <td>manual</td>\n",
       "      <td>75</td>\n",
       "      <td>golf</td>\n",
       "      <td>150000</td>\n",
       "      <td>6</td>\n",
       "      <td>petrol</td>\n",
       "      <td>volkswagen</td>\n",
       "      <td>no</td>\n",
       "      <td>17/03/2016 00:00</td>\n",
       "      <td>0</td>\n",
       "      <td>91074</td>\n",
       "      <td>17/03/2016 17:40</td>\n",
       "    </tr>\n",
       "    <tr>\n",
       "      <th>4</th>\n",
       "      <td>31/03/2016 17:25</td>\n",
       "      <td>3600</td>\n",
       "      <td>small</td>\n",
       "      <td>2008</td>\n",
       "      <td>manual</td>\n",
       "      <td>69</td>\n",
       "      <td>fabia</td>\n",
       "      <td>90000</td>\n",
       "      <td>7</td>\n",
       "      <td>gasoline</td>\n",
       "      <td>skoda</td>\n",
       "      <td>no</td>\n",
       "      <td>31/03/2016 00:00</td>\n",
       "      <td>0</td>\n",
       "      <td>60437</td>\n",
       "      <td>06/04/2016 10:17</td>\n",
       "    </tr>\n",
       "  </tbody>\n",
       "</table>\n",
       "</div>"
      ],
      "text/plain": [
       "        DateCrawled  Price VehicleType  RegistrationYear Gearbox  Power  \\\n",
       "0  24/03/2016 11:52    480         NaN              1993  manual      0   \n",
       "1  24/03/2016 10:58  18300       coupe              2011  manual    190   \n",
       "2  14/03/2016 12:52   9800         suv              2004    auto    163   \n",
       "3  17/03/2016 16:54   1500       small              2001  manual     75   \n",
       "4  31/03/2016 17:25   3600       small              2008  manual     69   \n",
       "\n",
       "   Model  Mileage  RegistrationMonth  FuelType       Brand NotRepaired  \\\n",
       "0   golf   150000                  0    petrol  volkswagen         NaN   \n",
       "1    NaN   125000                  5  gasoline        audi         yes   \n",
       "2  grand   125000                  8  gasoline        jeep         NaN   \n",
       "3   golf   150000                  6    petrol  volkswagen          no   \n",
       "4  fabia    90000                  7  gasoline       skoda          no   \n",
       "\n",
       "        DateCreated  NumberOfPictures  PostalCode          LastSeen  \n",
       "0  24/03/2016 00:00                 0       70435  07/04/2016 03:16  \n",
       "1  24/03/2016 00:00                 0       66954  07/04/2016 01:46  \n",
       "2  14/03/2016 00:00                 0       90480  05/04/2016 12:47  \n",
       "3  17/03/2016 00:00                 0       91074  17/03/2016 17:40  \n",
       "4  31/03/2016 00:00                 0       60437  06/04/2016 10:17  "
      ]
     },
     "execution_count": 6,
     "metadata": {},
     "output_type": "execute_result"
    }
   ],
   "source": [
    "df.head(5)"
   ]
  },
  {
   "cell_type": "markdown",
   "metadata": {},
   "source": [
    "### Datos Duplicados"
   ]
  },
  {
   "cell_type": "code",
   "execution_count": 7,
   "metadata": {
    "scrolled": true
   },
   "outputs": [
    {
     "data": {
      "text/html": [
       "<div>\n",
       "<style scoped>\n",
       "    .dataframe tbody tr th:only-of-type {\n",
       "        vertical-align: middle;\n",
       "    }\n",
       "\n",
       "    .dataframe tbody tr th {\n",
       "        vertical-align: top;\n",
       "    }\n",
       "\n",
       "    .dataframe thead th {\n",
       "        text-align: right;\n",
       "    }\n",
       "</style>\n",
       "<table border=\"1\" class=\"dataframe\">\n",
       "  <thead>\n",
       "    <tr style=\"text-align: right;\">\n",
       "      <th></th>\n",
       "      <th>DateCrawled</th>\n",
       "      <th>Price</th>\n",
       "      <th>VehicleType</th>\n",
       "      <th>RegistrationYear</th>\n",
       "      <th>Gearbox</th>\n",
       "      <th>Power</th>\n",
       "      <th>Model</th>\n",
       "      <th>Mileage</th>\n",
       "      <th>RegistrationMonth</th>\n",
       "      <th>FuelType</th>\n",
       "      <th>Brand</th>\n",
       "      <th>NotRepaired</th>\n",
       "      <th>DateCreated</th>\n",
       "      <th>NumberOfPictures</th>\n",
       "      <th>PostalCode</th>\n",
       "      <th>LastSeen</th>\n",
       "    </tr>\n",
       "  </thead>\n",
       "  <tbody>\n",
       "    <tr>\n",
       "      <th>14266</th>\n",
       "      <td>21/03/2016 19:06</td>\n",
       "      <td>5999</td>\n",
       "      <td>small</td>\n",
       "      <td>2009</td>\n",
       "      <td>manual</td>\n",
       "      <td>80</td>\n",
       "      <td>polo</td>\n",
       "      <td>125000</td>\n",
       "      <td>5</td>\n",
       "      <td>petrol</td>\n",
       "      <td>volkswagen</td>\n",
       "      <td>no</td>\n",
       "      <td>21/03/2016 00:00</td>\n",
       "      <td>0</td>\n",
       "      <td>65529</td>\n",
       "      <td>05/04/2016 20:47</td>\n",
       "    </tr>\n",
       "    <tr>\n",
       "      <th>27568</th>\n",
       "      <td>23/03/2016 10:38</td>\n",
       "      <td>12200</td>\n",
       "      <td>bus</td>\n",
       "      <td>2011</td>\n",
       "      <td>manual</td>\n",
       "      <td>125</td>\n",
       "      <td>zafira</td>\n",
       "      <td>40000</td>\n",
       "      <td>10</td>\n",
       "      <td>gasoline</td>\n",
       "      <td>opel</td>\n",
       "      <td>no</td>\n",
       "      <td>23/03/2016 00:00</td>\n",
       "      <td>0</td>\n",
       "      <td>26629</td>\n",
       "      <td>05/04/2016 07:44</td>\n",
       "    </tr>\n",
       "    <tr>\n",
       "      <th>31599</th>\n",
       "      <td>03/04/2016 20:41</td>\n",
       "      <td>4950</td>\n",
       "      <td>wagon</td>\n",
       "      <td>2003</td>\n",
       "      <td>auto</td>\n",
       "      <td>170</td>\n",
       "      <td>e_klasse</td>\n",
       "      <td>150000</td>\n",
       "      <td>4</td>\n",
       "      <td>gasoline</td>\n",
       "      <td>mercedes_benz</td>\n",
       "      <td>no</td>\n",
       "      <td>03/04/2016 00:00</td>\n",
       "      <td>0</td>\n",
       "      <td>48432</td>\n",
       "      <td>05/04/2016 21:17</td>\n",
       "    </tr>\n",
       "    <tr>\n",
       "      <th>33138</th>\n",
       "      <td>07/03/2016 20:45</td>\n",
       "      <td>10900</td>\n",
       "      <td>convertible</td>\n",
       "      <td>2005</td>\n",
       "      <td>auto</td>\n",
       "      <td>163</td>\n",
       "      <td>clk</td>\n",
       "      <td>125000</td>\n",
       "      <td>5</td>\n",
       "      <td>petrol</td>\n",
       "      <td>mercedes_benz</td>\n",
       "      <td>no</td>\n",
       "      <td>07/03/2016 00:00</td>\n",
       "      <td>0</td>\n",
       "      <td>61200</td>\n",
       "      <td>21/03/2016 03:45</td>\n",
       "    </tr>\n",
       "    <tr>\n",
       "      <th>43656</th>\n",
       "      <td>13/03/2016 20:48</td>\n",
       "      <td>4200</td>\n",
       "      <td>sedan</td>\n",
       "      <td>2003</td>\n",
       "      <td>manual</td>\n",
       "      <td>105</td>\n",
       "      <td>golf</td>\n",
       "      <td>150000</td>\n",
       "      <td>10</td>\n",
       "      <td>gasoline</td>\n",
       "      <td>volkswagen</td>\n",
       "      <td>no</td>\n",
       "      <td>13/03/2016 00:00</td>\n",
       "      <td>0</td>\n",
       "      <td>14482</td>\n",
       "      <td>13/03/2016 20:48</td>\n",
       "    </tr>\n",
       "    <tr>\n",
       "      <th>...</th>\n",
       "      <td>...</td>\n",
       "      <td>...</td>\n",
       "      <td>...</td>\n",
       "      <td>...</td>\n",
       "      <td>...</td>\n",
       "      <td>...</td>\n",
       "      <td>...</td>\n",
       "      <td>...</td>\n",
       "      <td>...</td>\n",
       "      <td>...</td>\n",
       "      <td>...</td>\n",
       "      <td>...</td>\n",
       "      <td>...</td>\n",
       "      <td>...</td>\n",
       "      <td>...</td>\n",
       "      <td>...</td>\n",
       "    </tr>\n",
       "    <tr>\n",
       "      <th>349709</th>\n",
       "      <td>03/04/2016 20:52</td>\n",
       "      <td>700</td>\n",
       "      <td>small</td>\n",
       "      <td>1999</td>\n",
       "      <td>manual</td>\n",
       "      <td>60</td>\n",
       "      <td>ibiza</td>\n",
       "      <td>150000</td>\n",
       "      <td>12</td>\n",
       "      <td>petrol</td>\n",
       "      <td>seat</td>\n",
       "      <td>yes</td>\n",
       "      <td>03/04/2016 00:00</td>\n",
       "      <td>0</td>\n",
       "      <td>6268</td>\n",
       "      <td>05/04/2016 21:47</td>\n",
       "    </tr>\n",
       "    <tr>\n",
       "      <th>351555</th>\n",
       "      <td>26/03/2016 16:54</td>\n",
       "      <td>3150</td>\n",
       "      <td>bus</td>\n",
       "      <td>2003</td>\n",
       "      <td>manual</td>\n",
       "      <td>86</td>\n",
       "      <td>transit</td>\n",
       "      <td>150000</td>\n",
       "      <td>11</td>\n",
       "      <td>gasoline</td>\n",
       "      <td>ford</td>\n",
       "      <td>no</td>\n",
       "      <td>26/03/2016 00:00</td>\n",
       "      <td>0</td>\n",
       "      <td>96148</td>\n",
       "      <td>02/04/2016 07:47</td>\n",
       "    </tr>\n",
       "    <tr>\n",
       "      <th>352384</th>\n",
       "      <td>15/03/2016 21:54</td>\n",
       "      <td>5900</td>\n",
       "      <td>wagon</td>\n",
       "      <td>2006</td>\n",
       "      <td>manual</td>\n",
       "      <td>129</td>\n",
       "      <td>3er</td>\n",
       "      <td>150000</td>\n",
       "      <td>12</td>\n",
       "      <td>petrol</td>\n",
       "      <td>bmw</td>\n",
       "      <td>no</td>\n",
       "      <td>15/03/2016 00:00</td>\n",
       "      <td>0</td>\n",
       "      <td>92526</td>\n",
       "      <td>20/03/2016 21:17</td>\n",
       "    </tr>\n",
       "    <tr>\n",
       "      <th>353057</th>\n",
       "      <td>05/03/2016 14:16</td>\n",
       "      <td>9500</td>\n",
       "      <td>small</td>\n",
       "      <td>2013</td>\n",
       "      <td>manual</td>\n",
       "      <td>105</td>\n",
       "      <td>ibiza</td>\n",
       "      <td>40000</td>\n",
       "      <td>5</td>\n",
       "      <td>petrol</td>\n",
       "      <td>seat</td>\n",
       "      <td>no</td>\n",
       "      <td>04/03/2016 00:00</td>\n",
       "      <td>0</td>\n",
       "      <td>61381</td>\n",
       "      <td>05/04/2016 19:18</td>\n",
       "    </tr>\n",
       "    <tr>\n",
       "      <th>353727</th>\n",
       "      <td>20/03/2016 17:56</td>\n",
       "      <td>1</td>\n",
       "      <td>NaN</td>\n",
       "      <td>2000</td>\n",
       "      <td>NaN</td>\n",
       "      <td>0</td>\n",
       "      <td>NaN</td>\n",
       "      <td>150000</td>\n",
       "      <td>0</td>\n",
       "      <td>NaN</td>\n",
       "      <td>bmw</td>\n",
       "      <td>NaN</td>\n",
       "      <td>20/03/2016 00:00</td>\n",
       "      <td>0</td>\n",
       "      <td>42329</td>\n",
       "      <td>07/04/2016 00:46</td>\n",
       "    </tr>\n",
       "  </tbody>\n",
       "</table>\n",
       "<p>262 rows × 16 columns</p>\n",
       "</div>"
      ],
      "text/plain": [
       "             DateCrawled  Price  VehicleType  RegistrationYear Gearbox  Power  \\\n",
       "14266   21/03/2016 19:06   5999        small              2009  manual     80   \n",
       "27568   23/03/2016 10:38  12200          bus              2011  manual    125   \n",
       "31599   03/04/2016 20:41   4950        wagon              2003    auto    170   \n",
       "33138   07/03/2016 20:45  10900  convertible              2005    auto    163   \n",
       "43656   13/03/2016 20:48   4200        sedan              2003  manual    105   \n",
       "...                  ...    ...          ...               ...     ...    ...   \n",
       "349709  03/04/2016 20:52    700        small              1999  manual     60   \n",
       "351555  26/03/2016 16:54   3150          bus              2003  manual     86   \n",
       "352384  15/03/2016 21:54   5900        wagon              2006  manual    129   \n",
       "353057  05/03/2016 14:16   9500        small              2013  manual    105   \n",
       "353727  20/03/2016 17:56      1          NaN              2000     NaN      0   \n",
       "\n",
       "           Model  Mileage  RegistrationMonth  FuelType          Brand  \\\n",
       "14266       polo   125000                  5    petrol     volkswagen   \n",
       "27568     zafira    40000                 10  gasoline           opel   \n",
       "31599   e_klasse   150000                  4  gasoline  mercedes_benz   \n",
       "33138        clk   125000                  5    petrol  mercedes_benz   \n",
       "43656       golf   150000                 10  gasoline     volkswagen   \n",
       "...          ...      ...                ...       ...            ...   \n",
       "349709     ibiza   150000                 12    petrol           seat   \n",
       "351555   transit   150000                 11  gasoline           ford   \n",
       "352384       3er   150000                 12    petrol            bmw   \n",
       "353057     ibiza    40000                  5    petrol           seat   \n",
       "353727       NaN   150000                  0       NaN            bmw   \n",
       "\n",
       "       NotRepaired       DateCreated  NumberOfPictures  PostalCode  \\\n",
       "14266           no  21/03/2016 00:00                 0       65529   \n",
       "27568           no  23/03/2016 00:00                 0       26629   \n",
       "31599           no  03/04/2016 00:00                 0       48432   \n",
       "33138           no  07/03/2016 00:00                 0       61200   \n",
       "43656           no  13/03/2016 00:00                 0       14482   \n",
       "...            ...               ...               ...         ...   \n",
       "349709         yes  03/04/2016 00:00                 0        6268   \n",
       "351555          no  26/03/2016 00:00                 0       96148   \n",
       "352384          no  15/03/2016 00:00                 0       92526   \n",
       "353057          no  04/03/2016 00:00                 0       61381   \n",
       "353727         NaN  20/03/2016 00:00                 0       42329   \n",
       "\n",
       "                LastSeen  \n",
       "14266   05/04/2016 20:47  \n",
       "27568   05/04/2016 07:44  \n",
       "31599   05/04/2016 21:17  \n",
       "33138   21/03/2016 03:45  \n",
       "43656   13/03/2016 20:48  \n",
       "...                  ...  \n",
       "349709  05/04/2016 21:47  \n",
       "351555  02/04/2016 07:47  \n",
       "352384  20/03/2016 21:17  \n",
       "353057  05/04/2016 19:18  \n",
       "353727  07/04/2016 00:46  \n",
       "\n",
       "[262 rows x 16 columns]"
      ]
     },
     "execution_count": 7,
     "metadata": {},
     "output_type": "execute_result"
    }
   ],
   "source": [
    "df[df.duplicated()]"
   ]
  },
  {
   "cell_type": "code",
   "execution_count": 8,
   "metadata": {
    "scrolled": false
   },
   "outputs": [
    {
     "name": "stdout",
     "output_type": "stream",
     "text": [
      "<class 'pandas.core.frame.DataFrame'>\n",
      "Index: 354107 entries, 0 to 354368\n",
      "Data columns (total 16 columns):\n",
      " #   Column             Non-Null Count   Dtype \n",
      "---  ------             --------------   ----- \n",
      " 0   DateCrawled        354107 non-null  object\n",
      " 1   Price              354107 non-null  int64 \n",
      " 2   VehicleType        316623 non-null  object\n",
      " 3   RegistrationYear   354107 non-null  int64 \n",
      " 4   Gearbox            334277 non-null  object\n",
      " 5   Power              354107 non-null  int64 \n",
      " 6   Model              334406 non-null  object\n",
      " 7   Mileage            354107 non-null  int64 \n",
      " 8   RegistrationMonth  354107 non-null  int64 \n",
      " 9   FuelType           321218 non-null  object\n",
      " 10  Brand              354107 non-null  object\n",
      " 11  NotRepaired        282962 non-null  object\n",
      " 12  DateCreated        354107 non-null  object\n",
      " 13  NumberOfPictures   354107 non-null  int64 \n",
      " 14  PostalCode         354107 non-null  int64 \n",
      " 15  LastSeen           354107 non-null  object\n",
      "dtypes: int64(7), object(9)\n",
      "memory usage: 45.9+ MB\n"
     ]
    }
   ],
   "source": [
    "#Eliminación datos duplicados\n",
    "df.drop_duplicates(inplace=True)\n",
    "df.info()"
   ]
  },
  {
   "cell_type": "markdown",
   "metadata": {},
   "source": [
    "### Datos Faltantes"
   ]
  },
  {
   "cell_type": "markdown",
   "metadata": {},
   "source": [
    "#### Columna Vehicle Type"
   ]
  },
  {
   "cell_type": "code",
   "execution_count": 9,
   "metadata": {},
   "outputs": [
    {
     "data": {
      "text/html": [
       "<div>\n",
       "<style scoped>\n",
       "    .dataframe tbody tr th:only-of-type {\n",
       "        vertical-align: middle;\n",
       "    }\n",
       "\n",
       "    .dataframe tbody tr th {\n",
       "        vertical-align: top;\n",
       "    }\n",
       "\n",
       "    .dataframe thead th {\n",
       "        text-align: right;\n",
       "    }\n",
       "</style>\n",
       "<table border=\"1\" class=\"dataframe\">\n",
       "  <thead>\n",
       "    <tr style=\"text-align: right;\">\n",
       "      <th></th>\n",
       "      <th>DateCrawled</th>\n",
       "      <th>Price</th>\n",
       "      <th>VehicleType</th>\n",
       "      <th>RegistrationYear</th>\n",
       "      <th>Gearbox</th>\n",
       "      <th>Power</th>\n",
       "      <th>Model</th>\n",
       "      <th>Mileage</th>\n",
       "      <th>RegistrationMonth</th>\n",
       "      <th>FuelType</th>\n",
       "      <th>Brand</th>\n",
       "      <th>NotRepaired</th>\n",
       "      <th>DateCreated</th>\n",
       "      <th>NumberOfPictures</th>\n",
       "      <th>PostalCode</th>\n",
       "      <th>LastSeen</th>\n",
       "    </tr>\n",
       "  </thead>\n",
       "  <tbody>\n",
       "    <tr>\n",
       "      <th>0</th>\n",
       "      <td>24/03/2016 11:52</td>\n",
       "      <td>480</td>\n",
       "      <td>NaN</td>\n",
       "      <td>1993</td>\n",
       "      <td>manual</td>\n",
       "      <td>0</td>\n",
       "      <td>golf</td>\n",
       "      <td>150000</td>\n",
       "      <td>0</td>\n",
       "      <td>petrol</td>\n",
       "      <td>volkswagen</td>\n",
       "      <td>NaN</td>\n",
       "      <td>24/03/2016 00:00</td>\n",
       "      <td>0</td>\n",
       "      <td>70435</td>\n",
       "      <td>07/04/2016 03:16</td>\n",
       "    </tr>\n",
       "    <tr>\n",
       "      <th>16</th>\n",
       "      <td>01/04/2016 12:46</td>\n",
       "      <td>300</td>\n",
       "      <td>NaN</td>\n",
       "      <td>2016</td>\n",
       "      <td>NaN</td>\n",
       "      <td>60</td>\n",
       "      <td>polo</td>\n",
       "      <td>150000</td>\n",
       "      <td>0</td>\n",
       "      <td>petrol</td>\n",
       "      <td>volkswagen</td>\n",
       "      <td>NaN</td>\n",
       "      <td>01/04/2016 00:00</td>\n",
       "      <td>0</td>\n",
       "      <td>38871</td>\n",
       "      <td>01/04/2016 12:46</td>\n",
       "    </tr>\n",
       "    <tr>\n",
       "      <th>22</th>\n",
       "      <td>23/03/2016 14:52</td>\n",
       "      <td>2900</td>\n",
       "      <td>NaN</td>\n",
       "      <td>2018</td>\n",
       "      <td>manual</td>\n",
       "      <td>90</td>\n",
       "      <td>meriva</td>\n",
       "      <td>150000</td>\n",
       "      <td>5</td>\n",
       "      <td>petrol</td>\n",
       "      <td>opel</td>\n",
       "      <td>no</td>\n",
       "      <td>23/03/2016 00:00</td>\n",
       "      <td>0</td>\n",
       "      <td>49716</td>\n",
       "      <td>31/03/2016 01:16</td>\n",
       "    </tr>\n",
       "    <tr>\n",
       "      <th>26</th>\n",
       "      <td>10/03/2016 19:38</td>\n",
       "      <td>5555</td>\n",
       "      <td>NaN</td>\n",
       "      <td>2017</td>\n",
       "      <td>manual</td>\n",
       "      <td>125</td>\n",
       "      <td>c4</td>\n",
       "      <td>125000</td>\n",
       "      <td>4</td>\n",
       "      <td>NaN</td>\n",
       "      <td>citroen</td>\n",
       "      <td>no</td>\n",
       "      <td>10/03/2016 00:00</td>\n",
       "      <td>0</td>\n",
       "      <td>31139</td>\n",
       "      <td>16/03/2016 09:16</td>\n",
       "    </tr>\n",
       "    <tr>\n",
       "      <th>31</th>\n",
       "      <td>29/03/2016 16:57</td>\n",
       "      <td>899</td>\n",
       "      <td>NaN</td>\n",
       "      <td>2016</td>\n",
       "      <td>manual</td>\n",
       "      <td>60</td>\n",
       "      <td>clio</td>\n",
       "      <td>150000</td>\n",
       "      <td>6</td>\n",
       "      <td>petrol</td>\n",
       "      <td>renault</td>\n",
       "      <td>NaN</td>\n",
       "      <td>29/03/2016 00:00</td>\n",
       "      <td>0</td>\n",
       "      <td>37075</td>\n",
       "      <td>29/03/2016 17:43</td>\n",
       "    </tr>\n",
       "    <tr>\n",
       "      <th>...</th>\n",
       "      <td>...</td>\n",
       "      <td>...</td>\n",
       "      <td>...</td>\n",
       "      <td>...</td>\n",
       "      <td>...</td>\n",
       "      <td>...</td>\n",
       "      <td>...</td>\n",
       "      <td>...</td>\n",
       "      <td>...</td>\n",
       "      <td>...</td>\n",
       "      <td>...</td>\n",
       "      <td>...</td>\n",
       "      <td>...</td>\n",
       "      <td>...</td>\n",
       "      <td>...</td>\n",
       "      <td>...</td>\n",
       "    </tr>\n",
       "    <tr>\n",
       "      <th>354346</th>\n",
       "      <td>07/03/2016 17:06</td>\n",
       "      <td>2600</td>\n",
       "      <td>NaN</td>\n",
       "      <td>2005</td>\n",
       "      <td>auto</td>\n",
       "      <td>0</td>\n",
       "      <td>c_klasse</td>\n",
       "      <td>150000</td>\n",
       "      <td>9</td>\n",
       "      <td>NaN</td>\n",
       "      <td>mercedes_benz</td>\n",
       "      <td>NaN</td>\n",
       "      <td>07/03/2016 00:00</td>\n",
       "      <td>0</td>\n",
       "      <td>61169</td>\n",
       "      <td>08/03/2016 21:28</td>\n",
       "    </tr>\n",
       "    <tr>\n",
       "      <th>354351</th>\n",
       "      <td>11/03/2016 23:40</td>\n",
       "      <td>1900</td>\n",
       "      <td>NaN</td>\n",
       "      <td>2000</td>\n",
       "      <td>manual</td>\n",
       "      <td>110</td>\n",
       "      <td>NaN</td>\n",
       "      <td>150000</td>\n",
       "      <td>7</td>\n",
       "      <td>NaN</td>\n",
       "      <td>volkswagen</td>\n",
       "      <td>no</td>\n",
       "      <td>11/03/2016 00:00</td>\n",
       "      <td>0</td>\n",
       "      <td>87700</td>\n",
       "      <td>12/03/2016 14:16</td>\n",
       "    </tr>\n",
       "    <tr>\n",
       "      <th>354361</th>\n",
       "      <td>09/03/2016 13:37</td>\n",
       "      <td>5250</td>\n",
       "      <td>NaN</td>\n",
       "      <td>2016</td>\n",
       "      <td>auto</td>\n",
       "      <td>150</td>\n",
       "      <td>159</td>\n",
       "      <td>150000</td>\n",
       "      <td>12</td>\n",
       "      <td>NaN</td>\n",
       "      <td>alfa_romeo</td>\n",
       "      <td>no</td>\n",
       "      <td>09/03/2016 00:00</td>\n",
       "      <td>0</td>\n",
       "      <td>51371</td>\n",
       "      <td>13/03/2016 01:44</td>\n",
       "    </tr>\n",
       "    <tr>\n",
       "      <th>354364</th>\n",
       "      <td>21/03/2016 09:50</td>\n",
       "      <td>0</td>\n",
       "      <td>NaN</td>\n",
       "      <td>2005</td>\n",
       "      <td>manual</td>\n",
       "      <td>0</td>\n",
       "      <td>colt</td>\n",
       "      <td>150000</td>\n",
       "      <td>7</td>\n",
       "      <td>petrol</td>\n",
       "      <td>mitsubishi</td>\n",
       "      <td>yes</td>\n",
       "      <td>21/03/2016 00:00</td>\n",
       "      <td>0</td>\n",
       "      <td>2694</td>\n",
       "      <td>21/03/2016 10:42</td>\n",
       "    </tr>\n",
       "    <tr>\n",
       "      <th>354365</th>\n",
       "      <td>14/03/2016 17:48</td>\n",
       "      <td>2200</td>\n",
       "      <td>NaN</td>\n",
       "      <td>2005</td>\n",
       "      <td>NaN</td>\n",
       "      <td>0</td>\n",
       "      <td>NaN</td>\n",
       "      <td>20000</td>\n",
       "      <td>1</td>\n",
       "      <td>NaN</td>\n",
       "      <td>sonstige_autos</td>\n",
       "      <td>NaN</td>\n",
       "      <td>14/03/2016 00:00</td>\n",
       "      <td>0</td>\n",
       "      <td>39576</td>\n",
       "      <td>06/04/2016 00:46</td>\n",
       "    </tr>\n",
       "  </tbody>\n",
       "</table>\n",
       "<p>37484 rows × 16 columns</p>\n",
       "</div>"
      ],
      "text/plain": [
       "             DateCrawled  Price VehicleType  RegistrationYear Gearbox  Power  \\\n",
       "0       24/03/2016 11:52    480         NaN              1993  manual      0   \n",
       "16      01/04/2016 12:46    300         NaN              2016     NaN     60   \n",
       "22      23/03/2016 14:52   2900         NaN              2018  manual     90   \n",
       "26      10/03/2016 19:38   5555         NaN              2017  manual    125   \n",
       "31      29/03/2016 16:57    899         NaN              2016  manual     60   \n",
       "...                  ...    ...         ...               ...     ...    ...   \n",
       "354346  07/03/2016 17:06   2600         NaN              2005    auto      0   \n",
       "354351  11/03/2016 23:40   1900         NaN              2000  manual    110   \n",
       "354361  09/03/2016 13:37   5250         NaN              2016    auto    150   \n",
       "354364  21/03/2016 09:50      0         NaN              2005  manual      0   \n",
       "354365  14/03/2016 17:48   2200         NaN              2005     NaN      0   \n",
       "\n",
       "           Model  Mileage  RegistrationMonth FuelType           Brand  \\\n",
       "0           golf   150000                  0   petrol      volkswagen   \n",
       "16          polo   150000                  0   petrol      volkswagen   \n",
       "22        meriva   150000                  5   petrol            opel   \n",
       "26            c4   125000                  4      NaN         citroen   \n",
       "31          clio   150000                  6   petrol         renault   \n",
       "...          ...      ...                ...      ...             ...   \n",
       "354346  c_klasse   150000                  9      NaN   mercedes_benz   \n",
       "354351       NaN   150000                  7      NaN      volkswagen   \n",
       "354361       159   150000                 12      NaN      alfa_romeo   \n",
       "354364      colt   150000                  7   petrol      mitsubishi   \n",
       "354365       NaN    20000                  1      NaN  sonstige_autos   \n",
       "\n",
       "       NotRepaired       DateCreated  NumberOfPictures  PostalCode  \\\n",
       "0              NaN  24/03/2016 00:00                 0       70435   \n",
       "16             NaN  01/04/2016 00:00                 0       38871   \n",
       "22              no  23/03/2016 00:00                 0       49716   \n",
       "26              no  10/03/2016 00:00                 0       31139   \n",
       "31             NaN  29/03/2016 00:00                 0       37075   \n",
       "...            ...               ...               ...         ...   \n",
       "354346         NaN  07/03/2016 00:00                 0       61169   \n",
       "354351          no  11/03/2016 00:00                 0       87700   \n",
       "354361          no  09/03/2016 00:00                 0       51371   \n",
       "354364         yes  21/03/2016 00:00                 0        2694   \n",
       "354365         NaN  14/03/2016 00:00                 0       39576   \n",
       "\n",
       "                LastSeen  \n",
       "0       07/04/2016 03:16  \n",
       "16      01/04/2016 12:46  \n",
       "22      31/03/2016 01:16  \n",
       "26      16/03/2016 09:16  \n",
       "31      29/03/2016 17:43  \n",
       "...                  ...  \n",
       "354346  08/03/2016 21:28  \n",
       "354351  12/03/2016 14:16  \n",
       "354361  13/03/2016 01:44  \n",
       "354364  21/03/2016 10:42  \n",
       "354365  06/04/2016 00:46  \n",
       "\n",
       "[37484 rows x 16 columns]"
      ]
     },
     "execution_count": 9,
     "metadata": {},
     "output_type": "execute_result"
    }
   ],
   "source": [
    "df[df['VehicleType'].isna()]"
   ]
  },
  {
   "cell_type": "markdown",
   "metadata": {},
   "source": [
    "- La cantidad de valores faltantes en la columna 'VehicleType' es aproximadamente el 10% de los datos.\n",
    "- Se buscó dentro del resto de columnas posibles indicios que permitan completar el tipo de vehículo, por ejemplo usar el modelo, sin embargo, cada modelo tiene muchos tipos de vehículo asignado.\n",
    "- Se procede a eliminar las filas ya que no se puede imputar información fiable. "
   ]
  },
  {
   "cell_type": "markdown",
   "metadata": {},
   "source": [
    "#### Columna GearBox"
   ]
  },
  {
   "cell_type": "code",
   "execution_count": 10,
   "metadata": {
    "scrolled": true
   },
   "outputs": [
    {
     "data": {
      "text/html": [
       "<div>\n",
       "<style scoped>\n",
       "    .dataframe tbody tr th:only-of-type {\n",
       "        vertical-align: middle;\n",
       "    }\n",
       "\n",
       "    .dataframe tbody tr th {\n",
       "        vertical-align: top;\n",
       "    }\n",
       "\n",
       "    .dataframe thead th {\n",
       "        text-align: right;\n",
       "    }\n",
       "</style>\n",
       "<table border=\"1\" class=\"dataframe\">\n",
       "  <thead>\n",
       "    <tr style=\"text-align: right;\">\n",
       "      <th></th>\n",
       "      <th>DateCrawled</th>\n",
       "      <th>Price</th>\n",
       "      <th>VehicleType</th>\n",
       "      <th>RegistrationYear</th>\n",
       "      <th>Gearbox</th>\n",
       "      <th>Power</th>\n",
       "      <th>Model</th>\n",
       "      <th>Mileage</th>\n",
       "      <th>RegistrationMonth</th>\n",
       "      <th>FuelType</th>\n",
       "      <th>Brand</th>\n",
       "      <th>NotRepaired</th>\n",
       "      <th>DateCreated</th>\n",
       "      <th>NumberOfPictures</th>\n",
       "      <th>PostalCode</th>\n",
       "      <th>LastSeen</th>\n",
       "    </tr>\n",
       "  </thead>\n",
       "  <tbody>\n",
       "    <tr>\n",
       "      <th>15</th>\n",
       "      <td>11/03/2016 21:39</td>\n",
       "      <td>450</td>\n",
       "      <td>small</td>\n",
       "      <td>1910</td>\n",
       "      <td>NaN</td>\n",
       "      <td>0</td>\n",
       "      <td>ka</td>\n",
       "      <td>5000</td>\n",
       "      <td>0</td>\n",
       "      <td>petrol</td>\n",
       "      <td>ford</td>\n",
       "      <td>NaN</td>\n",
       "      <td>11/03/2016 00:00</td>\n",
       "      <td>0</td>\n",
       "      <td>24148</td>\n",
       "      <td>19/03/2016 08:46</td>\n",
       "    </tr>\n",
       "    <tr>\n",
       "      <th>16</th>\n",
       "      <td>01/04/2016 12:46</td>\n",
       "      <td>300</td>\n",
       "      <td>NaN</td>\n",
       "      <td>2016</td>\n",
       "      <td>NaN</td>\n",
       "      <td>60</td>\n",
       "      <td>polo</td>\n",
       "      <td>150000</td>\n",
       "      <td>0</td>\n",
       "      <td>petrol</td>\n",
       "      <td>volkswagen</td>\n",
       "      <td>NaN</td>\n",
       "      <td>01/04/2016 00:00</td>\n",
       "      <td>0</td>\n",
       "      <td>38871</td>\n",
       "      <td>01/04/2016 12:46</td>\n",
       "    </tr>\n",
       "    <tr>\n",
       "      <th>32</th>\n",
       "      <td>15/03/2016 20:59</td>\n",
       "      <td>245</td>\n",
       "      <td>sedan</td>\n",
       "      <td>1994</td>\n",
       "      <td>NaN</td>\n",
       "      <td>0</td>\n",
       "      <td>golf</td>\n",
       "      <td>150000</td>\n",
       "      <td>2</td>\n",
       "      <td>petrol</td>\n",
       "      <td>volkswagen</td>\n",
       "      <td>no</td>\n",
       "      <td>15/03/2016 00:00</td>\n",
       "      <td>0</td>\n",
       "      <td>44145</td>\n",
       "      <td>17/03/2016 18:17</td>\n",
       "    </tr>\n",
       "    <tr>\n",
       "      <th>37</th>\n",
       "      <td>28/03/2016 17:50</td>\n",
       "      <td>1500</td>\n",
       "      <td>NaN</td>\n",
       "      <td>2016</td>\n",
       "      <td>NaN</td>\n",
       "      <td>0</td>\n",
       "      <td>kangoo</td>\n",
       "      <td>150000</td>\n",
       "      <td>1</td>\n",
       "      <td>gasoline</td>\n",
       "      <td>renault</td>\n",
       "      <td>no</td>\n",
       "      <td>28/03/2016 00:00</td>\n",
       "      <td>0</td>\n",
       "      <td>46483</td>\n",
       "      <td>30/03/2016 09:18</td>\n",
       "    </tr>\n",
       "    <tr>\n",
       "      <th>40</th>\n",
       "      <td>26/03/2016 22:06</td>\n",
       "      <td>0</td>\n",
       "      <td>NaN</td>\n",
       "      <td>1990</td>\n",
       "      <td>NaN</td>\n",
       "      <td>0</td>\n",
       "      <td>corsa</td>\n",
       "      <td>150000</td>\n",
       "      <td>1</td>\n",
       "      <td>petrol</td>\n",
       "      <td>opel</td>\n",
       "      <td>NaN</td>\n",
       "      <td>26/03/2016 00:00</td>\n",
       "      <td>0</td>\n",
       "      <td>56412</td>\n",
       "      <td>27/03/2016 17:43</td>\n",
       "    </tr>\n",
       "    <tr>\n",
       "      <th>...</th>\n",
       "      <td>...</td>\n",
       "      <td>...</td>\n",
       "      <td>...</td>\n",
       "      <td>...</td>\n",
       "      <td>...</td>\n",
       "      <td>...</td>\n",
       "      <td>...</td>\n",
       "      <td>...</td>\n",
       "      <td>...</td>\n",
       "      <td>...</td>\n",
       "      <td>...</td>\n",
       "      <td>...</td>\n",
       "      <td>...</td>\n",
       "      <td>...</td>\n",
       "      <td>...</td>\n",
       "      <td>...</td>\n",
       "    </tr>\n",
       "    <tr>\n",
       "      <th>354288</th>\n",
       "      <td>16/03/2016 13:36</td>\n",
       "      <td>3300</td>\n",
       "      <td>wagon</td>\n",
       "      <td>2006</td>\n",
       "      <td>NaN</td>\n",
       "      <td>0</td>\n",
       "      <td>touran</td>\n",
       "      <td>150000</td>\n",
       "      <td>7</td>\n",
       "      <td>gasoline</td>\n",
       "      <td>volkswagen</td>\n",
       "      <td>NaN</td>\n",
       "      <td>16/03/2016 00:00</td>\n",
       "      <td>0</td>\n",
       "      <td>12057</td>\n",
       "      <td>17/03/2016 12:17</td>\n",
       "    </tr>\n",
       "    <tr>\n",
       "      <th>354305</th>\n",
       "      <td>03/04/2016 13:46</td>\n",
       "      <td>3500</td>\n",
       "      <td>NaN</td>\n",
       "      <td>1995</td>\n",
       "      <td>NaN</td>\n",
       "      <td>0</td>\n",
       "      <td>polo</td>\n",
       "      <td>150000</td>\n",
       "      <td>0</td>\n",
       "      <td>NaN</td>\n",
       "      <td>volkswagen</td>\n",
       "      <td>NaN</td>\n",
       "      <td>03/04/2016 00:00</td>\n",
       "      <td>0</td>\n",
       "      <td>74579</td>\n",
       "      <td>05/04/2016 12:44</td>\n",
       "    </tr>\n",
       "    <tr>\n",
       "      <th>354329</th>\n",
       "      <td>30/03/2016 20:55</td>\n",
       "      <td>350</td>\n",
       "      <td>small</td>\n",
       "      <td>1996</td>\n",
       "      <td>NaN</td>\n",
       "      <td>65</td>\n",
       "      <td>punto</td>\n",
       "      <td>150000</td>\n",
       "      <td>0</td>\n",
       "      <td>NaN</td>\n",
       "      <td>fiat</td>\n",
       "      <td>NaN</td>\n",
       "      <td>30/03/2016 00:00</td>\n",
       "      <td>0</td>\n",
       "      <td>25436</td>\n",
       "      <td>07/04/2016 13:50</td>\n",
       "    </tr>\n",
       "    <tr>\n",
       "      <th>354338</th>\n",
       "      <td>31/03/2016 19:52</td>\n",
       "      <td>180</td>\n",
       "      <td>NaN</td>\n",
       "      <td>1995</td>\n",
       "      <td>NaN</td>\n",
       "      <td>0</td>\n",
       "      <td>NaN</td>\n",
       "      <td>125000</td>\n",
       "      <td>3</td>\n",
       "      <td>petrol</td>\n",
       "      <td>opel</td>\n",
       "      <td>NaN</td>\n",
       "      <td>31/03/2016 00:00</td>\n",
       "      <td>0</td>\n",
       "      <td>41470</td>\n",
       "      <td>06/04/2016 14:18</td>\n",
       "    </tr>\n",
       "    <tr>\n",
       "      <th>354365</th>\n",
       "      <td>14/03/2016 17:48</td>\n",
       "      <td>2200</td>\n",
       "      <td>NaN</td>\n",
       "      <td>2005</td>\n",
       "      <td>NaN</td>\n",
       "      <td>0</td>\n",
       "      <td>NaN</td>\n",
       "      <td>20000</td>\n",
       "      <td>1</td>\n",
       "      <td>NaN</td>\n",
       "      <td>sonstige_autos</td>\n",
       "      <td>NaN</td>\n",
       "      <td>14/03/2016 00:00</td>\n",
       "      <td>0</td>\n",
       "      <td>39576</td>\n",
       "      <td>06/04/2016 00:46</td>\n",
       "    </tr>\n",
       "  </tbody>\n",
       "</table>\n",
       "<p>19830 rows × 16 columns</p>\n",
       "</div>"
      ],
      "text/plain": [
       "             DateCrawled  Price VehicleType  RegistrationYear Gearbox  Power  \\\n",
       "15      11/03/2016 21:39    450       small              1910     NaN      0   \n",
       "16      01/04/2016 12:46    300         NaN              2016     NaN     60   \n",
       "32      15/03/2016 20:59    245       sedan              1994     NaN      0   \n",
       "37      28/03/2016 17:50   1500         NaN              2016     NaN      0   \n",
       "40      26/03/2016 22:06      0         NaN              1990     NaN      0   \n",
       "...                  ...    ...         ...               ...     ...    ...   \n",
       "354288  16/03/2016 13:36   3300       wagon              2006     NaN      0   \n",
       "354305  03/04/2016 13:46   3500         NaN              1995     NaN      0   \n",
       "354329  30/03/2016 20:55    350       small              1996     NaN     65   \n",
       "354338  31/03/2016 19:52    180         NaN              1995     NaN      0   \n",
       "354365  14/03/2016 17:48   2200         NaN              2005     NaN      0   \n",
       "\n",
       "         Model  Mileage  RegistrationMonth  FuelType           Brand  \\\n",
       "15          ka     5000                  0    petrol            ford   \n",
       "16        polo   150000                  0    petrol      volkswagen   \n",
       "32        golf   150000                  2    petrol      volkswagen   \n",
       "37      kangoo   150000                  1  gasoline         renault   \n",
       "40       corsa   150000                  1    petrol            opel   \n",
       "...        ...      ...                ...       ...             ...   \n",
       "354288  touran   150000                  7  gasoline      volkswagen   \n",
       "354305    polo   150000                  0       NaN      volkswagen   \n",
       "354329   punto   150000                  0       NaN            fiat   \n",
       "354338     NaN   125000                  3    petrol            opel   \n",
       "354365     NaN    20000                  1       NaN  sonstige_autos   \n",
       "\n",
       "       NotRepaired       DateCreated  NumberOfPictures  PostalCode  \\\n",
       "15             NaN  11/03/2016 00:00                 0       24148   \n",
       "16             NaN  01/04/2016 00:00                 0       38871   \n",
       "32              no  15/03/2016 00:00                 0       44145   \n",
       "37              no  28/03/2016 00:00                 0       46483   \n",
       "40             NaN  26/03/2016 00:00                 0       56412   \n",
       "...            ...               ...               ...         ...   \n",
       "354288         NaN  16/03/2016 00:00                 0       12057   \n",
       "354305         NaN  03/04/2016 00:00                 0       74579   \n",
       "354329         NaN  30/03/2016 00:00                 0       25436   \n",
       "354338         NaN  31/03/2016 00:00                 0       41470   \n",
       "354365         NaN  14/03/2016 00:00                 0       39576   \n",
       "\n",
       "                LastSeen  \n",
       "15      19/03/2016 08:46  \n",
       "16      01/04/2016 12:46  \n",
       "32      17/03/2016 18:17  \n",
       "37      30/03/2016 09:18  \n",
       "40      27/03/2016 17:43  \n",
       "...                  ...  \n",
       "354288  17/03/2016 12:17  \n",
       "354305  05/04/2016 12:44  \n",
       "354329  07/04/2016 13:50  \n",
       "354338  06/04/2016 14:18  \n",
       "354365  06/04/2016 00:46  \n",
       "\n",
       "[19830 rows x 16 columns]"
      ]
     },
     "execution_count": 10,
     "metadata": {},
     "output_type": "execute_result"
    }
   ],
   "source": [
    "df[df['Gearbox'].isna()]"
   ]
  },
  {
   "cell_type": "markdown",
   "metadata": {},
   "source": [
    "- No se pueden imputar datos, puesto que no se conoce si la caja de cambios es manual o automática para cada modelo.\n",
    "- La cantidad de datos faltantes es cerca del 5% de la cantidad total."
   ]
  },
  {
   "cell_type": "markdown",
   "metadata": {},
   "source": [
    "#### Columna Model"
   ]
  },
  {
   "cell_type": "code",
   "execution_count": 11,
   "metadata": {
    "scrolled": true
   },
   "outputs": [
    {
     "data": {
      "text/html": [
       "<div>\n",
       "<style scoped>\n",
       "    .dataframe tbody tr th:only-of-type {\n",
       "        vertical-align: middle;\n",
       "    }\n",
       "\n",
       "    .dataframe tbody tr th {\n",
       "        vertical-align: top;\n",
       "    }\n",
       "\n",
       "    .dataframe thead th {\n",
       "        text-align: right;\n",
       "    }\n",
       "</style>\n",
       "<table border=\"1\" class=\"dataframe\">\n",
       "  <thead>\n",
       "    <tr style=\"text-align: right;\">\n",
       "      <th></th>\n",
       "      <th>DateCrawled</th>\n",
       "      <th>Price</th>\n",
       "      <th>VehicleType</th>\n",
       "      <th>RegistrationYear</th>\n",
       "      <th>Gearbox</th>\n",
       "      <th>Power</th>\n",
       "      <th>Model</th>\n",
       "      <th>Mileage</th>\n",
       "      <th>RegistrationMonth</th>\n",
       "      <th>FuelType</th>\n",
       "      <th>Brand</th>\n",
       "      <th>NotRepaired</th>\n",
       "      <th>DateCreated</th>\n",
       "      <th>NumberOfPictures</th>\n",
       "      <th>PostalCode</th>\n",
       "      <th>LastSeen</th>\n",
       "    </tr>\n",
       "  </thead>\n",
       "  <tbody>\n",
       "    <tr>\n",
       "      <th>1</th>\n",
       "      <td>24/03/2016 10:58</td>\n",
       "      <td>18300</td>\n",
       "      <td>coupe</td>\n",
       "      <td>2011</td>\n",
       "      <td>manual</td>\n",
       "      <td>190</td>\n",
       "      <td>NaN</td>\n",
       "      <td>125000</td>\n",
       "      <td>5</td>\n",
       "      <td>gasoline</td>\n",
       "      <td>audi</td>\n",
       "      <td>yes</td>\n",
       "      <td>24/03/2016 00:00</td>\n",
       "      <td>0</td>\n",
       "      <td>66954</td>\n",
       "      <td>07/04/2016 01:46</td>\n",
       "    </tr>\n",
       "    <tr>\n",
       "      <th>59</th>\n",
       "      <td>29/03/2016 15:48</td>\n",
       "      <td>1</td>\n",
       "      <td>suv</td>\n",
       "      <td>1994</td>\n",
       "      <td>manual</td>\n",
       "      <td>286</td>\n",
       "      <td>NaN</td>\n",
       "      <td>150000</td>\n",
       "      <td>11</td>\n",
       "      <td>NaN</td>\n",
       "      <td>sonstige_autos</td>\n",
       "      <td>NaN</td>\n",
       "      <td>29/03/2016 00:00</td>\n",
       "      <td>0</td>\n",
       "      <td>53721</td>\n",
       "      <td>06/04/2016 01:44</td>\n",
       "    </tr>\n",
       "    <tr>\n",
       "      <th>81</th>\n",
       "      <td>03/04/2016 12:56</td>\n",
       "      <td>350</td>\n",
       "      <td>small</td>\n",
       "      <td>1997</td>\n",
       "      <td>manual</td>\n",
       "      <td>54</td>\n",
       "      <td>NaN</td>\n",
       "      <td>150000</td>\n",
       "      <td>3</td>\n",
       "      <td>NaN</td>\n",
       "      <td>fiat</td>\n",
       "      <td>yes</td>\n",
       "      <td>03/04/2016 00:00</td>\n",
       "      <td>0</td>\n",
       "      <td>45665</td>\n",
       "      <td>05/04/2016 11:47</td>\n",
       "    </tr>\n",
       "    <tr>\n",
       "      <th>115</th>\n",
       "      <td>20/03/2016 18:53</td>\n",
       "      <td>0</td>\n",
       "      <td>small</td>\n",
       "      <td>1999</td>\n",
       "      <td>NaN</td>\n",
       "      <td>0</td>\n",
       "      <td>NaN</td>\n",
       "      <td>5000</td>\n",
       "      <td>0</td>\n",
       "      <td>petrol</td>\n",
       "      <td>volkswagen</td>\n",
       "      <td>NaN</td>\n",
       "      <td>20/03/2016 00:00</td>\n",
       "      <td>0</td>\n",
       "      <td>37520</td>\n",
       "      <td>07/04/2016 02:45</td>\n",
       "    </tr>\n",
       "    <tr>\n",
       "      <th>135</th>\n",
       "      <td>27/03/2016 20:51</td>\n",
       "      <td>1450</td>\n",
       "      <td>sedan</td>\n",
       "      <td>1992</td>\n",
       "      <td>manual</td>\n",
       "      <td>136</td>\n",
       "      <td>NaN</td>\n",
       "      <td>150000</td>\n",
       "      <td>0</td>\n",
       "      <td>NaN</td>\n",
       "      <td>audi</td>\n",
       "      <td>no</td>\n",
       "      <td>27/03/2016 00:00</td>\n",
       "      <td>0</td>\n",
       "      <td>38709</td>\n",
       "      <td>05/04/2016 20:17</td>\n",
       "    </tr>\n",
       "    <tr>\n",
       "      <th>...</th>\n",
       "      <td>...</td>\n",
       "      <td>...</td>\n",
       "      <td>...</td>\n",
       "      <td>...</td>\n",
       "      <td>...</td>\n",
       "      <td>...</td>\n",
       "      <td>...</td>\n",
       "      <td>...</td>\n",
       "      <td>...</td>\n",
       "      <td>...</td>\n",
       "      <td>...</td>\n",
       "      <td>...</td>\n",
       "      <td>...</td>\n",
       "      <td>...</td>\n",
       "      <td>...</td>\n",
       "      <td>...</td>\n",
       "    </tr>\n",
       "    <tr>\n",
       "      <th>354245</th>\n",
       "      <td>07/03/2016 16:37</td>\n",
       "      <td>560</td>\n",
       "      <td>small</td>\n",
       "      <td>2001</td>\n",
       "      <td>auto</td>\n",
       "      <td>170</td>\n",
       "      <td>NaN</td>\n",
       "      <td>90000</td>\n",
       "      <td>0</td>\n",
       "      <td>petrol</td>\n",
       "      <td>fiat</td>\n",
       "      <td>yes</td>\n",
       "      <td>07/03/2016 00:00</td>\n",
       "      <td>0</td>\n",
       "      <td>55743</td>\n",
       "      <td>12/03/2016 21:45</td>\n",
       "    </tr>\n",
       "    <tr>\n",
       "      <th>354321</th>\n",
       "      <td>15/03/2016 13:52</td>\n",
       "      <td>9400</td>\n",
       "      <td>wagon</td>\n",
       "      <td>2007</td>\n",
       "      <td>manual</td>\n",
       "      <td>200</td>\n",
       "      <td>NaN</td>\n",
       "      <td>150000</td>\n",
       "      <td>4</td>\n",
       "      <td>gasoline</td>\n",
       "      <td>sonstige_autos</td>\n",
       "      <td>yes</td>\n",
       "      <td>15/03/2016 00:00</td>\n",
       "      <td>0</td>\n",
       "      <td>91186</td>\n",
       "      <td>17/03/2016 08:16</td>\n",
       "    </tr>\n",
       "    <tr>\n",
       "      <th>354338</th>\n",
       "      <td>31/03/2016 19:52</td>\n",
       "      <td>180</td>\n",
       "      <td>NaN</td>\n",
       "      <td>1995</td>\n",
       "      <td>NaN</td>\n",
       "      <td>0</td>\n",
       "      <td>NaN</td>\n",
       "      <td>125000</td>\n",
       "      <td>3</td>\n",
       "      <td>petrol</td>\n",
       "      <td>opel</td>\n",
       "      <td>NaN</td>\n",
       "      <td>31/03/2016 00:00</td>\n",
       "      <td>0</td>\n",
       "      <td>41470</td>\n",
       "      <td>06/04/2016 14:18</td>\n",
       "    </tr>\n",
       "    <tr>\n",
       "      <th>354351</th>\n",
       "      <td>11/03/2016 23:40</td>\n",
       "      <td>1900</td>\n",
       "      <td>NaN</td>\n",
       "      <td>2000</td>\n",
       "      <td>manual</td>\n",
       "      <td>110</td>\n",
       "      <td>NaN</td>\n",
       "      <td>150000</td>\n",
       "      <td>7</td>\n",
       "      <td>NaN</td>\n",
       "      <td>volkswagen</td>\n",
       "      <td>no</td>\n",
       "      <td>11/03/2016 00:00</td>\n",
       "      <td>0</td>\n",
       "      <td>87700</td>\n",
       "      <td>12/03/2016 14:16</td>\n",
       "    </tr>\n",
       "    <tr>\n",
       "      <th>354365</th>\n",
       "      <td>14/03/2016 17:48</td>\n",
       "      <td>2200</td>\n",
       "      <td>NaN</td>\n",
       "      <td>2005</td>\n",
       "      <td>NaN</td>\n",
       "      <td>0</td>\n",
       "      <td>NaN</td>\n",
       "      <td>20000</td>\n",
       "      <td>1</td>\n",
       "      <td>NaN</td>\n",
       "      <td>sonstige_autos</td>\n",
       "      <td>NaN</td>\n",
       "      <td>14/03/2016 00:00</td>\n",
       "      <td>0</td>\n",
       "      <td>39576</td>\n",
       "      <td>06/04/2016 00:46</td>\n",
       "    </tr>\n",
       "  </tbody>\n",
       "</table>\n",
       "<p>19701 rows × 16 columns</p>\n",
       "</div>"
      ],
      "text/plain": [
       "             DateCrawled  Price VehicleType  RegistrationYear Gearbox  Power  \\\n",
       "1       24/03/2016 10:58  18300       coupe              2011  manual    190   \n",
       "59      29/03/2016 15:48      1         suv              1994  manual    286   \n",
       "81      03/04/2016 12:56    350       small              1997  manual     54   \n",
       "115     20/03/2016 18:53      0       small              1999     NaN      0   \n",
       "135     27/03/2016 20:51   1450       sedan              1992  manual    136   \n",
       "...                  ...    ...         ...               ...     ...    ...   \n",
       "354245  07/03/2016 16:37    560       small              2001    auto    170   \n",
       "354321  15/03/2016 13:52   9400       wagon              2007  manual    200   \n",
       "354338  31/03/2016 19:52    180         NaN              1995     NaN      0   \n",
       "354351  11/03/2016 23:40   1900         NaN              2000  manual    110   \n",
       "354365  14/03/2016 17:48   2200         NaN              2005     NaN      0   \n",
       "\n",
       "       Model  Mileage  RegistrationMonth  FuelType           Brand  \\\n",
       "1        NaN   125000                  5  gasoline            audi   \n",
       "59       NaN   150000                 11       NaN  sonstige_autos   \n",
       "81       NaN   150000                  3       NaN            fiat   \n",
       "115      NaN     5000                  0    petrol      volkswagen   \n",
       "135      NaN   150000                  0       NaN            audi   \n",
       "...      ...      ...                ...       ...             ...   \n",
       "354245   NaN    90000                  0    petrol            fiat   \n",
       "354321   NaN   150000                  4  gasoline  sonstige_autos   \n",
       "354338   NaN   125000                  3    petrol            opel   \n",
       "354351   NaN   150000                  7       NaN      volkswagen   \n",
       "354365   NaN    20000                  1       NaN  sonstige_autos   \n",
       "\n",
       "       NotRepaired       DateCreated  NumberOfPictures  PostalCode  \\\n",
       "1              yes  24/03/2016 00:00                 0       66954   \n",
       "59             NaN  29/03/2016 00:00                 0       53721   \n",
       "81             yes  03/04/2016 00:00                 0       45665   \n",
       "115            NaN  20/03/2016 00:00                 0       37520   \n",
       "135             no  27/03/2016 00:00                 0       38709   \n",
       "...            ...               ...               ...         ...   \n",
       "354245         yes  07/03/2016 00:00                 0       55743   \n",
       "354321         yes  15/03/2016 00:00                 0       91186   \n",
       "354338         NaN  31/03/2016 00:00                 0       41470   \n",
       "354351          no  11/03/2016 00:00                 0       87700   \n",
       "354365         NaN  14/03/2016 00:00                 0       39576   \n",
       "\n",
       "                LastSeen  \n",
       "1       07/04/2016 01:46  \n",
       "59      06/04/2016 01:44  \n",
       "81      05/04/2016 11:47  \n",
       "115     07/04/2016 02:45  \n",
       "135     05/04/2016 20:17  \n",
       "...                  ...  \n",
       "354245  12/03/2016 21:45  \n",
       "354321  17/03/2016 08:16  \n",
       "354338  06/04/2016 14:18  \n",
       "354351  12/03/2016 14:16  \n",
       "354365  06/04/2016 00:46  \n",
       "\n",
       "[19701 rows x 16 columns]"
      ]
     },
     "execution_count": 11,
     "metadata": {},
     "output_type": "execute_result"
    }
   ],
   "source": [
    "df[df['Model'].isna()]"
   ]
  },
  {
   "cell_type": "markdown",
   "metadata": {},
   "source": [
    "- No se pueden imputar datos, puesto que no se conoce el modelo a pesar de conocer la marca o el tipo de vehículo.\n",
    "- La cantidad de datos faltantes es cerca del 5% de la cantidad total."
   ]
  },
  {
   "cell_type": "markdown",
   "metadata": {},
   "source": [
    "#### Columna Fuel Type"
   ]
  },
  {
   "cell_type": "code",
   "execution_count": 12,
   "metadata": {
    "scrolled": true
   },
   "outputs": [
    {
     "data": {
      "text/html": [
       "<div>\n",
       "<style scoped>\n",
       "    .dataframe tbody tr th:only-of-type {\n",
       "        vertical-align: middle;\n",
       "    }\n",
       "\n",
       "    .dataframe tbody tr th {\n",
       "        vertical-align: top;\n",
       "    }\n",
       "\n",
       "    .dataframe thead th {\n",
       "        text-align: right;\n",
       "    }\n",
       "</style>\n",
       "<table border=\"1\" class=\"dataframe\">\n",
       "  <thead>\n",
       "    <tr style=\"text-align: right;\">\n",
       "      <th></th>\n",
       "      <th>DateCrawled</th>\n",
       "      <th>Price</th>\n",
       "      <th>VehicleType</th>\n",
       "      <th>RegistrationYear</th>\n",
       "      <th>Gearbox</th>\n",
       "      <th>Power</th>\n",
       "      <th>Model</th>\n",
       "      <th>Mileage</th>\n",
       "      <th>RegistrationMonth</th>\n",
       "      <th>FuelType</th>\n",
       "      <th>Brand</th>\n",
       "      <th>NotRepaired</th>\n",
       "      <th>DateCreated</th>\n",
       "      <th>NumberOfPictures</th>\n",
       "      <th>PostalCode</th>\n",
       "      <th>LastSeen</th>\n",
       "    </tr>\n",
       "  </thead>\n",
       "  <tbody>\n",
       "    <tr>\n",
       "      <th>9</th>\n",
       "      <td>17/03/2016 10:53</td>\n",
       "      <td>999</td>\n",
       "      <td>small</td>\n",
       "      <td>1998</td>\n",
       "      <td>manual</td>\n",
       "      <td>101</td>\n",
       "      <td>golf</td>\n",
       "      <td>150000</td>\n",
       "      <td>0</td>\n",
       "      <td>NaN</td>\n",
       "      <td>volkswagen</td>\n",
       "      <td>NaN</td>\n",
       "      <td>17/03/2016 00:00</td>\n",
       "      <td>0</td>\n",
       "      <td>27472</td>\n",
       "      <td>31/03/2016 17:17</td>\n",
       "    </tr>\n",
       "    <tr>\n",
       "      <th>13</th>\n",
       "      <td>21/03/2016 21:37</td>\n",
       "      <td>2500</td>\n",
       "      <td>wagon</td>\n",
       "      <td>2004</td>\n",
       "      <td>manual</td>\n",
       "      <td>131</td>\n",
       "      <td>passat</td>\n",
       "      <td>150000</td>\n",
       "      <td>2</td>\n",
       "      <td>NaN</td>\n",
       "      <td>volkswagen</td>\n",
       "      <td>no</td>\n",
       "      <td>21/03/2016 00:00</td>\n",
       "      <td>0</td>\n",
       "      <td>90762</td>\n",
       "      <td>23/03/2016 02:50</td>\n",
       "    </tr>\n",
       "    <tr>\n",
       "      <th>26</th>\n",
       "      <td>10/03/2016 19:38</td>\n",
       "      <td>5555</td>\n",
       "      <td>NaN</td>\n",
       "      <td>2017</td>\n",
       "      <td>manual</td>\n",
       "      <td>125</td>\n",
       "      <td>c4</td>\n",
       "      <td>125000</td>\n",
       "      <td>4</td>\n",
       "      <td>NaN</td>\n",
       "      <td>citroen</td>\n",
       "      <td>no</td>\n",
       "      <td>10/03/2016 00:00</td>\n",
       "      <td>0</td>\n",
       "      <td>31139</td>\n",
       "      <td>16/03/2016 09:16</td>\n",
       "    </tr>\n",
       "    <tr>\n",
       "      <th>36</th>\n",
       "      <td>11/03/2016 11:50</td>\n",
       "      <td>1600</td>\n",
       "      <td>other</td>\n",
       "      <td>1991</td>\n",
       "      <td>manual</td>\n",
       "      <td>75</td>\n",
       "      <td>kadett</td>\n",
       "      <td>70000</td>\n",
       "      <td>0</td>\n",
       "      <td>NaN</td>\n",
       "      <td>opel</td>\n",
       "      <td>NaN</td>\n",
       "      <td>11/03/2016 00:00</td>\n",
       "      <td>0</td>\n",
       "      <td>2943</td>\n",
       "      <td>07/04/2016 03:46</td>\n",
       "    </tr>\n",
       "    <tr>\n",
       "      <th>41</th>\n",
       "      <td>30/03/2016 20:38</td>\n",
       "      <td>7500</td>\n",
       "      <td>sedan</td>\n",
       "      <td>2002</td>\n",
       "      <td>auto</td>\n",
       "      <td>306</td>\n",
       "      <td>e_klasse</td>\n",
       "      <td>150000</td>\n",
       "      <td>4</td>\n",
       "      <td>NaN</td>\n",
       "      <td>mercedes_benz</td>\n",
       "      <td>NaN</td>\n",
       "      <td>30/03/2016 00:00</td>\n",
       "      <td>0</td>\n",
       "      <td>33649</td>\n",
       "      <td>03/04/2016 11:44</td>\n",
       "    </tr>\n",
       "    <tr>\n",
       "      <th>...</th>\n",
       "      <td>...</td>\n",
       "      <td>...</td>\n",
       "      <td>...</td>\n",
       "      <td>...</td>\n",
       "      <td>...</td>\n",
       "      <td>...</td>\n",
       "      <td>...</td>\n",
       "      <td>...</td>\n",
       "      <td>...</td>\n",
       "      <td>...</td>\n",
       "      <td>...</td>\n",
       "      <td>...</td>\n",
       "      <td>...</td>\n",
       "      <td>...</td>\n",
       "      <td>...</td>\n",
       "      <td>...</td>\n",
       "    </tr>\n",
       "    <tr>\n",
       "      <th>354339</th>\n",
       "      <td>20/03/2016 12:46</td>\n",
       "      <td>3850</td>\n",
       "      <td>convertible</td>\n",
       "      <td>2006</td>\n",
       "      <td>manual</td>\n",
       "      <td>108</td>\n",
       "      <td>2_reihe</td>\n",
       "      <td>125000</td>\n",
       "      <td>2</td>\n",
       "      <td>NaN</td>\n",
       "      <td>peugeot</td>\n",
       "      <td>no</td>\n",
       "      <td>20/03/2016 00:00</td>\n",
       "      <td>0</td>\n",
       "      <td>53947</td>\n",
       "      <td>26/03/2016 21:18</td>\n",
       "    </tr>\n",
       "    <tr>\n",
       "      <th>354346</th>\n",
       "      <td>07/03/2016 17:06</td>\n",
       "      <td>2600</td>\n",
       "      <td>NaN</td>\n",
       "      <td>2005</td>\n",
       "      <td>auto</td>\n",
       "      <td>0</td>\n",
       "      <td>c_klasse</td>\n",
       "      <td>150000</td>\n",
       "      <td>9</td>\n",
       "      <td>NaN</td>\n",
       "      <td>mercedes_benz</td>\n",
       "      <td>NaN</td>\n",
       "      <td>07/03/2016 00:00</td>\n",
       "      <td>0</td>\n",
       "      <td>61169</td>\n",
       "      <td>08/03/2016 21:28</td>\n",
       "    </tr>\n",
       "    <tr>\n",
       "      <th>354351</th>\n",
       "      <td>11/03/2016 23:40</td>\n",
       "      <td>1900</td>\n",
       "      <td>NaN</td>\n",
       "      <td>2000</td>\n",
       "      <td>manual</td>\n",
       "      <td>110</td>\n",
       "      <td>NaN</td>\n",
       "      <td>150000</td>\n",
       "      <td>7</td>\n",
       "      <td>NaN</td>\n",
       "      <td>volkswagen</td>\n",
       "      <td>no</td>\n",
       "      <td>11/03/2016 00:00</td>\n",
       "      <td>0</td>\n",
       "      <td>87700</td>\n",
       "      <td>12/03/2016 14:16</td>\n",
       "    </tr>\n",
       "    <tr>\n",
       "      <th>354361</th>\n",
       "      <td>09/03/2016 13:37</td>\n",
       "      <td>5250</td>\n",
       "      <td>NaN</td>\n",
       "      <td>2016</td>\n",
       "      <td>auto</td>\n",
       "      <td>150</td>\n",
       "      <td>159</td>\n",
       "      <td>150000</td>\n",
       "      <td>12</td>\n",
       "      <td>NaN</td>\n",
       "      <td>alfa_romeo</td>\n",
       "      <td>no</td>\n",
       "      <td>09/03/2016 00:00</td>\n",
       "      <td>0</td>\n",
       "      <td>51371</td>\n",
       "      <td>13/03/2016 01:44</td>\n",
       "    </tr>\n",
       "    <tr>\n",
       "      <th>354365</th>\n",
       "      <td>14/03/2016 17:48</td>\n",
       "      <td>2200</td>\n",
       "      <td>NaN</td>\n",
       "      <td>2005</td>\n",
       "      <td>NaN</td>\n",
       "      <td>0</td>\n",
       "      <td>NaN</td>\n",
       "      <td>20000</td>\n",
       "      <td>1</td>\n",
       "      <td>NaN</td>\n",
       "      <td>sonstige_autos</td>\n",
       "      <td>NaN</td>\n",
       "      <td>14/03/2016 00:00</td>\n",
       "      <td>0</td>\n",
       "      <td>39576</td>\n",
       "      <td>06/04/2016 00:46</td>\n",
       "    </tr>\n",
       "  </tbody>\n",
       "</table>\n",
       "<p>32889 rows × 16 columns</p>\n",
       "</div>"
      ],
      "text/plain": [
       "             DateCrawled  Price  VehicleType  RegistrationYear Gearbox  Power  \\\n",
       "9       17/03/2016 10:53    999        small              1998  manual    101   \n",
       "13      21/03/2016 21:37   2500        wagon              2004  manual    131   \n",
       "26      10/03/2016 19:38   5555          NaN              2017  manual    125   \n",
       "36      11/03/2016 11:50   1600        other              1991  manual     75   \n",
       "41      30/03/2016 20:38   7500        sedan              2002    auto    306   \n",
       "...                  ...    ...          ...               ...     ...    ...   \n",
       "354339  20/03/2016 12:46   3850  convertible              2006  manual    108   \n",
       "354346  07/03/2016 17:06   2600          NaN              2005    auto      0   \n",
       "354351  11/03/2016 23:40   1900          NaN              2000  manual    110   \n",
       "354361  09/03/2016 13:37   5250          NaN              2016    auto    150   \n",
       "354365  14/03/2016 17:48   2200          NaN              2005     NaN      0   \n",
       "\n",
       "           Model  Mileage  RegistrationMonth FuelType           Brand  \\\n",
       "9           golf   150000                  0      NaN      volkswagen   \n",
       "13        passat   150000                  2      NaN      volkswagen   \n",
       "26            c4   125000                  4      NaN         citroen   \n",
       "36        kadett    70000                  0      NaN            opel   \n",
       "41      e_klasse   150000                  4      NaN   mercedes_benz   \n",
       "...          ...      ...                ...      ...             ...   \n",
       "354339   2_reihe   125000                  2      NaN         peugeot   \n",
       "354346  c_klasse   150000                  9      NaN   mercedes_benz   \n",
       "354351       NaN   150000                  7      NaN      volkswagen   \n",
       "354361       159   150000                 12      NaN      alfa_romeo   \n",
       "354365       NaN    20000                  1      NaN  sonstige_autos   \n",
       "\n",
       "       NotRepaired       DateCreated  NumberOfPictures  PostalCode  \\\n",
       "9              NaN  17/03/2016 00:00                 0       27472   \n",
       "13              no  21/03/2016 00:00                 0       90762   \n",
       "26              no  10/03/2016 00:00                 0       31139   \n",
       "36             NaN  11/03/2016 00:00                 0        2943   \n",
       "41             NaN  30/03/2016 00:00                 0       33649   \n",
       "...            ...               ...               ...         ...   \n",
       "354339          no  20/03/2016 00:00                 0       53947   \n",
       "354346         NaN  07/03/2016 00:00                 0       61169   \n",
       "354351          no  11/03/2016 00:00                 0       87700   \n",
       "354361          no  09/03/2016 00:00                 0       51371   \n",
       "354365         NaN  14/03/2016 00:00                 0       39576   \n",
       "\n",
       "                LastSeen  \n",
       "9       31/03/2016 17:17  \n",
       "13      23/03/2016 02:50  \n",
       "26      16/03/2016 09:16  \n",
       "36      07/04/2016 03:46  \n",
       "41      03/04/2016 11:44  \n",
       "...                  ...  \n",
       "354339  26/03/2016 21:18  \n",
       "354346  08/03/2016 21:28  \n",
       "354351  12/03/2016 14:16  \n",
       "354361  13/03/2016 01:44  \n",
       "354365  06/04/2016 00:46  \n",
       "\n",
       "[32889 rows x 16 columns]"
      ]
     },
     "execution_count": 12,
     "metadata": {},
     "output_type": "execute_result"
    }
   ],
   "source": [
    "df[df['FuelType'].isna()]"
   ]
  },
  {
   "cell_type": "markdown",
   "metadata": {},
   "source": [
    "- No se pueden imputar datos, puesto que no se conoce el tipo de combustible que utiliza cada auto.\n",
    "- La cantidad de datos faltantes es cerca del 9% de la cantidad total."
   ]
  },
  {
   "cell_type": "markdown",
   "metadata": {},
   "source": [
    "#### Columna Not Repaired"
   ]
  },
  {
   "cell_type": "code",
   "execution_count": 13,
   "metadata": {},
   "outputs": [
    {
     "data": {
      "text/html": [
       "<div>\n",
       "<style scoped>\n",
       "    .dataframe tbody tr th:only-of-type {\n",
       "        vertical-align: middle;\n",
       "    }\n",
       "\n",
       "    .dataframe tbody tr th {\n",
       "        vertical-align: top;\n",
       "    }\n",
       "\n",
       "    .dataframe thead th {\n",
       "        text-align: right;\n",
       "    }\n",
       "</style>\n",
       "<table border=\"1\" class=\"dataframe\">\n",
       "  <thead>\n",
       "    <tr style=\"text-align: right;\">\n",
       "      <th></th>\n",
       "      <th>DateCrawled</th>\n",
       "      <th>Price</th>\n",
       "      <th>VehicleType</th>\n",
       "      <th>RegistrationYear</th>\n",
       "      <th>Gearbox</th>\n",
       "      <th>Power</th>\n",
       "      <th>Model</th>\n",
       "      <th>Mileage</th>\n",
       "      <th>RegistrationMonth</th>\n",
       "      <th>FuelType</th>\n",
       "      <th>Brand</th>\n",
       "      <th>NotRepaired</th>\n",
       "      <th>DateCreated</th>\n",
       "      <th>NumberOfPictures</th>\n",
       "      <th>PostalCode</th>\n",
       "      <th>LastSeen</th>\n",
       "    </tr>\n",
       "  </thead>\n",
       "  <tbody>\n",
       "    <tr>\n",
       "      <th>0</th>\n",
       "      <td>24/03/2016 11:52</td>\n",
       "      <td>480</td>\n",
       "      <td>NaN</td>\n",
       "      <td>1993</td>\n",
       "      <td>manual</td>\n",
       "      <td>0</td>\n",
       "      <td>golf</td>\n",
       "      <td>150000</td>\n",
       "      <td>0</td>\n",
       "      <td>petrol</td>\n",
       "      <td>volkswagen</td>\n",
       "      <td>NaN</td>\n",
       "      <td>24/03/2016 00:00</td>\n",
       "      <td>0</td>\n",
       "      <td>70435</td>\n",
       "      <td>07/04/2016 03:16</td>\n",
       "    </tr>\n",
       "    <tr>\n",
       "      <th>2</th>\n",
       "      <td>14/03/2016 12:52</td>\n",
       "      <td>9800</td>\n",
       "      <td>suv</td>\n",
       "      <td>2004</td>\n",
       "      <td>auto</td>\n",
       "      <td>163</td>\n",
       "      <td>grand</td>\n",
       "      <td>125000</td>\n",
       "      <td>8</td>\n",
       "      <td>gasoline</td>\n",
       "      <td>jeep</td>\n",
       "      <td>NaN</td>\n",
       "      <td>14/03/2016 00:00</td>\n",
       "      <td>0</td>\n",
       "      <td>90480</td>\n",
       "      <td>05/04/2016 12:47</td>\n",
       "    </tr>\n",
       "    <tr>\n",
       "      <th>8</th>\n",
       "      <td>04/04/2016 23:42</td>\n",
       "      <td>14500</td>\n",
       "      <td>bus</td>\n",
       "      <td>2014</td>\n",
       "      <td>manual</td>\n",
       "      <td>125</td>\n",
       "      <td>c_max</td>\n",
       "      <td>30000</td>\n",
       "      <td>8</td>\n",
       "      <td>petrol</td>\n",
       "      <td>ford</td>\n",
       "      <td>NaN</td>\n",
       "      <td>04/04/2016 00:00</td>\n",
       "      <td>0</td>\n",
       "      <td>94505</td>\n",
       "      <td>04/04/2016 23:42</td>\n",
       "    </tr>\n",
       "    <tr>\n",
       "      <th>9</th>\n",
       "      <td>17/03/2016 10:53</td>\n",
       "      <td>999</td>\n",
       "      <td>small</td>\n",
       "      <td>1998</td>\n",
       "      <td>manual</td>\n",
       "      <td>101</td>\n",
       "      <td>golf</td>\n",
       "      <td>150000</td>\n",
       "      <td>0</td>\n",
       "      <td>NaN</td>\n",
       "      <td>volkswagen</td>\n",
       "      <td>NaN</td>\n",
       "      <td>17/03/2016 00:00</td>\n",
       "      <td>0</td>\n",
       "      <td>27472</td>\n",
       "      <td>31/03/2016 17:17</td>\n",
       "    </tr>\n",
       "    <tr>\n",
       "      <th>12</th>\n",
       "      <td>15/03/2016 22:49</td>\n",
       "      <td>999</td>\n",
       "      <td>wagon</td>\n",
       "      <td>1995</td>\n",
       "      <td>manual</td>\n",
       "      <td>115</td>\n",
       "      <td>passat</td>\n",
       "      <td>150000</td>\n",
       "      <td>11</td>\n",
       "      <td>petrol</td>\n",
       "      <td>volkswagen</td>\n",
       "      <td>NaN</td>\n",
       "      <td>15/03/2016 00:00</td>\n",
       "      <td>0</td>\n",
       "      <td>37269</td>\n",
       "      <td>01/04/2016 13:16</td>\n",
       "    </tr>\n",
       "    <tr>\n",
       "      <th>...</th>\n",
       "      <td>...</td>\n",
       "      <td>...</td>\n",
       "      <td>...</td>\n",
       "      <td>...</td>\n",
       "      <td>...</td>\n",
       "      <td>...</td>\n",
       "      <td>...</td>\n",
       "      <td>...</td>\n",
       "      <td>...</td>\n",
       "      <td>...</td>\n",
       "      <td>...</td>\n",
       "      <td>...</td>\n",
       "      <td>...</td>\n",
       "      <td>...</td>\n",
       "      <td>...</td>\n",
       "      <td>...</td>\n",
       "    </tr>\n",
       "    <tr>\n",
       "      <th>354349</th>\n",
       "      <td>16/03/2016 17:06</td>\n",
       "      <td>5999</td>\n",
       "      <td>wagon</td>\n",
       "      <td>2005</td>\n",
       "      <td>manual</td>\n",
       "      <td>140</td>\n",
       "      <td>a4</td>\n",
       "      <td>150000</td>\n",
       "      <td>4</td>\n",
       "      <td>gasoline</td>\n",
       "      <td>audi</td>\n",
       "      <td>NaN</td>\n",
       "      <td>16/03/2016 00:00</td>\n",
       "      <td>0</td>\n",
       "      <td>56472</td>\n",
       "      <td>18/03/2016 11:30</td>\n",
       "    </tr>\n",
       "    <tr>\n",
       "      <th>354356</th>\n",
       "      <td>04/04/2016 11:45</td>\n",
       "      <td>999</td>\n",
       "      <td>convertible</td>\n",
       "      <td>2000</td>\n",
       "      <td>manual</td>\n",
       "      <td>95</td>\n",
       "      <td>megane</td>\n",
       "      <td>150000</td>\n",
       "      <td>4</td>\n",
       "      <td>petrol</td>\n",
       "      <td>renault</td>\n",
       "      <td>NaN</td>\n",
       "      <td>04/04/2016 00:00</td>\n",
       "      <td>0</td>\n",
       "      <td>88477</td>\n",
       "      <td>06/04/2016 12:44</td>\n",
       "    </tr>\n",
       "    <tr>\n",
       "      <th>354357</th>\n",
       "      <td>09/03/2016 11:36</td>\n",
       "      <td>1690</td>\n",
       "      <td>wagon</td>\n",
       "      <td>2004</td>\n",
       "      <td>manual</td>\n",
       "      <td>55</td>\n",
       "      <td>fabia</td>\n",
       "      <td>150000</td>\n",
       "      <td>4</td>\n",
       "      <td>petrol</td>\n",
       "      <td>skoda</td>\n",
       "      <td>NaN</td>\n",
       "      <td>09/03/2016 00:00</td>\n",
       "      <td>0</td>\n",
       "      <td>18246</td>\n",
       "      <td>04/04/2016 08:15</td>\n",
       "    </tr>\n",
       "    <tr>\n",
       "      <th>354365</th>\n",
       "      <td>14/03/2016 17:48</td>\n",
       "      <td>2200</td>\n",
       "      <td>NaN</td>\n",
       "      <td>2005</td>\n",
       "      <td>NaN</td>\n",
       "      <td>0</td>\n",
       "      <td>NaN</td>\n",
       "      <td>20000</td>\n",
       "      <td>1</td>\n",
       "      <td>NaN</td>\n",
       "      <td>sonstige_autos</td>\n",
       "      <td>NaN</td>\n",
       "      <td>14/03/2016 00:00</td>\n",
       "      <td>0</td>\n",
       "      <td>39576</td>\n",
       "      <td>06/04/2016 00:46</td>\n",
       "    </tr>\n",
       "    <tr>\n",
       "      <th>354368</th>\n",
       "      <td>20/03/2016 19:41</td>\n",
       "      <td>3400</td>\n",
       "      <td>wagon</td>\n",
       "      <td>2002</td>\n",
       "      <td>manual</td>\n",
       "      <td>100</td>\n",
       "      <td>golf</td>\n",
       "      <td>150000</td>\n",
       "      <td>6</td>\n",
       "      <td>gasoline</td>\n",
       "      <td>volkswagen</td>\n",
       "      <td>NaN</td>\n",
       "      <td>20/03/2016 00:00</td>\n",
       "      <td>0</td>\n",
       "      <td>40764</td>\n",
       "      <td>24/03/2016 12:45</td>\n",
       "    </tr>\n",
       "  </tbody>\n",
       "</table>\n",
       "<p>71145 rows × 16 columns</p>\n",
       "</div>"
      ],
      "text/plain": [
       "             DateCrawled  Price  VehicleType  RegistrationYear Gearbox  Power  \\\n",
       "0       24/03/2016 11:52    480          NaN              1993  manual      0   \n",
       "2       14/03/2016 12:52   9800          suv              2004    auto    163   \n",
       "8       04/04/2016 23:42  14500          bus              2014  manual    125   \n",
       "9       17/03/2016 10:53    999        small              1998  manual    101   \n",
       "12      15/03/2016 22:49    999        wagon              1995  manual    115   \n",
       "...                  ...    ...          ...               ...     ...    ...   \n",
       "354349  16/03/2016 17:06   5999        wagon              2005  manual    140   \n",
       "354356  04/04/2016 11:45    999  convertible              2000  manual     95   \n",
       "354357  09/03/2016 11:36   1690        wagon              2004  manual     55   \n",
       "354365  14/03/2016 17:48   2200          NaN              2005     NaN      0   \n",
       "354368  20/03/2016 19:41   3400        wagon              2002  manual    100   \n",
       "\n",
       "         Model  Mileage  RegistrationMonth  FuelType           Brand  \\\n",
       "0         golf   150000                  0    petrol      volkswagen   \n",
       "2        grand   125000                  8  gasoline            jeep   \n",
       "8        c_max    30000                  8    petrol            ford   \n",
       "9         golf   150000                  0       NaN      volkswagen   \n",
       "12      passat   150000                 11    petrol      volkswagen   \n",
       "...        ...      ...                ...       ...             ...   \n",
       "354349      a4   150000                  4  gasoline            audi   \n",
       "354356  megane   150000                  4    petrol         renault   \n",
       "354357   fabia   150000                  4    petrol           skoda   \n",
       "354365     NaN    20000                  1       NaN  sonstige_autos   \n",
       "354368    golf   150000                  6  gasoline      volkswagen   \n",
       "\n",
       "       NotRepaired       DateCreated  NumberOfPictures  PostalCode  \\\n",
       "0              NaN  24/03/2016 00:00                 0       70435   \n",
       "2              NaN  14/03/2016 00:00                 0       90480   \n",
       "8              NaN  04/04/2016 00:00                 0       94505   \n",
       "9              NaN  17/03/2016 00:00                 0       27472   \n",
       "12             NaN  15/03/2016 00:00                 0       37269   \n",
       "...            ...               ...               ...         ...   \n",
       "354349         NaN  16/03/2016 00:00                 0       56472   \n",
       "354356         NaN  04/04/2016 00:00                 0       88477   \n",
       "354357         NaN  09/03/2016 00:00                 0       18246   \n",
       "354365         NaN  14/03/2016 00:00                 0       39576   \n",
       "354368         NaN  20/03/2016 00:00                 0       40764   \n",
       "\n",
       "                LastSeen  \n",
       "0       07/04/2016 03:16  \n",
       "2       05/04/2016 12:47  \n",
       "8       04/04/2016 23:42  \n",
       "9       31/03/2016 17:17  \n",
       "12      01/04/2016 13:16  \n",
       "...                  ...  \n",
       "354349  18/03/2016 11:30  \n",
       "354356  06/04/2016 12:44  \n",
       "354357  04/04/2016 08:15  \n",
       "354365  06/04/2016 00:46  \n",
       "354368  24/03/2016 12:45  \n",
       "\n",
       "[71145 rows x 16 columns]"
      ]
     },
     "execution_count": 13,
     "metadata": {},
     "output_type": "execute_result"
    }
   ],
   "source": [
    "df[df['NotRepaired'].isna()]"
   ]
  },
  {
   "cell_type": "markdown",
   "metadata": {},
   "source": [
    "- No se pueden imputar datos, puesto que no se conoce si cada auto ha sido reparado.\n",
    "- La cantidad de datos faltantes es cerca del 20% de la cantidad total."
   ]
  },
  {
   "cell_type": "markdown",
   "metadata": {},
   "source": [
    "#### Eliminación de datos"
   ]
  },
  {
   "cell_type": "code",
   "execution_count": 14,
   "metadata": {
    "scrolled": true
   },
   "outputs": [
    {
     "name": "stdout",
     "output_type": "stream",
     "text": [
      "<class 'pandas.core.frame.DataFrame'>\n",
      "Index: 245567 entries, 3 to 354367\n",
      "Data columns (total 16 columns):\n",
      " #   Column             Non-Null Count   Dtype \n",
      "---  ------             --------------   ----- \n",
      " 0   DateCrawled        245567 non-null  object\n",
      " 1   Price              245567 non-null  int64 \n",
      " 2   VehicleType        245567 non-null  object\n",
      " 3   RegistrationYear   245567 non-null  int64 \n",
      " 4   Gearbox            245567 non-null  object\n",
      " 5   Power              245567 non-null  int64 \n",
      " 6   Model              245567 non-null  object\n",
      " 7   Mileage            245567 non-null  int64 \n",
      " 8   RegistrationMonth  245567 non-null  int64 \n",
      " 9   FuelType           245567 non-null  object\n",
      " 10  Brand              245567 non-null  object\n",
      " 11  NotRepaired        245567 non-null  object\n",
      " 12  DateCreated        245567 non-null  object\n",
      " 13  NumberOfPictures   245567 non-null  int64 \n",
      " 14  PostalCode         245567 non-null  int64 \n",
      " 15  LastSeen           245567 non-null  object\n",
      "dtypes: int64(7), object(9)\n",
      "memory usage: 31.8+ MB\n"
     ]
    }
   ],
   "source": [
    "df.dropna(inplace=True)\n",
    "df.info()"
   ]
  },
  {
   "cell_type": "markdown",
   "metadata": {},
   "source": [
    "### Tipos de Datos"
   ]
  },
  {
   "cell_type": "markdown",
   "metadata": {},
   "source": [
    "#### Columna Date Crawled"
   ]
  },
  {
   "cell_type": "code",
   "execution_count": 15,
   "metadata": {},
   "outputs": [
    {
     "name": "stdout",
     "output_type": "stream",
     "text": [
      "[2016]\n",
      "[3 4]\n",
      "[17 31  4  1 21 26  7 20 23 27 12 13 18  9  8  3 25 29 15 22 30  5 11 10\n",
      " 28  2 14 16 19 24  6]\n",
      "[17 31  4  1 21 26  7 20 23 27 12 13 18  9  8  3 25 29 15 22 30  5 11 10\n",
      " 28  2 14 16 19 24  6]\n",
      "[16 17 20 18 19 10 12 15 22 11 21  0 14  8  1  9 13  7 23  6  2  4  3  5]\n"
     ]
    },
    {
     "name": "stderr",
     "output_type": "stream",
     "text": [
      "/tmp/ipykernel_16424/3693515156.py:2: UserWarning: Parsing dates in %d/%m/%Y %H:%M format when dayfirst=False (the default) was specified. Pass `dayfirst=True` or specify a format to silence this warning.\n",
      "  df['DateCrawled'] = pd.to_datetime(df['DateCrawled'])\n"
     ]
    }
   ],
   "source": [
    "#Transformación a tipo fecha\n",
    "df['DateCrawled'] = pd.to_datetime(df['DateCrawled'])\n",
    "print(df['DateCrawled'].dt.year.unique())\n",
    "print(df['DateCrawled'].dt.month.unique())\n",
    "print(df['DateCrawled'].dt.day.unique())\n",
    "print(df['DateCrawled'].dt.day.unique())\n",
    "print(df['DateCrawled'].dt.hour.unique())"
   ]
  },
  {
   "cell_type": "markdown",
   "metadata": {},
   "source": [
    "Separamos en 3 columnas que representan al mes, día y hora. \n",
    "El año se descarta por ser solo 2016"
   ]
  },
  {
   "cell_type": "code",
   "execution_count": 16,
   "metadata": {},
   "outputs": [],
   "source": [
    "#Separación en Columnas\n",
    "df['DateCrawledMonth'] = df['DateCrawled'].dt.month\n",
    "df['DateCrawledDay'] = df['DateCrawled'].dt.day\n",
    "df['DateCrawledHour'] = df['DateCrawled'].dt.hour\n",
    "df.drop(columns='DateCrawled',inplace=True)"
   ]
  },
  {
   "cell_type": "markdown",
   "metadata": {},
   "source": [
    "#### Columna Date Created"
   ]
  },
  {
   "cell_type": "code",
   "execution_count": 17,
   "metadata": {},
   "outputs": [
    {
     "name": "stdout",
     "output_type": "stream",
     "text": [
      "[2016 2015]\n",
      "[ 3  4  2 11 12  1  9  8]\n",
      "[17 31  4  1 21 26  7 20 23 27 12 13 18  9  8  3 25 29 15 22 30  5 11 10\n",
      " 28  2 14 16 19 24  6]\n",
      "[0]\n"
     ]
    },
    {
     "name": "stderr",
     "output_type": "stream",
     "text": [
      "/tmp/ipykernel_16424/3249906139.py:2: UserWarning: Parsing dates in %d/%m/%Y %H:%M format when dayfirst=False (the default) was specified. Pass `dayfirst=True` or specify a format to silence this warning.\n",
      "  df['DateCreated'] = pd.to_datetime(df['DateCreated'])\n"
     ]
    }
   ],
   "source": [
    "#Transformación a tipo fecha\n",
    "df['DateCreated'] = pd.to_datetime(df['DateCreated'])\n",
    "print(df['DateCreated'].dt.year.unique())\n",
    "print(df['DateCreated'].dt.month.unique())\n",
    "print(df['DateCreated'].dt.day.unique())\n",
    "print(df['DateCreated'].dt.hour.unique())"
   ]
  },
  {
   "cell_type": "markdown",
   "metadata": {},
   "source": [
    "Separamos en 3 columnas que representan al año,mes y día. Se descarta la hora porque todas son 0 "
   ]
  },
  {
   "cell_type": "code",
   "execution_count": 18,
   "metadata": {},
   "outputs": [],
   "source": [
    "#Separación en Columnas\n",
    "df['DateCreatedYear'] = df['DateCreated'].dt.year\n",
    "df['DateCreatedMonth'] = df['DateCreated'].dt.month\n",
    "df['DateCreatedDay'] = df['DateCreated'].dt.day\n",
    "df.drop(columns='DateCreated',inplace=True)"
   ]
  },
  {
   "cell_type": "markdown",
   "metadata": {},
   "source": [
    "#### Columna Last Seen"
   ]
  },
  {
   "cell_type": "code",
   "execution_count": 19,
   "metadata": {
    "scrolled": false
   },
   "outputs": [
    {
     "name": "stdout",
     "output_type": "stream",
     "text": [
      "[2016]\n",
      "[3 4]\n",
      "[17  6  5 25  7 21 13 18 26 10  9 30 27 29 16  1 22 11 15 31 12 23  2 20\n",
      " 24  3  4 14 19 28  8]\n",
      "[17 10 19 18 16  7 13 22  6  1 20 21  9 11 15  4 12  3  8 23 14  0  2  5]\n"
     ]
    },
    {
     "name": "stderr",
     "output_type": "stream",
     "text": [
      "/tmp/ipykernel_16424/2005253164.py:2: UserWarning: Parsing dates in %d/%m/%Y %H:%M format when dayfirst=False (the default) was specified. Pass `dayfirst=True` or specify a format to silence this warning.\n",
      "  df['LastSeen'] = pd.to_datetime(df['LastSeen'])\n"
     ]
    }
   ],
   "source": [
    "#Transformación a tipo fecha\n",
    "df['LastSeen'] = pd.to_datetime(df['LastSeen'])\n",
    "print(df['LastSeen'].dt.year.unique())\n",
    "print(df['LastSeen'].dt.month.unique())\n",
    "print(df['LastSeen'].dt.day.unique())\n",
    "print(df['LastSeen'].dt.hour.unique())"
   ]
  },
  {
   "cell_type": "markdown",
   "metadata": {},
   "source": [
    "Separamos en 3 columnas que representan al mes, día y hora. \n",
    "El año se descarta por ser solo 2016"
   ]
  },
  {
   "cell_type": "code",
   "execution_count": 20,
   "metadata": {},
   "outputs": [],
   "source": [
    "#Separación en Columnas\n",
    "df['LastSeenMonth'] = df['LastSeen'].dt.month\n",
    "df['LastSeenDay'] = df['LastSeen'].dt.day\n",
    "df['LastSeenHour'] = df['LastSeen'].dt.hour\n",
    "df.drop(columns='LastSeen',inplace=True)"
   ]
  },
  {
   "cell_type": "code",
   "execution_count": 21,
   "metadata": {},
   "outputs": [
    {
     "data": {
      "text/html": [
       "<div>\n",
       "<style scoped>\n",
       "    .dataframe tbody tr th:only-of-type {\n",
       "        vertical-align: middle;\n",
       "    }\n",
       "\n",
       "    .dataframe tbody tr th {\n",
       "        vertical-align: top;\n",
       "    }\n",
       "\n",
       "    .dataframe thead th {\n",
       "        text-align: right;\n",
       "    }\n",
       "</style>\n",
       "<table border=\"1\" class=\"dataframe\">\n",
       "  <thead>\n",
       "    <tr style=\"text-align: right;\">\n",
       "      <th></th>\n",
       "      <th>Price</th>\n",
       "      <th>VehicleType</th>\n",
       "      <th>RegistrationYear</th>\n",
       "      <th>Gearbox</th>\n",
       "      <th>Power</th>\n",
       "      <th>Model</th>\n",
       "      <th>Mileage</th>\n",
       "      <th>RegistrationMonth</th>\n",
       "      <th>FuelType</th>\n",
       "      <th>Brand</th>\n",
       "      <th>...</th>\n",
       "      <th>PostalCode</th>\n",
       "      <th>DateCrawledMonth</th>\n",
       "      <th>DateCrawledDay</th>\n",
       "      <th>DateCrawledHour</th>\n",
       "      <th>DateCreatedYear</th>\n",
       "      <th>DateCreatedMonth</th>\n",
       "      <th>DateCreatedDay</th>\n",
       "      <th>LastSeenMonth</th>\n",
       "      <th>LastSeenDay</th>\n",
       "      <th>LastSeenHour</th>\n",
       "    </tr>\n",
       "  </thead>\n",
       "  <tbody>\n",
       "    <tr>\n",
       "      <th>3</th>\n",
       "      <td>1500</td>\n",
       "      <td>small</td>\n",
       "      <td>2001</td>\n",
       "      <td>manual</td>\n",
       "      <td>75</td>\n",
       "      <td>golf</td>\n",
       "      <td>150000</td>\n",
       "      <td>6</td>\n",
       "      <td>petrol</td>\n",
       "      <td>volkswagen</td>\n",
       "      <td>...</td>\n",
       "      <td>91074</td>\n",
       "      <td>3</td>\n",
       "      <td>17</td>\n",
       "      <td>16</td>\n",
       "      <td>2016</td>\n",
       "      <td>3</td>\n",
       "      <td>17</td>\n",
       "      <td>3</td>\n",
       "      <td>17</td>\n",
       "      <td>17</td>\n",
       "    </tr>\n",
       "    <tr>\n",
       "      <th>4</th>\n",
       "      <td>3600</td>\n",
       "      <td>small</td>\n",
       "      <td>2008</td>\n",
       "      <td>manual</td>\n",
       "      <td>69</td>\n",
       "      <td>fabia</td>\n",
       "      <td>90000</td>\n",
       "      <td>7</td>\n",
       "      <td>gasoline</td>\n",
       "      <td>skoda</td>\n",
       "      <td>...</td>\n",
       "      <td>60437</td>\n",
       "      <td>3</td>\n",
       "      <td>31</td>\n",
       "      <td>17</td>\n",
       "      <td>2016</td>\n",
       "      <td>3</td>\n",
       "      <td>31</td>\n",
       "      <td>4</td>\n",
       "      <td>6</td>\n",
       "      <td>10</td>\n",
       "    </tr>\n",
       "    <tr>\n",
       "      <th>5</th>\n",
       "      <td>650</td>\n",
       "      <td>sedan</td>\n",
       "      <td>1995</td>\n",
       "      <td>manual</td>\n",
       "      <td>102</td>\n",
       "      <td>3er</td>\n",
       "      <td>150000</td>\n",
       "      <td>10</td>\n",
       "      <td>petrol</td>\n",
       "      <td>bmw</td>\n",
       "      <td>...</td>\n",
       "      <td>33775</td>\n",
       "      <td>4</td>\n",
       "      <td>4</td>\n",
       "      <td>17</td>\n",
       "      <td>2016</td>\n",
       "      <td>4</td>\n",
       "      <td>4</td>\n",
       "      <td>4</td>\n",
       "      <td>6</td>\n",
       "      <td>19</td>\n",
       "    </tr>\n",
       "    <tr>\n",
       "      <th>6</th>\n",
       "      <td>2200</td>\n",
       "      <td>convertible</td>\n",
       "      <td>2004</td>\n",
       "      <td>manual</td>\n",
       "      <td>109</td>\n",
       "      <td>2_reihe</td>\n",
       "      <td>150000</td>\n",
       "      <td>8</td>\n",
       "      <td>petrol</td>\n",
       "      <td>peugeot</td>\n",
       "      <td>...</td>\n",
       "      <td>67112</td>\n",
       "      <td>4</td>\n",
       "      <td>1</td>\n",
       "      <td>20</td>\n",
       "      <td>2016</td>\n",
       "      <td>4</td>\n",
       "      <td>1</td>\n",
       "      <td>4</td>\n",
       "      <td>5</td>\n",
       "      <td>18</td>\n",
       "    </tr>\n",
       "    <tr>\n",
       "      <th>7</th>\n",
       "      <td>0</td>\n",
       "      <td>sedan</td>\n",
       "      <td>1980</td>\n",
       "      <td>manual</td>\n",
       "      <td>50</td>\n",
       "      <td>other</td>\n",
       "      <td>40000</td>\n",
       "      <td>7</td>\n",
       "      <td>petrol</td>\n",
       "      <td>volkswagen</td>\n",
       "      <td>...</td>\n",
       "      <td>19348</td>\n",
       "      <td>3</td>\n",
       "      <td>21</td>\n",
       "      <td>18</td>\n",
       "      <td>2016</td>\n",
       "      <td>3</td>\n",
       "      <td>21</td>\n",
       "      <td>3</td>\n",
       "      <td>25</td>\n",
       "      <td>16</td>\n",
       "    </tr>\n",
       "    <tr>\n",
       "      <th>...</th>\n",
       "      <td>...</td>\n",
       "      <td>...</td>\n",
       "      <td>...</td>\n",
       "      <td>...</td>\n",
       "      <td>...</td>\n",
       "      <td>...</td>\n",
       "      <td>...</td>\n",
       "      <td>...</td>\n",
       "      <td>...</td>\n",
       "      <td>...</td>\n",
       "      <td>...</td>\n",
       "      <td>...</td>\n",
       "      <td>...</td>\n",
       "      <td>...</td>\n",
       "      <td>...</td>\n",
       "      <td>...</td>\n",
       "      <td>...</td>\n",
       "      <td>...</td>\n",
       "      <td>...</td>\n",
       "      <td>...</td>\n",
       "      <td>...</td>\n",
       "    </tr>\n",
       "    <tr>\n",
       "      <th>354360</th>\n",
       "      <td>3999</td>\n",
       "      <td>wagon</td>\n",
       "      <td>2005</td>\n",
       "      <td>manual</td>\n",
       "      <td>3</td>\n",
       "      <td>3er</td>\n",
       "      <td>150000</td>\n",
       "      <td>5</td>\n",
       "      <td>gasoline</td>\n",
       "      <td>bmw</td>\n",
       "      <td>...</td>\n",
       "      <td>81825</td>\n",
       "      <td>4</td>\n",
       "      <td>2</td>\n",
       "      <td>20</td>\n",
       "      <td>2016</td>\n",
       "      <td>4</td>\n",
       "      <td>2</td>\n",
       "      <td>4</td>\n",
       "      <td>6</td>\n",
       "      <td>20</td>\n",
       "    </tr>\n",
       "    <tr>\n",
       "      <th>354362</th>\n",
       "      <td>3200</td>\n",
       "      <td>sedan</td>\n",
       "      <td>2004</td>\n",
       "      <td>manual</td>\n",
       "      <td>225</td>\n",
       "      <td>leon</td>\n",
       "      <td>150000</td>\n",
       "      <td>5</td>\n",
       "      <td>petrol</td>\n",
       "      <td>seat</td>\n",
       "      <td>...</td>\n",
       "      <td>96465</td>\n",
       "      <td>3</td>\n",
       "      <td>19</td>\n",
       "      <td>19</td>\n",
       "      <td>2016</td>\n",
       "      <td>3</td>\n",
       "      <td>19</td>\n",
       "      <td>3</td>\n",
       "      <td>19</td>\n",
       "      <td>20</td>\n",
       "    </tr>\n",
       "    <tr>\n",
       "      <th>354363</th>\n",
       "      <td>1150</td>\n",
       "      <td>bus</td>\n",
       "      <td>2000</td>\n",
       "      <td>manual</td>\n",
       "      <td>0</td>\n",
       "      <td>zafira</td>\n",
       "      <td>150000</td>\n",
       "      <td>3</td>\n",
       "      <td>petrol</td>\n",
       "      <td>opel</td>\n",
       "      <td>...</td>\n",
       "      <td>26624</td>\n",
       "      <td>3</td>\n",
       "      <td>27</td>\n",
       "      <td>20</td>\n",
       "      <td>2016</td>\n",
       "      <td>3</td>\n",
       "      <td>27</td>\n",
       "      <td>3</td>\n",
       "      <td>29</td>\n",
       "      <td>10</td>\n",
       "    </tr>\n",
       "    <tr>\n",
       "      <th>354366</th>\n",
       "      <td>1199</td>\n",
       "      <td>convertible</td>\n",
       "      <td>2000</td>\n",
       "      <td>auto</td>\n",
       "      <td>101</td>\n",
       "      <td>fortwo</td>\n",
       "      <td>125000</td>\n",
       "      <td>3</td>\n",
       "      <td>petrol</td>\n",
       "      <td>smart</td>\n",
       "      <td>...</td>\n",
       "      <td>26135</td>\n",
       "      <td>3</td>\n",
       "      <td>5</td>\n",
       "      <td>19</td>\n",
       "      <td>2016</td>\n",
       "      <td>3</td>\n",
       "      <td>5</td>\n",
       "      <td>3</td>\n",
       "      <td>11</td>\n",
       "      <td>18</td>\n",
       "    </tr>\n",
       "    <tr>\n",
       "      <th>354367</th>\n",
       "      <td>9200</td>\n",
       "      <td>bus</td>\n",
       "      <td>1996</td>\n",
       "      <td>manual</td>\n",
       "      <td>102</td>\n",
       "      <td>transporter</td>\n",
       "      <td>150000</td>\n",
       "      <td>3</td>\n",
       "      <td>gasoline</td>\n",
       "      <td>volkswagen</td>\n",
       "      <td>...</td>\n",
       "      <td>87439</td>\n",
       "      <td>3</td>\n",
       "      <td>19</td>\n",
       "      <td>18</td>\n",
       "      <td>2016</td>\n",
       "      <td>3</td>\n",
       "      <td>19</td>\n",
       "      <td>4</td>\n",
       "      <td>7</td>\n",
       "      <td>7</td>\n",
       "    </tr>\n",
       "  </tbody>\n",
       "</table>\n",
       "<p>245567 rows × 22 columns</p>\n",
       "</div>"
      ],
      "text/plain": [
       "        Price  VehicleType  RegistrationYear Gearbox  Power        Model  \\\n",
       "3        1500        small              2001  manual     75         golf   \n",
       "4        3600        small              2008  manual     69        fabia   \n",
       "5         650        sedan              1995  manual    102          3er   \n",
       "6        2200  convertible              2004  manual    109      2_reihe   \n",
       "7           0        sedan              1980  manual     50        other   \n",
       "...       ...          ...               ...     ...    ...          ...   \n",
       "354360   3999        wagon              2005  manual      3          3er   \n",
       "354362   3200        sedan              2004  manual    225         leon   \n",
       "354363   1150          bus              2000  manual      0       zafira   \n",
       "354366   1199  convertible              2000    auto    101       fortwo   \n",
       "354367   9200          bus              1996  manual    102  transporter   \n",
       "\n",
       "        Mileage  RegistrationMonth  FuelType       Brand  ... PostalCode  \\\n",
       "3        150000                  6    petrol  volkswagen  ...      91074   \n",
       "4         90000                  7  gasoline       skoda  ...      60437   \n",
       "5        150000                 10    petrol         bmw  ...      33775   \n",
       "6        150000                  8    petrol     peugeot  ...      67112   \n",
       "7         40000                  7    petrol  volkswagen  ...      19348   \n",
       "...         ...                ...       ...         ...  ...        ...   \n",
       "354360   150000                  5  gasoline         bmw  ...      81825   \n",
       "354362   150000                  5    petrol        seat  ...      96465   \n",
       "354363   150000                  3    petrol        opel  ...      26624   \n",
       "354366   125000                  3    petrol       smart  ...      26135   \n",
       "354367   150000                  3  gasoline  volkswagen  ...      87439   \n",
       "\n",
       "        DateCrawledMonth  DateCrawledDay  DateCrawledHour  DateCreatedYear  \\\n",
       "3                      3              17               16             2016   \n",
       "4                      3              31               17             2016   \n",
       "5                      4               4               17             2016   \n",
       "6                      4               1               20             2016   \n",
       "7                      3              21               18             2016   \n",
       "...                  ...             ...              ...              ...   \n",
       "354360                 4               2               20             2016   \n",
       "354362                 3              19               19             2016   \n",
       "354363                 3              27               20             2016   \n",
       "354366                 3               5               19             2016   \n",
       "354367                 3              19               18             2016   \n",
       "\n",
       "        DateCreatedMonth  DateCreatedDay  LastSeenMonth  LastSeenDay  \\\n",
       "3                      3              17              3           17   \n",
       "4                      3              31              4            6   \n",
       "5                      4               4              4            6   \n",
       "6                      4               1              4            5   \n",
       "7                      3              21              3           25   \n",
       "...                  ...             ...            ...          ...   \n",
       "354360                 4               2              4            6   \n",
       "354362                 3              19              3           19   \n",
       "354363                 3              27              3           29   \n",
       "354366                 3               5              3           11   \n",
       "354367                 3              19              4            7   \n",
       "\n",
       "        LastSeenHour  \n",
       "3                 17  \n",
       "4                 10  \n",
       "5                 19  \n",
       "6                 18  \n",
       "7                 16  \n",
       "...              ...  \n",
       "354360            20  \n",
       "354362            20  \n",
       "354363            10  \n",
       "354366            18  \n",
       "354367             7  \n",
       "\n",
       "[245567 rows x 22 columns]"
      ]
     },
     "execution_count": 21,
     "metadata": {},
     "output_type": "execute_result"
    }
   ],
   "source": [
    "df"
   ]
  },
  {
   "cell_type": "markdown",
   "metadata": {},
   "source": [
    "### Datos Inconsistentes en el target"
   ]
  },
  {
   "cell_type": "code",
   "execution_count": 27,
   "metadata": {
    "scrolled": true
   },
   "outputs": [
    {
     "data": {
      "text/plain": [
       "count    245567.000000\n",
       "mean       5125.680959\n",
       "std        4718.468928\n",
       "min           0.000000\n",
       "25%        1499.000000\n",
       "50%        3500.000000\n",
       "75%        7500.000000\n",
       "max       20000.000000\n",
       "Name: Price, dtype: float64"
      ]
     },
     "execution_count": 27,
     "metadata": {},
     "output_type": "execute_result"
    }
   ],
   "source": [
    "df['Price'].describe()"
   ]
  },
  {
   "cell_type": "code",
   "execution_count": 28,
   "metadata": {
    "scrolled": true
   },
   "outputs": [
    {
     "data": {
      "image/png": "[encoded data removed]",
      "text/plain": [
       "<Figure size 640x480 with 1 Axes>"
      ]
     },
     "metadata": {},
     "output_type": "display_data"
    }
   ],
   "source": [
    "plt.hist(df['Price'],bins=50)\n",
    "plt.title('Car Number Per Price')\n",
    "plt.xlabel('Price ($)')\n",
    "plt.show()"
   ]
  },
  {
   "cell_type": "markdown",
   "metadata": {},
   "source": [
    "De acuerdo al los datos vistos anteriormente, existen autos con precio de 0 o 1 (e incrementando a partir de ahí), lo cual no tiene sentido en el contexto de venta de autos.\n",
    "Estos datos deben tener un valor erróneo por diferentes motivos, pero no deberían ser tomados en cuenta para no confundir al modelo, ya que nunca debería predecir un valor tan bajo.\n",
    "En base a esto, podríamos eliminar todos los datos cuyo precio esté bajo un umbral, en este caso voy a establecerlo en 100."
   ]
  },
  {
   "cell_type": "code",
   "execution_count": 31,
   "metadata": {},
   "outputs": [
    {
     "data": {
      "text/plain": [
       "count    241548.000000\n",
       "mean       5210.891057\n",
       "std        4710.704773\n",
       "min         100.000000\n",
       "25%        1500.000000\n",
       "50%        3500.000000\n",
       "75%        7500.000000\n",
       "max       20000.000000\n",
       "Name: Price, dtype: float64"
      ]
     },
     "execution_count": 31,
     "metadata": {},
     "output_type": "execute_result"
    }
   ],
   "source": [
    "#Eliminación filas con precio menor a 100\n",
    "df.drop(df[df['Price']<100].index,axis=0,inplace=True)\n",
    "df = df.reset_index(drop = True)\n",
    "#Comprobación estadísticas de Price \n",
    "df['Price'].describe()"
   ]
  },
  {
   "cell_type": "code",
   "execution_count": 32,
   "metadata": {
    "scrolled": false
   },
   "outputs": [
    {
     "data": {
      "image/png": "[encoded data removed]",
      "text/plain": [
       "<Figure size 640x480 with 1 Axes>"
      ]
     },
     "metadata": {},
     "output_type": "display_data"
    }
   ],
   "source": [
    "plt.hist(df['Price'],bins=50)\n",
    "plt.title('Car Number Per Price')\n",
    "plt.xlabel('Price ($)')\n",
    "plt.show()"
   ]
  },
  {
   "cell_type": "markdown",
   "metadata": {},
   "source": [
    "Se evidencia que el target tiene un sesgo, por lo que conviene escalarlo para que su distribución se aproxime de mejor forma a una normal, ya que vamos a plantear un modelo de regresión."
   ]
  },
  {
   "cell_type": "code",
   "execution_count": 33,
   "metadata": {},
   "outputs": [
    {
     "data": {
      "image/png": "[encoded data removed]",
      "text/plain": [
       "<Figure size 640x480 with 1 Axes>"
      ]
     },
     "metadata": {},
     "output_type": "display_data"
    }
   ],
   "source": [
    "#Escalamiento Boxcox para normalizar el target\n",
    "df['PriceScaled'], _ = boxcox(df['Price'] + 1)\n",
    "\n",
    "#Graficamos la nueva distribución\n",
    "plt.hist(df['PriceScaled'],bins=50)\n",
    "plt.title('Car Number Per Price')\n",
    "plt.xlabel('Price ($)')\n",
    "plt.show()"
   ]
  },
  {
   "cell_type": "markdown",
   "metadata": {},
   "source": [
    "Con esta herramienta, podemos decir que nuestra distribución se aproxima a una normal."
   ]
  },
  {
   "cell_type": "markdown",
   "metadata": {},
   "source": [
    "### Eliminación Columna sin datos"
   ]
  },
  {
   "cell_type": "code",
   "execution_count": 34,
   "metadata": {},
   "outputs": [
    {
     "data": {
      "text/plain": [
       "NumberOfPictures\n",
       "0    241548\n",
       "Name: count, dtype: int64"
      ]
     },
     "execution_count": 34,
     "metadata": {},
     "output_type": "execute_result"
    }
   ],
   "source": [
    "#Comprobación de los distintos valores que tiene NumberOfPictures\n",
    "df['NumberOfPictures'].value_counts()"
   ]
  },
  {
   "cell_type": "code",
   "execution_count": 35,
   "metadata": {},
   "outputs": [],
   "source": [
    "#Eliminación\n",
    "df.drop(columns='NumberOfPictures',axis=1,inplace=True)"
   ]
  },
  {
   "cell_type": "markdown",
   "metadata": {},
   "source": [
    "### Codificación Variables Categóricas"
   ]
  },
  {
   "cell_type": "markdown",
   "metadata": {},
   "source": [
    "Vamos a analizar la cantidad de categorías para elegir el tipo de codificación de las columnas categóricas:"
   ]
  },
  {
   "cell_type": "code",
   "execution_count": 36,
   "metadata": {},
   "outputs": [
    {
     "name": "stdout",
     "output_type": "stream",
     "text": [
      "VehicleType: 8\n",
      "Gearbox: 2\n",
      "Model: 249\n",
      "FuelType: 7\n",
      "Brand: 39\n",
      "NotRepaired: 2\n",
      "PostalCode: 8068\n"
     ]
    }
   ],
   "source": [
    "# Número de catergorías por cada columna\n",
    "print('VehicleType:',df['VehicleType'].nunique())\n",
    "print('Gearbox:',df['Gearbox'].nunique())\n",
    "print('Model:',df['Model'].nunique())\n",
    "print('FuelType:',df['FuelType'].nunique())\n",
    "print('Brand:',df['Brand'].nunique())\n",
    "print('NotRepaired:',df['NotRepaired'].nunique())\n",
    "print('PostalCode:',df['PostalCode'].nunique())"
   ]
  },
  {
   "cell_type": "markdown",
   "metadata": {},
   "source": [
    "Para evitar aumentar en exceso la dimensionalidad, las columnas 'VehicleType','Model','Brand','PostalCode', se va a codifcar ordinalmente junto a las columnas con datos de fechas.\n",
    "El resto se va a codificar con OHE."
   ]
  },
  {
   "cell_type": "markdown",
   "metadata": {},
   "source": [
    "*Codificación OHE*"
   ]
  },
  {
   "cell_type": "code",
   "execution_count": 39,
   "metadata": {},
   "outputs": [],
   "source": [
    "cod_ohe = ['VehicleType','Model','Brand','Gearbox','FuelType','DateCreatedYear','NotRepaired']"
   ]
  },
  {
   "cell_type": "code",
   "execution_count": 40,
   "metadata": {
    "scrolled": true
   },
   "outputs": [
    {
     "data": {
      "text/html": [
       "<div>\n",
       "<style scoped>\n",
       "    .dataframe tbody tr th:only-of-type {\n",
       "        vertical-align: middle;\n",
       "    }\n",
       "\n",
       "    .dataframe tbody tr th {\n",
       "        vertical-align: top;\n",
       "    }\n",
       "\n",
       "    .dataframe thead th {\n",
       "        text-align: right;\n",
       "    }\n",
       "</style>\n",
       "<table border=\"1\" class=\"dataframe\">\n",
       "  <thead>\n",
       "    <tr style=\"text-align: right;\">\n",
       "      <th></th>\n",
       "      <th>Price</th>\n",
       "      <th>RegistrationYear</th>\n",
       "      <th>Power</th>\n",
       "      <th>Mileage</th>\n",
       "      <th>RegistrationMonth</th>\n",
       "      <th>PostalCode</th>\n",
       "      <th>DateCrawledMonth</th>\n",
       "      <th>DateCrawledDay</th>\n",
       "      <th>DateCrawledHour</th>\n",
       "      <th>DateCreatedMonth</th>\n",
       "      <th>...</th>\n",
       "      <th>Brand_volvo</th>\n",
       "      <th>Gearbox_manual</th>\n",
       "      <th>FuelType_electric</th>\n",
       "      <th>FuelType_gasoline</th>\n",
       "      <th>FuelType_hybrid</th>\n",
       "      <th>FuelType_lpg</th>\n",
       "      <th>FuelType_other</th>\n",
       "      <th>FuelType_petrol</th>\n",
       "      <th>DateCreatedYear_2016</th>\n",
       "      <th>NotRepaired_yes</th>\n",
       "    </tr>\n",
       "  </thead>\n",
       "  <tbody>\n",
       "    <tr>\n",
       "      <th>0</th>\n",
       "      <td>1500</td>\n",
       "      <td>2001</td>\n",
       "      <td>75</td>\n",
       "      <td>150000</td>\n",
       "      <td>6</td>\n",
       "      <td>91074</td>\n",
       "      <td>3</td>\n",
       "      <td>17</td>\n",
       "      <td>16</td>\n",
       "      <td>3</td>\n",
       "      <td>...</td>\n",
       "      <td>False</td>\n",
       "      <td>True</td>\n",
       "      <td>False</td>\n",
       "      <td>False</td>\n",
       "      <td>False</td>\n",
       "      <td>False</td>\n",
       "      <td>False</td>\n",
       "      <td>True</td>\n",
       "      <td>True</td>\n",
       "      <td>False</td>\n",
       "    </tr>\n",
       "    <tr>\n",
       "      <th>1</th>\n",
       "      <td>3600</td>\n",
       "      <td>2008</td>\n",
       "      <td>69</td>\n",
       "      <td>90000</td>\n",
       "      <td>7</td>\n",
       "      <td>60437</td>\n",
       "      <td>3</td>\n",
       "      <td>31</td>\n",
       "      <td>17</td>\n",
       "      <td>3</td>\n",
       "      <td>...</td>\n",
       "      <td>False</td>\n",
       "      <td>True</td>\n",
       "      <td>False</td>\n",
       "      <td>True</td>\n",
       "      <td>False</td>\n",
       "      <td>False</td>\n",
       "      <td>False</td>\n",
       "      <td>False</td>\n",
       "      <td>True</td>\n",
       "      <td>False</td>\n",
       "    </tr>\n",
       "    <tr>\n",
       "      <th>2</th>\n",
       "      <td>650</td>\n",
       "      <td>1995</td>\n",
       "      <td>102</td>\n",
       "      <td>150000</td>\n",
       "      <td>10</td>\n",
       "      <td>33775</td>\n",
       "      <td>4</td>\n",
       "      <td>4</td>\n",
       "      <td>17</td>\n",
       "      <td>4</td>\n",
       "      <td>...</td>\n",
       "      <td>False</td>\n",
       "      <td>True</td>\n",
       "      <td>False</td>\n",
       "      <td>False</td>\n",
       "      <td>False</td>\n",
       "      <td>False</td>\n",
       "      <td>False</td>\n",
       "      <td>True</td>\n",
       "      <td>True</td>\n",
       "      <td>True</td>\n",
       "    </tr>\n",
       "    <tr>\n",
       "      <th>3</th>\n",
       "      <td>2200</td>\n",
       "      <td>2004</td>\n",
       "      <td>109</td>\n",
       "      <td>150000</td>\n",
       "      <td>8</td>\n",
       "      <td>67112</td>\n",
       "      <td>4</td>\n",
       "      <td>1</td>\n",
       "      <td>20</td>\n",
       "      <td>4</td>\n",
       "      <td>...</td>\n",
       "      <td>False</td>\n",
       "      <td>True</td>\n",
       "      <td>False</td>\n",
       "      <td>False</td>\n",
       "      <td>False</td>\n",
       "      <td>False</td>\n",
       "      <td>False</td>\n",
       "      <td>True</td>\n",
       "      <td>True</td>\n",
       "      <td>False</td>\n",
       "    </tr>\n",
       "    <tr>\n",
       "      <th>4</th>\n",
       "      <td>2000</td>\n",
       "      <td>2004</td>\n",
       "      <td>105</td>\n",
       "      <td>150000</td>\n",
       "      <td>12</td>\n",
       "      <td>96224</td>\n",
       "      <td>3</td>\n",
       "      <td>26</td>\n",
       "      <td>19</td>\n",
       "      <td>3</td>\n",
       "      <td>...</td>\n",
       "      <td>False</td>\n",
       "      <td>True</td>\n",
       "      <td>False</td>\n",
       "      <td>False</td>\n",
       "      <td>False</td>\n",
       "      <td>False</td>\n",
       "      <td>False</td>\n",
       "      <td>True</td>\n",
       "      <td>True</td>\n",
       "      <td>False</td>\n",
       "    </tr>\n",
       "    <tr>\n",
       "      <th>...</th>\n",
       "      <td>...</td>\n",
       "      <td>...</td>\n",
       "      <td>...</td>\n",
       "      <td>...</td>\n",
       "      <td>...</td>\n",
       "      <td>...</td>\n",
       "      <td>...</td>\n",
       "      <td>...</td>\n",
       "      <td>...</td>\n",
       "      <td>...</td>\n",
       "      <td>...</td>\n",
       "      <td>...</td>\n",
       "      <td>...</td>\n",
       "      <td>...</td>\n",
       "      <td>...</td>\n",
       "      <td>...</td>\n",
       "      <td>...</td>\n",
       "      <td>...</td>\n",
       "      <td>...</td>\n",
       "      <td>...</td>\n",
       "      <td>...</td>\n",
       "    </tr>\n",
       "    <tr>\n",
       "      <th>241543</th>\n",
       "      <td>3999</td>\n",
       "      <td>2005</td>\n",
       "      <td>3</td>\n",
       "      <td>150000</td>\n",
       "      <td>5</td>\n",
       "      <td>81825</td>\n",
       "      <td>4</td>\n",
       "      <td>2</td>\n",
       "      <td>20</td>\n",
       "      <td>4</td>\n",
       "      <td>...</td>\n",
       "      <td>False</td>\n",
       "      <td>True</td>\n",
       "      <td>False</td>\n",
       "      <td>True</td>\n",
       "      <td>False</td>\n",
       "      <td>False</td>\n",
       "      <td>False</td>\n",
       "      <td>False</td>\n",
       "      <td>True</td>\n",
       "      <td>False</td>\n",
       "    </tr>\n",
       "    <tr>\n",
       "      <th>241544</th>\n",
       "      <td>3200</td>\n",
       "      <td>2004</td>\n",
       "      <td>225</td>\n",
       "      <td>150000</td>\n",
       "      <td>5</td>\n",
       "      <td>96465</td>\n",
       "      <td>3</td>\n",
       "      <td>19</td>\n",
       "      <td>19</td>\n",
       "      <td>3</td>\n",
       "      <td>...</td>\n",
       "      <td>False</td>\n",
       "      <td>True</td>\n",
       "      <td>False</td>\n",
       "      <td>False</td>\n",
       "      <td>False</td>\n",
       "      <td>False</td>\n",
       "      <td>False</td>\n",
       "      <td>True</td>\n",
       "      <td>True</td>\n",
       "      <td>True</td>\n",
       "    </tr>\n",
       "    <tr>\n",
       "      <th>241545</th>\n",
       "      <td>1150</td>\n",
       "      <td>2000</td>\n",
       "      <td>0</td>\n",
       "      <td>150000</td>\n",
       "      <td>3</td>\n",
       "      <td>26624</td>\n",
       "      <td>3</td>\n",
       "      <td>27</td>\n",
       "      <td>20</td>\n",
       "      <td>3</td>\n",
       "      <td>...</td>\n",
       "      <td>False</td>\n",
       "      <td>True</td>\n",
       "      <td>False</td>\n",
       "      <td>False</td>\n",
       "      <td>False</td>\n",
       "      <td>False</td>\n",
       "      <td>False</td>\n",
       "      <td>True</td>\n",
       "      <td>True</td>\n",
       "      <td>False</td>\n",
       "    </tr>\n",
       "    <tr>\n",
       "      <th>241546</th>\n",
       "      <td>1199</td>\n",
       "      <td>2000</td>\n",
       "      <td>101</td>\n",
       "      <td>125000</td>\n",
       "      <td>3</td>\n",
       "      <td>26135</td>\n",
       "      <td>3</td>\n",
       "      <td>5</td>\n",
       "      <td>19</td>\n",
       "      <td>3</td>\n",
       "      <td>...</td>\n",
       "      <td>False</td>\n",
       "      <td>False</td>\n",
       "      <td>False</td>\n",
       "      <td>False</td>\n",
       "      <td>False</td>\n",
       "      <td>False</td>\n",
       "      <td>False</td>\n",
       "      <td>True</td>\n",
       "      <td>True</td>\n",
       "      <td>False</td>\n",
       "    </tr>\n",
       "    <tr>\n",
       "      <th>241547</th>\n",
       "      <td>9200</td>\n",
       "      <td>1996</td>\n",
       "      <td>102</td>\n",
       "      <td>150000</td>\n",
       "      <td>3</td>\n",
       "      <td>87439</td>\n",
       "      <td>3</td>\n",
       "      <td>19</td>\n",
       "      <td>18</td>\n",
       "      <td>3</td>\n",
       "      <td>...</td>\n",
       "      <td>False</td>\n",
       "      <td>True</td>\n",
       "      <td>False</td>\n",
       "      <td>True</td>\n",
       "      <td>False</td>\n",
       "      <td>False</td>\n",
       "      <td>False</td>\n",
       "      <td>False</td>\n",
       "      <td>True</td>\n",
       "      <td>False</td>\n",
       "    </tr>\n",
       "  </tbody>\n",
       "</table>\n",
       "<p>241548 rows × 317 columns</p>\n",
       "</div>"
      ],
      "text/plain": [
       "        Price  RegistrationYear  Power  Mileage  RegistrationMonth  \\\n",
       "0        1500              2001     75   150000                  6   \n",
       "1        3600              2008     69    90000                  7   \n",
       "2         650              1995    102   150000                 10   \n",
       "3        2200              2004    109   150000                  8   \n",
       "4        2000              2004    105   150000                 12   \n",
       "...       ...               ...    ...      ...                ...   \n",
       "241543   3999              2005      3   150000                  5   \n",
       "241544   3200              2004    225   150000                  5   \n",
       "241545   1150              2000      0   150000                  3   \n",
       "241546   1199              2000    101   125000                  3   \n",
       "241547   9200              1996    102   150000                  3   \n",
       "\n",
       "        PostalCode  DateCrawledMonth  DateCrawledDay  DateCrawledHour  \\\n",
       "0            91074                 3              17               16   \n",
       "1            60437                 3              31               17   \n",
       "2            33775                 4               4               17   \n",
       "3            67112                 4               1               20   \n",
       "4            96224                 3              26               19   \n",
       "...            ...               ...             ...              ...   \n",
       "241543       81825                 4               2               20   \n",
       "241544       96465                 3              19               19   \n",
       "241545       26624                 3              27               20   \n",
       "241546       26135                 3               5               19   \n",
       "241547       87439                 3              19               18   \n",
       "\n",
       "        DateCreatedMonth  ...  Brand_volvo  Gearbox_manual  FuelType_electric  \\\n",
       "0                      3  ...        False            True              False   \n",
       "1                      3  ...        False            True              False   \n",
       "2                      4  ...        False            True              False   \n",
       "3                      4  ...        False            True              False   \n",
       "4                      3  ...        False            True              False   \n",
       "...                  ...  ...          ...             ...                ...   \n",
       "241543                 4  ...        False            True              False   \n",
       "241544                 3  ...        False            True              False   \n",
       "241545                 3  ...        False            True              False   \n",
       "241546                 3  ...        False           False              False   \n",
       "241547                 3  ...        False            True              False   \n",
       "\n",
       "        FuelType_gasoline  FuelType_hybrid  FuelType_lpg  FuelType_other  \\\n",
       "0                   False            False         False           False   \n",
       "1                    True            False         False           False   \n",
       "2                   False            False         False           False   \n",
       "3                   False            False         False           False   \n",
       "4                   False            False         False           False   \n",
       "...                   ...              ...           ...             ...   \n",
       "241543               True            False         False           False   \n",
       "241544              False            False         False           False   \n",
       "241545              False            False         False           False   \n",
       "241546              False            False         False           False   \n",
       "241547               True            False         False           False   \n",
       "\n",
       "        FuelType_petrol  DateCreatedYear_2016  NotRepaired_yes  \n",
       "0                  True                  True            False  \n",
       "1                 False                  True            False  \n",
       "2                  True                  True             True  \n",
       "3                  True                  True            False  \n",
       "4                  True                  True            False  \n",
       "...                 ...                   ...              ...  \n",
       "241543            False                  True            False  \n",
       "241544             True                  True             True  \n",
       "241545             True                  True            False  \n",
       "241546             True                  True            False  \n",
       "241547            False                  True            False  \n",
       "\n",
       "[241548 rows x 317 columns]"
      ]
     },
     "execution_count": 40,
     "metadata": {},
     "output_type": "execute_result"
    }
   ],
   "source": [
    "df_ohe = pd.get_dummies(df,columns=cod_ohe,drop_first=True)\n",
    "df_ohe"
   ]
  },
  {
   "cell_type": "markdown",
   "metadata": {},
   "source": [
    "*Codificación Ordinal*"
   ]
  },
  {
   "cell_type": "code",
   "execution_count": 41,
   "metadata": {},
   "outputs": [],
   "source": [
    "# Columnas para ser codificadas\n",
    "cat_ord = ['RegistrationYear','RegistrationMonth','PostalCode','DateCrawledMonth','DateCrawledDay','DateCrawledHour','DateCreatedMonth','DateCreatedDay','LastSeenMonth','LastSeenDay','LastSeenHour','PostalCode']"
   ]
  },
  {
   "cell_type": "code",
   "execution_count": null,
   "metadata": {
    "scrolled": true
   },
   "outputs": [
    {
     "data": {
      "text/html": [
       "<div>\n",
       "<style scoped>\n",
       "    .dataframe tbody tr th:only-of-type {\n",
       "        vertical-align: middle;\n",
       "    }\n",
       "\n",
       "    .dataframe tbody tr th {\n",
       "        vertical-align: top;\n",
       "    }\n",
       "\n",
       "    .dataframe thead th {\n",
       "        text-align: right;\n",
       "    }\n",
       "</style>\n",
       "<table border=\"1\" class=\"dataframe\">\n",
       "  <thead>\n",
       "    <tr style=\"text-align: right;\">\n",
       "      <th></th>\n",
       "      <th>Price</th>\n",
       "      <th>RegistrationYear</th>\n",
       "      <th>Power</th>\n",
       "      <th>Mileage</th>\n",
       "      <th>RegistrationMonth</th>\n",
       "      <th>PostalCode</th>\n",
       "      <th>DateCrawledMonth</th>\n",
       "      <th>DateCrawledDay</th>\n",
       "      <th>DateCrawledHour</th>\n",
       "      <th>DateCreatedMonth</th>\n",
       "      <th>...</th>\n",
       "      <th>Brand_volvo</th>\n",
       "      <th>Gearbox_manual</th>\n",
       "      <th>FuelType_electric</th>\n",
       "      <th>FuelType_gasoline</th>\n",
       "      <th>FuelType_hybrid</th>\n",
       "      <th>FuelType_lpg</th>\n",
       "      <th>FuelType_other</th>\n",
       "      <th>FuelType_petrol</th>\n",
       "      <th>DateCreatedYear_2016</th>\n",
       "      <th>NotRepaired_yes</th>\n",
       "    </tr>\n",
       "  </thead>\n",
       "  <tbody>\n",
       "    <tr>\n",
       "      <th>0</th>\n",
       "      <td>1500</td>\n",
       "      <td>63.0</td>\n",
       "      <td>75</td>\n",
       "      <td>150000</td>\n",
       "      <td>6.0</td>\n",
       "      <td>6970.0</td>\n",
       "      <td>0.0</td>\n",
       "      <td>16.0</td>\n",
       "      <td>16.0</td>\n",
       "      <td>2.0</td>\n",
       "      <td>...</td>\n",
       "      <td>False</td>\n",
       "      <td>True</td>\n",
       "      <td>False</td>\n",
       "      <td>False</td>\n",
       "      <td>False</td>\n",
       "      <td>False</td>\n",
       "      <td>False</td>\n",
       "      <td>True</td>\n",
       "      <td>True</td>\n",
       "      <td>False</td>\n",
       "    </tr>\n",
       "    <tr>\n",
       "      <th>1</th>\n",
       "      <td>3600</td>\n",
       "      <td>70.0</td>\n",
       "      <td>69</td>\n",
       "      <td>90000</td>\n",
       "      <td>7.0</td>\n",
       "      <td>4166.0</td>\n",
       "      <td>0.0</td>\n",
       "      <td>30.0</td>\n",
       "      <td>17.0</td>\n",
       "      <td>2.0</td>\n",
       "      <td>...</td>\n",
       "      <td>False</td>\n",
       "      <td>True</td>\n",
       "      <td>False</td>\n",
       "      <td>True</td>\n",
       "      <td>False</td>\n",
       "      <td>False</td>\n",
       "      <td>False</td>\n",
       "      <td>False</td>\n",
       "      <td>True</td>\n",
       "      <td>False</td>\n",
       "    </tr>\n",
       "    <tr>\n",
       "      <th>2</th>\n",
       "      <td>650</td>\n",
       "      <td>57.0</td>\n",
       "      <td>102</td>\n",
       "      <td>150000</td>\n",
       "      <td>10.0</td>\n",
       "      <td>2338.0</td>\n",
       "      <td>1.0</td>\n",
       "      <td>3.0</td>\n",
       "      <td>17.0</td>\n",
       "      <td>3.0</td>\n",
       "      <td>...</td>\n",
       "      <td>False</td>\n",
       "      <td>True</td>\n",
       "      <td>False</td>\n",
       "      <td>False</td>\n",
       "      <td>False</td>\n",
       "      <td>False</td>\n",
       "      <td>False</td>\n",
       "      <td>True</td>\n",
       "      <td>True</td>\n",
       "      <td>True</td>\n",
       "    </tr>\n",
       "    <tr>\n",
       "      <th>3</th>\n",
       "      <td>2200</td>\n",
       "      <td>66.0</td>\n",
       "      <td>109</td>\n",
       "      <td>150000</td>\n",
       "      <td>8.0</td>\n",
       "      <td>4589.0</td>\n",
       "      <td>1.0</td>\n",
       "      <td>0.0</td>\n",
       "      <td>20.0</td>\n",
       "      <td>3.0</td>\n",
       "      <td>...</td>\n",
       "      <td>False</td>\n",
       "      <td>True</td>\n",
       "      <td>False</td>\n",
       "      <td>False</td>\n",
       "      <td>False</td>\n",
       "      <td>False</td>\n",
       "      <td>False</td>\n",
       "      <td>True</td>\n",
       "      <td>True</td>\n",
       "      <td>False</td>\n",
       "    </tr>\n",
       "    <tr>\n",
       "      <th>4</th>\n",
       "      <td>2000</td>\n",
       "      <td>66.0</td>\n",
       "      <td>105</td>\n",
       "      <td>150000</td>\n",
       "      <td>12.0</td>\n",
       "      <td>7681.0</td>\n",
       "      <td>0.0</td>\n",
       "      <td>25.0</td>\n",
       "      <td>19.0</td>\n",
       "      <td>2.0</td>\n",
       "      <td>...</td>\n",
       "      <td>False</td>\n",
       "      <td>True</td>\n",
       "      <td>False</td>\n",
       "      <td>False</td>\n",
       "      <td>False</td>\n",
       "      <td>False</td>\n",
       "      <td>False</td>\n",
       "      <td>True</td>\n",
       "      <td>True</td>\n",
       "      <td>False</td>\n",
       "    </tr>\n",
       "    <tr>\n",
       "      <th>...</th>\n",
       "      <td>...</td>\n",
       "      <td>...</td>\n",
       "      <td>...</td>\n",
       "      <td>...</td>\n",
       "      <td>...</td>\n",
       "      <td>...</td>\n",
       "      <td>...</td>\n",
       "      <td>...</td>\n",
       "      <td>...</td>\n",
       "      <td>...</td>\n",
       "      <td>...</td>\n",
       "      <td>...</td>\n",
       "      <td>...</td>\n",
       "      <td>...</td>\n",
       "      <td>...</td>\n",
       "      <td>...</td>\n",
       "      <td>...</td>\n",
       "      <td>...</td>\n",
       "      <td>...</td>\n",
       "      <td>...</td>\n",
       "      <td>...</td>\n",
       "    </tr>\n",
       "    <tr>\n",
       "      <th>241543</th>\n",
       "      <td>3999</td>\n",
       "      <td>67.0</td>\n",
       "      <td>3</td>\n",
       "      <td>150000</td>\n",
       "      <td>5.0</td>\n",
       "      <td>5857.0</td>\n",
       "      <td>1.0</td>\n",
       "      <td>1.0</td>\n",
       "      <td>20.0</td>\n",
       "      <td>3.0</td>\n",
       "      <td>...</td>\n",
       "      <td>False</td>\n",
       "      <td>True</td>\n",
       "      <td>False</td>\n",
       "      <td>True</td>\n",
       "      <td>False</td>\n",
       "      <td>False</td>\n",
       "      <td>False</td>\n",
       "      <td>False</td>\n",
       "      <td>True</td>\n",
       "      <td>False</td>\n",
       "    </tr>\n",
       "    <tr>\n",
       "      <th>241544</th>\n",
       "      <td>3200</td>\n",
       "      <td>66.0</td>\n",
       "      <td>225</td>\n",
       "      <td>150000</td>\n",
       "      <td>5.0</td>\n",
       "      <td>7714.0</td>\n",
       "      <td>0.0</td>\n",
       "      <td>18.0</td>\n",
       "      <td>19.0</td>\n",
       "      <td>2.0</td>\n",
       "      <td>...</td>\n",
       "      <td>False</td>\n",
       "      <td>True</td>\n",
       "      <td>False</td>\n",
       "      <td>False</td>\n",
       "      <td>False</td>\n",
       "      <td>False</td>\n",
       "      <td>False</td>\n",
       "      <td>True</td>\n",
       "      <td>True</td>\n",
       "      <td>True</td>\n",
       "    </tr>\n",
       "    <tr>\n",
       "      <th>241545</th>\n",
       "      <td>1150</td>\n",
       "      <td>62.0</td>\n",
       "      <td>0</td>\n",
       "      <td>150000</td>\n",
       "      <td>3.0</td>\n",
       "      <td>1829.0</td>\n",
       "      <td>0.0</td>\n",
       "      <td>26.0</td>\n",
       "      <td>20.0</td>\n",
       "      <td>2.0</td>\n",
       "      <td>...</td>\n",
       "      <td>False</td>\n",
       "      <td>True</td>\n",
       "      <td>False</td>\n",
       "      <td>False</td>\n",
       "      <td>False</td>\n",
       "      <td>False</td>\n",
       "      <td>False</td>\n",
       "      <td>True</td>\n",
       "      <td>True</td>\n",
       "      <td>False</td>\n",
       "    </tr>\n",
       "    <tr>\n",
       "      <th>241546</th>\n",
       "      <td>1199</td>\n",
       "      <td>62.0</td>\n",
       "      <td>101</td>\n",
       "      <td>125000</td>\n",
       "      <td>3.0</td>\n",
       "      <td>1791.0</td>\n",
       "      <td>0.0</td>\n",
       "      <td>4.0</td>\n",
       "      <td>19.0</td>\n",
       "      <td>2.0</td>\n",
       "      <td>...</td>\n",
       "      <td>False</td>\n",
       "      <td>False</td>\n",
       "      <td>False</td>\n",
       "      <td>False</td>\n",
       "      <td>False</td>\n",
       "      <td>False</td>\n",
       "      <td>False</td>\n",
       "      <td>True</td>\n",
       "      <td>True</td>\n",
       "      <td>False</td>\n",
       "    </tr>\n",
       "    <tr>\n",
       "      <th>241547</th>\n",
       "      <td>9200</td>\n",
       "      <td>58.0</td>\n",
       "      <td>102</td>\n",
       "      <td>150000</td>\n",
       "      <td>3.0</td>\n",
       "      <td>6576.0</td>\n",
       "      <td>0.0</td>\n",
       "      <td>18.0</td>\n",
       "      <td>18.0</td>\n",
       "      <td>2.0</td>\n",
       "      <td>...</td>\n",
       "      <td>False</td>\n",
       "      <td>True</td>\n",
       "      <td>False</td>\n",
       "      <td>True</td>\n",
       "      <td>False</td>\n",
       "      <td>False</td>\n",
       "      <td>False</td>\n",
       "      <td>False</td>\n",
       "      <td>True</td>\n",
       "      <td>False</td>\n",
       "    </tr>\n",
       "  </tbody>\n",
       "</table>\n",
       "<p>241548 rows × 317 columns</p>\n",
       "</div>"
      ],
      "text/plain": [
       "        Price  RegistrationYear  Power  Mileage  RegistrationMonth  \\\n",
       "0        1500              63.0     75   150000                6.0   \n",
       "1        3600              70.0     69    90000                7.0   \n",
       "2         650              57.0    102   150000               10.0   \n",
       "3        2200              66.0    109   150000                8.0   \n",
       "4        2000              66.0    105   150000               12.0   \n",
       "...       ...               ...    ...      ...                ...   \n",
       "241543   3999              67.0      3   150000                5.0   \n",
       "241544   3200              66.0    225   150000                5.0   \n",
       "241545   1150              62.0      0   150000                3.0   \n",
       "241546   1199              62.0    101   125000                3.0   \n",
       "241547   9200              58.0    102   150000                3.0   \n",
       "\n",
       "        PostalCode  DateCrawledMonth  DateCrawledDay  DateCrawledHour  \\\n",
       "0           6970.0               0.0            16.0             16.0   \n",
       "1           4166.0               0.0            30.0             17.0   \n",
       "2           2338.0               1.0             3.0             17.0   \n",
       "3           4589.0               1.0             0.0             20.0   \n",
       "4           7681.0               0.0            25.0             19.0   \n",
       "...            ...               ...             ...              ...   \n",
       "241543      5857.0               1.0             1.0             20.0   \n",
       "241544      7714.0               0.0            18.0             19.0   \n",
       "241545      1829.0               0.0            26.0             20.0   \n",
       "241546      1791.0               0.0             4.0             19.0   \n",
       "241547      6576.0               0.0            18.0             18.0   \n",
       "\n",
       "        DateCreatedMonth  ...  Brand_volvo  Gearbox_manual  FuelType_electric  \\\n",
       "0                    2.0  ...        False            True              False   \n",
       "1                    2.0  ...        False            True              False   \n",
       "2                    3.0  ...        False            True              False   \n",
       "3                    3.0  ...        False            True              False   \n",
       "4                    2.0  ...        False            True              False   \n",
       "...                  ...  ...          ...             ...                ...   \n",
       "241543               3.0  ...        False            True              False   \n",
       "241544               2.0  ...        False            True              False   \n",
       "241545               2.0  ...        False            True              False   \n",
       "241546               2.0  ...        False           False              False   \n",
       "241547               2.0  ...        False            True              False   \n",
       "\n",
       "        FuelType_gasoline  FuelType_hybrid  FuelType_lpg  FuelType_other  \\\n",
       "0                   False            False         False           False   \n",
       "1                    True            False         False           False   \n",
       "2                   False            False         False           False   \n",
       "3                   False            False         False           False   \n",
       "4                   False            False         False           False   \n",
       "...                   ...              ...           ...             ...   \n",
       "241543               True            False         False           False   \n",
       "241544              False            False         False           False   \n",
       "241545              False            False         False           False   \n",
       "241546              False            False         False           False   \n",
       "241547               True            False         False           False   \n",
       "\n",
       "        FuelType_petrol  DateCreatedYear_2016  NotRepaired_yes  \n",
       "0                  True                  True            False  \n",
       "1                 False                  True            False  \n",
       "2                  True                  True             True  \n",
       "3                  True                  True            False  \n",
       "4                  True                  True            False  \n",
       "...                 ...                   ...              ...  \n",
       "241543            False                  True            False  \n",
       "241544             True                  True             True  \n",
       "241545             True                  True            False  \n",
       "241546             True                  True            False  \n",
       "241547            False                  True            False  \n",
       "\n",
       "[241548 rows x 317 columns]"
      ]
     },
     "execution_count": 42,
     "metadata": {},
     "output_type": "execute_result"
    }
   ],
   "source": [
    "# Entrenamiento y codificación Ordinal\n",
    "encoder = OrdinalEncoder()\n",
    "df_ohe[cat_ord]= encoder.fit_transform(df_ohe[cat_ord])\n",
    "df_ohe"
   ]
  },
  {
   "cell_type": "code",
   "execution_count": 43,
   "metadata": {
    "scrolled": false
   },
   "outputs": [
    {
     "name": "stdout",
     "output_type": "stream",
     "text": [
      "<class 'pandas.core.frame.DataFrame'>\n",
      "RangeIndex: 241548 entries, 0 to 241547\n",
      "Columns: 317 entries, Price to NotRepaired_yes\n",
      "dtypes: bool(302), float64(12), int64(3)\n",
      "memory usage: 97.2 MB\n"
     ]
    }
   ],
   "source": [
    "df_ohe.info()"
   ]
  },
  {
   "cell_type": "markdown",
   "metadata": {},
   "source": [
    "### Estandarización"
   ]
  },
  {
   "cell_type": "code",
   "execution_count": 49,
   "metadata": {},
   "outputs": [],
   "source": [
    "# Columnas para ser estandarizadas\n",
    "variables = ['RegistrationYear','Power','Mileage','RegistrationMonth',\n",
    "             'PostalCode','DateCrawledMonth','DateCrawledDay', 'DateCrawledHour'\n",
    "             ,'DateCreatedMonth','DateCreatedDay','LastSeenMonth','LastSeenDay','LastSeenHour']"
   ]
  },
  {
   "cell_type": "markdown",
   "metadata": {},
   "source": [
    "Se utiliza Min_Max Scaler debido a que nos brinda un rango entre 0 y 1, lo cual coincide con la codificación ohe. De esta manera todos los datos se encuentran dentro del mismo rango"
   ]
  },
  {
   "cell_type": "code",
   "execution_count": 50,
   "metadata": {},
   "outputs": [],
   "source": [
    "# Entrenamiento y estandarización\n",
    "scaler = MinMaxScaler()\n",
    "scaler.fit(df_ohe[variables])\n",
    "df_ohe[variables] = scaler.transform(df_ohe[variables])"
   ]
  },
  {
   "cell_type": "markdown",
   "metadata": {},
   "source": [
    "<div class=\"alert alert-block alert-success\">\n",
    "<b>Comentario del revisor. (Iteración 1) </b> <a class=\"tocSkip\"></a>\n",
    "\n",
    "Aquí valdría la pena ver la justificación de la elección de minmax scaler."
   ]
  },
  {
   "cell_type": "code",
   "execution_count": 51,
   "metadata": {},
   "outputs": [
    {
     "data": {
      "text/html": [
       "<div>\n",
       "<style scoped>\n",
       "    .dataframe tbody tr th:only-of-type {\n",
       "        vertical-align: middle;\n",
       "    }\n",
       "\n",
       "    .dataframe tbody tr th {\n",
       "        vertical-align: top;\n",
       "    }\n",
       "\n",
       "    .dataframe thead th {\n",
       "        text-align: right;\n",
       "    }\n",
       "</style>\n",
       "<table border=\"1\" class=\"dataframe\">\n",
       "  <thead>\n",
       "    <tr style=\"text-align: right;\">\n",
       "      <th></th>\n",
       "      <th>Price</th>\n",
       "      <th>RegistrationYear</th>\n",
       "      <th>Power</th>\n",
       "      <th>Mileage</th>\n",
       "      <th>RegistrationMonth</th>\n",
       "      <th>PostalCode</th>\n",
       "      <th>DateCrawledMonth</th>\n",
       "      <th>DateCrawledDay</th>\n",
       "      <th>DateCrawledHour</th>\n",
       "      <th>DateCreatedMonth</th>\n",
       "      <th>...</th>\n",
       "      <th>Brand_volvo</th>\n",
       "      <th>Gearbox_manual</th>\n",
       "      <th>FuelType_electric</th>\n",
       "      <th>FuelType_gasoline</th>\n",
       "      <th>FuelType_hybrid</th>\n",
       "      <th>FuelType_lpg</th>\n",
       "      <th>FuelType_other</th>\n",
       "      <th>FuelType_petrol</th>\n",
       "      <th>DateCreatedYear_2016</th>\n",
       "      <th>NotRepaired_yes</th>\n",
       "    </tr>\n",
       "  </thead>\n",
       "  <tbody>\n",
       "    <tr>\n",
       "      <th>0</th>\n",
       "      <td>1500</td>\n",
       "      <td>0.7875</td>\n",
       "      <td>0.00375</td>\n",
       "      <td>1.000000</td>\n",
       "      <td>0.500000</td>\n",
       "      <td>0.864014</td>\n",
       "      <td>0.0</td>\n",
       "      <td>0.533333</td>\n",
       "      <td>0.695652</td>\n",
       "      <td>0.285714</td>\n",
       "      <td>...</td>\n",
       "      <td>False</td>\n",
       "      <td>True</td>\n",
       "      <td>False</td>\n",
       "      <td>False</td>\n",
       "      <td>False</td>\n",
       "      <td>False</td>\n",
       "      <td>False</td>\n",
       "      <td>True</td>\n",
       "      <td>True</td>\n",
       "      <td>False</td>\n",
       "    </tr>\n",
       "    <tr>\n",
       "      <th>1</th>\n",
       "      <td>3600</td>\n",
       "      <td>0.8750</td>\n",
       "      <td>0.00345</td>\n",
       "      <td>0.586207</td>\n",
       "      <td>0.583333</td>\n",
       "      <td>0.516425</td>\n",
       "      <td>0.0</td>\n",
       "      <td>1.000000</td>\n",
       "      <td>0.739130</td>\n",
       "      <td>0.285714</td>\n",
       "      <td>...</td>\n",
       "      <td>False</td>\n",
       "      <td>True</td>\n",
       "      <td>False</td>\n",
       "      <td>True</td>\n",
       "      <td>False</td>\n",
       "      <td>False</td>\n",
       "      <td>False</td>\n",
       "      <td>False</td>\n",
       "      <td>True</td>\n",
       "      <td>False</td>\n",
       "    </tr>\n",
       "    <tr>\n",
       "      <th>2</th>\n",
       "      <td>650</td>\n",
       "      <td>0.7125</td>\n",
       "      <td>0.00510</td>\n",
       "      <td>1.000000</td>\n",
       "      <td>0.833333</td>\n",
       "      <td>0.289823</td>\n",
       "      <td>1.0</td>\n",
       "      <td>0.100000</td>\n",
       "      <td>0.739130</td>\n",
       "      <td>0.428571</td>\n",
       "      <td>...</td>\n",
       "      <td>False</td>\n",
       "      <td>True</td>\n",
       "      <td>False</td>\n",
       "      <td>False</td>\n",
       "      <td>False</td>\n",
       "      <td>False</td>\n",
       "      <td>False</td>\n",
       "      <td>True</td>\n",
       "      <td>True</td>\n",
       "      <td>True</td>\n",
       "    </tr>\n",
       "    <tr>\n",
       "      <th>3</th>\n",
       "      <td>2200</td>\n",
       "      <td>0.8250</td>\n",
       "      <td>0.00545</td>\n",
       "      <td>1.000000</td>\n",
       "      <td>0.666667</td>\n",
       "      <td>0.568861</td>\n",
       "      <td>1.0</td>\n",
       "      <td>0.000000</td>\n",
       "      <td>0.869565</td>\n",
       "      <td>0.428571</td>\n",
       "      <td>...</td>\n",
       "      <td>False</td>\n",
       "      <td>True</td>\n",
       "      <td>False</td>\n",
       "      <td>False</td>\n",
       "      <td>False</td>\n",
       "      <td>False</td>\n",
       "      <td>False</td>\n",
       "      <td>True</td>\n",
       "      <td>True</td>\n",
       "      <td>False</td>\n",
       "    </tr>\n",
       "    <tr>\n",
       "      <th>4</th>\n",
       "      <td>2000</td>\n",
       "      <td>0.8250</td>\n",
       "      <td>0.00525</td>\n",
       "      <td>1.000000</td>\n",
       "      <td>1.000000</td>\n",
       "      <td>0.952151</td>\n",
       "      <td>0.0</td>\n",
       "      <td>0.833333</td>\n",
       "      <td>0.826087</td>\n",
       "      <td>0.285714</td>\n",
       "      <td>...</td>\n",
       "      <td>False</td>\n",
       "      <td>True</td>\n",
       "      <td>False</td>\n",
       "      <td>False</td>\n",
       "      <td>False</td>\n",
       "      <td>False</td>\n",
       "      <td>False</td>\n",
       "      <td>True</td>\n",
       "      <td>True</td>\n",
       "      <td>False</td>\n",
       "    </tr>\n",
       "    <tr>\n",
       "      <th>...</th>\n",
       "      <td>...</td>\n",
       "      <td>...</td>\n",
       "      <td>...</td>\n",
       "      <td>...</td>\n",
       "      <td>...</td>\n",
       "      <td>...</td>\n",
       "      <td>...</td>\n",
       "      <td>...</td>\n",
       "      <td>...</td>\n",
       "      <td>...</td>\n",
       "      <td>...</td>\n",
       "      <td>...</td>\n",
       "      <td>...</td>\n",
       "      <td>...</td>\n",
       "      <td>...</td>\n",
       "      <td>...</td>\n",
       "      <td>...</td>\n",
       "      <td>...</td>\n",
       "      <td>...</td>\n",
       "      <td>...</td>\n",
       "      <td>...</td>\n",
       "    </tr>\n",
       "    <tr>\n",
       "      <th>241543</th>\n",
       "      <td>3999</td>\n",
       "      <td>0.8375</td>\n",
       "      <td>0.00015</td>\n",
       "      <td>1.000000</td>\n",
       "      <td>0.416667</td>\n",
       "      <td>0.726044</td>\n",
       "      <td>1.0</td>\n",
       "      <td>0.033333</td>\n",
       "      <td>0.869565</td>\n",
       "      <td>0.428571</td>\n",
       "      <td>...</td>\n",
       "      <td>False</td>\n",
       "      <td>True</td>\n",
       "      <td>False</td>\n",
       "      <td>True</td>\n",
       "      <td>False</td>\n",
       "      <td>False</td>\n",
       "      <td>False</td>\n",
       "      <td>False</td>\n",
       "      <td>True</td>\n",
       "      <td>False</td>\n",
       "    </tr>\n",
       "    <tr>\n",
       "      <th>241544</th>\n",
       "      <td>3200</td>\n",
       "      <td>0.8250</td>\n",
       "      <td>0.01125</td>\n",
       "      <td>1.000000</td>\n",
       "      <td>0.416667</td>\n",
       "      <td>0.956241</td>\n",
       "      <td>0.0</td>\n",
       "      <td>0.600000</td>\n",
       "      <td>0.826087</td>\n",
       "      <td>0.285714</td>\n",
       "      <td>...</td>\n",
       "      <td>False</td>\n",
       "      <td>True</td>\n",
       "      <td>False</td>\n",
       "      <td>False</td>\n",
       "      <td>False</td>\n",
       "      <td>False</td>\n",
       "      <td>False</td>\n",
       "      <td>True</td>\n",
       "      <td>True</td>\n",
       "      <td>True</td>\n",
       "    </tr>\n",
       "    <tr>\n",
       "      <th>241545</th>\n",
       "      <td>1150</td>\n",
       "      <td>0.7750</td>\n",
       "      <td>0.00000</td>\n",
       "      <td>1.000000</td>\n",
       "      <td>0.250000</td>\n",
       "      <td>0.226726</td>\n",
       "      <td>0.0</td>\n",
       "      <td>0.866667</td>\n",
       "      <td>0.869565</td>\n",
       "      <td>0.285714</td>\n",
       "      <td>...</td>\n",
       "      <td>False</td>\n",
       "      <td>True</td>\n",
       "      <td>False</td>\n",
       "      <td>False</td>\n",
       "      <td>False</td>\n",
       "      <td>False</td>\n",
       "      <td>False</td>\n",
       "      <td>True</td>\n",
       "      <td>True</td>\n",
       "      <td>False</td>\n",
       "    </tr>\n",
       "    <tr>\n",
       "      <th>241546</th>\n",
       "      <td>1199</td>\n",
       "      <td>0.7750</td>\n",
       "      <td>0.00505</td>\n",
       "      <td>0.827586</td>\n",
       "      <td>0.250000</td>\n",
       "      <td>0.222016</td>\n",
       "      <td>0.0</td>\n",
       "      <td>0.133333</td>\n",
       "      <td>0.826087</td>\n",
       "      <td>0.285714</td>\n",
       "      <td>...</td>\n",
       "      <td>False</td>\n",
       "      <td>False</td>\n",
       "      <td>False</td>\n",
       "      <td>False</td>\n",
       "      <td>False</td>\n",
       "      <td>False</td>\n",
       "      <td>False</td>\n",
       "      <td>True</td>\n",
       "      <td>True</td>\n",
       "      <td>False</td>\n",
       "    </tr>\n",
       "    <tr>\n",
       "      <th>241547</th>\n",
       "      <td>9200</td>\n",
       "      <td>0.7250</td>\n",
       "      <td>0.00510</td>\n",
       "      <td>1.000000</td>\n",
       "      <td>0.250000</td>\n",
       "      <td>0.815173</td>\n",
       "      <td>0.0</td>\n",
       "      <td>0.600000</td>\n",
       "      <td>0.782609</td>\n",
       "      <td>0.285714</td>\n",
       "      <td>...</td>\n",
       "      <td>False</td>\n",
       "      <td>True</td>\n",
       "      <td>False</td>\n",
       "      <td>True</td>\n",
       "      <td>False</td>\n",
       "      <td>False</td>\n",
       "      <td>False</td>\n",
       "      <td>False</td>\n",
       "      <td>True</td>\n",
       "      <td>False</td>\n",
       "    </tr>\n",
       "  </tbody>\n",
       "</table>\n",
       "<p>241548 rows × 317 columns</p>\n",
       "</div>"
      ],
      "text/plain": [
       "        Price  RegistrationYear    Power   Mileage  RegistrationMonth  \\\n",
       "0        1500            0.7875  0.00375  1.000000           0.500000   \n",
       "1        3600            0.8750  0.00345  0.586207           0.583333   \n",
       "2         650            0.7125  0.00510  1.000000           0.833333   \n",
       "3        2200            0.8250  0.00545  1.000000           0.666667   \n",
       "4        2000            0.8250  0.00525  1.000000           1.000000   \n",
       "...       ...               ...      ...       ...                ...   \n",
       "241543   3999            0.8375  0.00015  1.000000           0.416667   \n",
       "241544   3200            0.8250  0.01125  1.000000           0.416667   \n",
       "241545   1150            0.7750  0.00000  1.000000           0.250000   \n",
       "241546   1199            0.7750  0.00505  0.827586           0.250000   \n",
       "241547   9200            0.7250  0.00510  1.000000           0.250000   \n",
       "\n",
       "        PostalCode  DateCrawledMonth  DateCrawledDay  DateCrawledHour  \\\n",
       "0         0.864014               0.0        0.533333         0.695652   \n",
       "1         0.516425               0.0        1.000000         0.739130   \n",
       "2         0.289823               1.0        0.100000         0.739130   \n",
       "3         0.568861               1.0        0.000000         0.869565   \n",
       "4         0.952151               0.0        0.833333         0.826087   \n",
       "...            ...               ...             ...              ...   \n",
       "241543    0.726044               1.0        0.033333         0.869565   \n",
       "241544    0.956241               0.0        0.600000         0.826087   \n",
       "241545    0.226726               0.0        0.866667         0.869565   \n",
       "241546    0.222016               0.0        0.133333         0.826087   \n",
       "241547    0.815173               0.0        0.600000         0.782609   \n",
       "\n",
       "        DateCreatedMonth  ...  Brand_volvo  Gearbox_manual  FuelType_electric  \\\n",
       "0               0.285714  ...        False            True              False   \n",
       "1               0.285714  ...        False            True              False   \n",
       "2               0.428571  ...        False            True              False   \n",
       "3               0.428571  ...        False            True              False   \n",
       "4               0.285714  ...        False            True              False   \n",
       "...                  ...  ...          ...             ...                ...   \n",
       "241543          0.428571  ...        False            True              False   \n",
       "241544          0.285714  ...        False            True              False   \n",
       "241545          0.285714  ...        False            True              False   \n",
       "241546          0.285714  ...        False           False              False   \n",
       "241547          0.285714  ...        False            True              False   \n",
       "\n",
       "        FuelType_gasoline  FuelType_hybrid  FuelType_lpg  FuelType_other  \\\n",
       "0                   False            False         False           False   \n",
       "1                    True            False         False           False   \n",
       "2                   False            False         False           False   \n",
       "3                   False            False         False           False   \n",
       "4                   False            False         False           False   \n",
       "...                   ...              ...           ...             ...   \n",
       "241543               True            False         False           False   \n",
       "241544              False            False         False           False   \n",
       "241545              False            False         False           False   \n",
       "241546              False            False         False           False   \n",
       "241547               True            False         False           False   \n",
       "\n",
       "        FuelType_petrol  DateCreatedYear_2016  NotRepaired_yes  \n",
       "0                  True                  True            False  \n",
       "1                 False                  True            False  \n",
       "2                  True                  True             True  \n",
       "3                  True                  True            False  \n",
       "4                  True                  True            False  \n",
       "...                 ...                   ...              ...  \n",
       "241543            False                  True            False  \n",
       "241544             True                  True             True  \n",
       "241545             True                  True            False  \n",
       "241546             True                  True            False  \n",
       "241547            False                  True            False  \n",
       "\n",
       "[241548 rows x 317 columns]"
      ]
     },
     "execution_count": 51,
     "metadata": {},
     "output_type": "execute_result"
    }
   ],
   "source": [
    "df_ohe"
   ]
  },
  {
   "cell_type": "markdown",
   "metadata": {},
   "source": [
    "### Separación Train - Test"
   ]
  },
  {
   "cell_type": "code",
   "execution_count": 52,
   "metadata": {},
   "outputs": [],
   "source": [
    "features = df_ohe.drop(columns=['Price','PriceScaled'],axis=1)\n",
    "target = df_ohe['PriceScaled']"
   ]
  },
  {
   "cell_type": "code",
   "execution_count": 53,
   "metadata": {},
   "outputs": [
    {
     "name": "stdout",
     "output_type": "stream",
     "text": [
      "(181161, 315)\n",
      "(60387, 315)\n",
      "(181161,)\n",
      "(60387,)\n"
     ]
    }
   ],
   "source": [
    "#Separación en dos grupos 75%-25%\n",
    "features_train,features_test,target_train,target_test = train_test_split (features,target,test_size=0.25,random_state=1234)\n",
    "\n",
    "print(features_train.shape)\n",
    "print(features_test.shape)\n",
    "print(target_train.shape)\n",
    "print(target_test.shape)"
   ]
  },
  {
   "cell_type": "markdown",
   "metadata": {},
   "source": [
    "## Entrenamiento del modelo "
   ]
  },
  {
   "cell_type": "markdown",
   "metadata": {},
   "source": [
    "### Regresión Lineal"
   ]
  },
  {
   "cell_type": "code",
   "execution_count": 54,
   "metadata": {},
   "outputs": [
    {
     "name": "stdout",
     "output_type": "stream",
     "text": [
      "RECM Regresión Lineal: 2.109\n",
      "Tiempo de ejecución Regresión Lineal: 10.790 segundos\n"
     ]
    }
   ],
   "source": [
    "\n",
    "start_time = time.time()\n",
    "#Entrenamiento\n",
    "regresion = LinearRegression ()\n",
    "regresion.fit(features_train,target_train)\n",
    "#Predicción\n",
    "target_predicted = regresion.predict(features_test)\n",
    "#Métricas\n",
    "recm_line = mean_squared_error(target_test,target_predicted)**0.5\n",
    "#Cálculo Tiempo\n",
    "time_line = time.time()-start_time\n",
    "\n",
    "print(f\"RECM Regresión Lineal: {recm_line:.3f}\")\n",
    "print(f\"Tiempo de ejecución Regresión Lineal: {time_line:.3f} segundos\")"
   ]
  },
  {
   "cell_type": "markdown",
   "metadata": {},
   "source": [
    "### Bosque Aleatorio"
   ]
  },
  {
   "cell_type": "code",
   "execution_count": 55,
   "metadata": {},
   "outputs": [
    {
     "name": "stdout",
     "output_type": "stream",
     "text": [
      "RECM Bosque Aleatorio: 1.940\n",
      "Tiempo de ejecución Random Forest: 259.051 segundos\n"
     ]
    }
   ],
   "source": [
    "#Variable RECM\n",
    "recm_bosque = 50\n",
    "\n",
    "start_time = time.time()\n",
    "#Lazo de prueba de hiperparámetros\n",
    "for i in range (30,120,30):\n",
    "    for j in range(1,10,5):\n",
    "        bosque = RandomForestRegressor (n_estimators=i, max_depth=j,random_state=1234)\n",
    "        #Entrenamiento\n",
    "        bosque.fit(features_train,target_train)\n",
    "        #Predicción\n",
    "        target_predicted = bosque.predict(features_test)\n",
    "        #Métricas\n",
    "        recm = mean_squared_error(target_test,target_predicted)**0.5\n",
    "        if recm < recm_bosque:\n",
    "            recm_bosque = recm\n",
    "#Cálculo Tiempo\n",
    "time_arbol = time.time()-start_time\n",
    "\n",
    "print(f\"RECM Bosque Aleatorio: {recm_bosque:.3f}\")\n",
    "print(f\"Tiempo de ejecución Random Forest: {time_arbol:.3f} segundos\")"
   ]
  },
  {
   "cell_type": "markdown",
   "metadata": {},
   "source": [
    "### LightGBM"
   ]
  },
  {
   "cell_type": "code",
   "execution_count": 56,
   "metadata": {},
   "outputs": [
    {
     "name": "stdout",
     "output_type": "stream",
     "text": [
      "RECM LightGBM: 1.427\n",
      "Tiempo de ejecución LightGBM: 13.339 segundos\n"
     ]
    }
   ],
   "source": [
    "#Variable RECM\n",
    "recm_lgbm = 100\n",
    "\n",
    "start_time = time.time()\n",
    "#Lazo de prueba de hiperparámetros\n",
    "for r in range(1,50,10):\n",
    "    for n in range(50,150,50):\n",
    "        #Entrenamiento\n",
    "        lgbm = LGBMRegressor(learning_rate=(r/10), n_estimators=n, random_state=1234,\n",
    "                             verbose = -1).fit(features_train,target_train)\n",
    "\n",
    "        #Predicción\n",
    "        target_predicted = lgbm.predict(features_test)\n",
    "        #Métricas\n",
    "        recm = mean_squared_error(target_test,target_predicted)**0.5\n",
    "        if recm < recm_lgbm:\n",
    "            recm_lgbm = recm\n",
    "\n",
    "#Cálculo Tiempo\n",
    "time_lgbm = time.time()-start_time\n",
    "\n",
    "print(f\"RECM LightGBM: {recm_lgbm:.3f}\")\n",
    "print(f\"Tiempo de ejecución LightGBM: {time_lgbm:.3f} segundos\")"
   ]
  },
  {
   "cell_type": "markdown",
   "metadata": {},
   "source": [
    "### CatBoost"
   ]
  },
  {
   "cell_type": "code",
   "execution_count": 57,
   "metadata": {
    "scrolled": true
   },
   "outputs": [
    {
     "name": "stdout",
     "output_type": "stream",
     "text": [
      "RECM Catboost: 1.332\n",
      "Tiempo de ejecución Catboost: 312.239 segundos\n"
     ]
    }
   ],
   "source": [
    "#Variable RECM\n",
    "recm_cat = 100\n",
    "\n",
    "start_time = time.time()\n",
    "#Lazo de prueba de hiperparámetros\n",
    "for i in range(500,1000,100):\n",
    "    for l in range(1,5,1):\n",
    "        for d in range(0,10,5):\n",
    "            catboost = CatBoostRegressor(\n",
    "                iterations= i, #1000,          \n",
    "                learning_rate= l/10,#0.1,        \n",
    "                depth= d,#10,                 \n",
    "                verbose= 0 \n",
    "                #cat_features=categorical_features,\n",
    "                ).fit(features_train,target_train)\n",
    "            \n",
    "            #Predicción\n",
    "            target_predicted = catboost.predict(features_test)\n",
    "            #Métricas\n",
    "            recm = mean_squared_error(target_test,target_predicted)**0.5\n",
    "            if recm < recm_cat:\n",
    "                recm_cat = recm\n",
    "#Cálculo Tiempo\n",
    "time_cat = time.time()-start_time\n",
    "\n",
    "print(f\"RECM Catboost: {recm_cat:.3f}\")\n",
    "print(f\"Tiempo de ejecución Catboost: {time_cat:.3f} segundos\")"
   ]
  },
  {
   "cell_type": "markdown",
   "metadata": {},
   "source": [
    "## Análisis del modelo"
   ]
  },
  {
   "cell_type": "markdown",
   "metadata": {},
   "source": [
    "- Comparando los modelos en base a la métrica RECM, podemos observar que se cumple lo esperado. Es decir, el RECM es mayor en la predicción de la regresión lineal, y disminuye a medida que implementamos modelos mas complejos como el bosque aleatorio, y los modelos de potenciación de gradiente.\n",
    "- De igual manera, podemos observar que esta reducción de error va a acompañado de un mayor costo computacional, por ende, el tiempo de ejecución crece, y varía sobre todo por la cantidad de hiper parámetros que vamos a probar.\n",
    "- Podemos ver el resumen en el siguiente cuadro:"
   ]
  },
  {
   "cell_type": "code",
   "execution_count": 59,
   "metadata": {},
   "outputs": [
    {
     "data": {
      "text/html": [
       "<div>\n",
       "<style scoped>\n",
       "    .dataframe tbody tr th:only-of-type {\n",
       "        vertical-align: middle;\n",
       "    }\n",
       "\n",
       "    .dataframe tbody tr th {\n",
       "        vertical-align: top;\n",
       "    }\n",
       "\n",
       "    .dataframe thead th {\n",
       "        text-align: right;\n",
       "    }\n",
       "</style>\n",
       "<table border=\"1\" class=\"dataframe\">\n",
       "  <thead>\n",
       "    <tr style=\"text-align: right;\">\n",
       "      <th></th>\n",
       "      <th>RECM</th>\n",
       "      <th>Ejecucion</th>\n",
       "    </tr>\n",
       "  </thead>\n",
       "  <tbody>\n",
       "    <tr>\n",
       "      <th>Regresión Lineal</th>\n",
       "      <td>2.108504</td>\n",
       "      <td>10.789892</td>\n",
       "    </tr>\n",
       "    <tr>\n",
       "      <th>Random Forest</th>\n",
       "      <td>1.939833</td>\n",
       "      <td>259.051165</td>\n",
       "    </tr>\n",
       "    <tr>\n",
       "      <th>LightGBM</th>\n",
       "      <td>1.427039</td>\n",
       "      <td>13.339201</td>\n",
       "    </tr>\n",
       "    <tr>\n",
       "      <th>Catboost</th>\n",
       "      <td>1.331640</td>\n",
       "      <td>312.238827</td>\n",
       "    </tr>\n",
       "  </tbody>\n",
       "</table>\n",
       "</div>"
      ],
      "text/plain": [
       "                      RECM   Ejecucion\n",
       "Regresión Lineal  2.108504   10.789892\n",
       "Random Forest     1.939833  259.051165\n",
       "LightGBM          1.427039   13.339201\n",
       "Catboost          1.331640  312.238827"
      ]
     },
     "execution_count": 59,
     "metadata": {},
     "output_type": "execute_result"
    }
   ],
   "source": [
    "resumen = pd.DataFrame({'RECM':[recm_line,recm_bosque,recm_lgbm,recm_cat],\n",
    "                       'Ejecucion':[time_line,time_arbol,time_lgbm,time_cat]},\n",
    "                      index=['Regresión Lineal','Random Forest','LightGBM','Catboost'])\n",
    "resumen"
   ]
  },
  {
   "cell_type": "markdown",
   "metadata": {},
   "source": [
    "Con base en este cuadro comparativo que toma en cuenta el tiempo de ejecución y el Error cuadrático medio, podemos establecer que el modelo con mejor balance es LightGBM. Mismo que será el escogido."
   ]
  }
 ],
 "metadata": {
  "ExecuteTimeLog": [
   {
    "duration": 388,
    "start_time": "2025-01-08T22:17:33.743Z"
   },
   {
    "duration": 518,
    "start_time": "2025-01-08T22:17:35.996Z"
   },
   {
    "duration": 116,
    "start_time": "2025-01-08T22:17:47.464Z"
   },
   {
    "duration": 20,
    "start_time": "2025-01-08T22:18:01.893Z"
   },
   {
    "duration": 20,
    "start_time": "2025-01-08T22:18:11.325Z"
   },
   {
    "duration": 122,
    "start_time": "2025-01-08T22:30:32.506Z"
   },
   {
    "duration": 12,
    "start_time": "2025-01-08T22:33:02.168Z"
   },
   {
    "duration": 10,
    "start_time": "2025-01-08T22:33:19.906Z"
   },
   {
    "duration": 18,
    "start_time": "2025-01-08T22:33:56.895Z"
   },
   {
    "duration": 116,
    "start_time": "2025-01-08T22:35:15.948Z"
   },
   {
    "duration": 61,
    "start_time": "2025-01-08T22:35:36.429Z"
   },
   {
    "duration": 18,
    "start_time": "2025-01-08T22:39:34.826Z"
   },
   {
    "duration": 19,
    "start_time": "2025-01-08T22:40:08.321Z"
   },
   {
    "duration": 10,
    "start_time": "2025-01-08T22:40:13.908Z"
   },
   {
    "duration": 12,
    "start_time": "2025-01-08T22:40:35.277Z"
   },
   {
    "duration": 8,
    "start_time": "2025-01-08T22:41:22.652Z"
   },
   {
    "duration": 10,
    "start_time": "2025-01-08T22:41:32.273Z"
   },
   {
    "duration": 10,
    "start_time": "2025-01-08T22:41:58.693Z"
   },
   {
    "duration": 17,
    "start_time": "2025-01-08T22:48:12.969Z"
   },
   {
    "duration": 20,
    "start_time": "2025-01-08T22:48:35.703Z"
   },
   {
    "duration": 60,
    "start_time": "2025-01-08T22:48:47.833Z"
   },
   {
    "duration": 22,
    "start_time": "2025-01-08T22:48:59.323Z"
   },
   {
    "duration": 43,
    "start_time": "2025-01-08T22:50:34.394Z"
   },
   {
    "duration": 160,
    "start_time": "2025-01-09T16:20:32.025Z"
   },
   {
    "duration": 334,
    "start_time": "2025-01-09T16:20:38.625Z"
   },
   {
    "duration": 507,
    "start_time": "2025-01-09T16:20:40.830Z"
   },
   {
    "duration": 98,
    "start_time": "2025-01-09T16:20:41.662Z"
   },
   {
    "duration": 15,
    "start_time": "2025-01-09T16:20:42.655Z"
   },
   {
    "duration": 317,
    "start_time": "2025-01-09T16:21:01.741Z"
   },
   {
    "duration": 407,
    "start_time": "2025-01-09T16:21:02.061Z"
   },
   {
    "duration": 98,
    "start_time": "2025-01-09T16:21:02.469Z"
   },
   {
    "duration": 15,
    "start_time": "2025-01-09T16:21:02.569Z"
   },
   {
    "duration": 44,
    "start_time": "2025-01-09T16:21:21.038Z"
   },
   {
    "duration": 14,
    "start_time": "2025-01-09T16:21:22.385Z"
   },
   {
    "duration": 49,
    "start_time": "2025-01-09T16:21:26.169Z"
   },
   {
    "duration": 204,
    "start_time": "2025-01-09T16:36:44.214Z"
   },
   {
    "duration": 227,
    "start_time": "2025-01-09T16:36:56.582Z"
   },
   {
    "duration": 530,
    "start_time": "2025-01-09T16:37:38.266Z"
   },
   {
    "duration": 4,
    "start_time": "2025-01-09T16:38:01.410Z"
   },
   {
    "duration": 15,
    "start_time": "2025-01-09T16:39:28.454Z"
   },
   {
    "duration": 21,
    "start_time": "2025-01-09T16:41:29.498Z"
   },
   {
    "duration": 5,
    "start_time": "2025-01-09T16:41:57.138Z"
   },
   {
    "duration": 11,
    "start_time": "2025-01-09T16:42:27.972Z"
   },
   {
    "duration": 18,
    "start_time": "2025-01-09T16:42:52.104Z"
   },
   {
    "duration": 21,
    "start_time": "2025-01-09T16:43:21.018Z"
   },
   {
    "duration": 11,
    "start_time": "2025-01-09T16:43:27.659Z"
   },
   {
    "duration": 12,
    "start_time": "2025-01-09T16:44:02.543Z"
   },
   {
    "duration": 45,
    "start_time": "2025-01-09T16:44:03.937Z"
   },
   {
    "duration": 3,
    "start_time": "2025-01-09T16:44:13.740Z"
   },
   {
    "duration": 17,
    "start_time": "2025-01-09T16:44:34.015Z"
   },
   {
    "duration": 29,
    "start_time": "2025-01-09T16:46:11.195Z"
   },
   {
    "duration": 27,
    "start_time": "2025-01-09T16:47:03.828Z"
   },
   {
    "duration": 11,
    "start_time": "2025-01-09T16:48:30.973Z"
   },
   {
    "duration": 229,
    "start_time": "2025-01-09T16:48:35.701Z"
   },
   {
    "duration": 322,
    "start_time": "2025-01-09T16:49:44.313Z"
   },
   {
    "duration": 34,
    "start_time": "2025-01-09T16:56:47.107Z"
   },
   {
    "duration": 55,
    "start_time": "2025-01-09T16:56:57.999Z"
   },
   {
    "duration": 51,
    "start_time": "2025-01-09T17:01:01.776Z"
   },
   {
    "duration": 59,
    "start_time": "2025-01-09T17:04:38.663Z"
   },
   {
    "duration": 40,
    "start_time": "2025-01-09T17:05:24.130Z"
   },
   {
    "duration": 22,
    "start_time": "2025-01-09T17:05:58.545Z"
   },
   {
    "duration": 36,
    "start_time": "2025-01-09T17:06:12.667Z"
   },
   {
    "duration": 26,
    "start_time": "2025-01-09T17:06:17.838Z"
   },
   {
    "duration": 26,
    "start_time": "2025-01-09T17:06:32.122Z"
   },
   {
    "duration": 39,
    "start_time": "2025-01-09T17:07:09.910Z"
   },
   {
    "duration": 156,
    "start_time": "2025-01-09T17:07:53.393Z"
   },
   {
    "duration": 55,
    "start_time": "2025-01-09T17:08:20.961Z"
   },
   {
    "duration": 48,
    "start_time": "2025-01-09T17:08:31.727Z"
   },
   {
    "duration": 34,
    "start_time": "2025-01-09T17:08:51.186Z"
   },
   {
    "duration": 549,
    "start_time": "2025-01-09T17:10:00.820Z"
   },
   {
    "duration": 25,
    "start_time": "2025-01-09T17:10:24.985Z"
   },
   {
    "duration": 25,
    "start_time": "2025-01-09T17:21:41.602Z"
   },
   {
    "duration": 27,
    "start_time": "2025-01-09T17:21:49.301Z"
   },
   {
    "duration": 29,
    "start_time": "2025-01-09T17:22:09.031Z"
   },
   {
    "duration": 28,
    "start_time": "2025-01-09T17:23:27.767Z"
   },
   {
    "duration": 175,
    "start_time": "2025-01-09T17:27:49.727Z"
   },
   {
    "duration": 68,
    "start_time": "2025-01-09T17:28:23.983Z"
   },
   {
    "duration": 23,
    "start_time": "2025-01-09T17:28:48.254Z"
   },
   {
    "duration": 392,
    "start_time": "2025-01-09T17:30:39.768Z"
   },
   {
    "duration": 90,
    "start_time": "2025-01-09T17:30:40.794Z"
   },
   {
    "duration": 10,
    "start_time": "2025-01-09T17:30:47.755Z"
   },
   {
    "duration": 209,
    "start_time": "2025-01-09T17:30:49.222Z"
   },
   {
    "duration": 299,
    "start_time": "2025-01-09T17:30:50.110Z"
   },
   {
    "duration": 81,
    "start_time": "2025-01-09T17:30:59.956Z"
   },
   {
    "duration": 85,
    "start_time": "2025-01-09T17:32:00.297Z"
   },
   {
    "duration": 67,
    "start_time": "2025-01-09T17:32:14.795Z"
   },
   {
    "duration": 109,
    "start_time": "2025-01-09T17:34:27.315Z"
   },
   {
    "duration": 45,
    "start_time": "2025-01-09T17:38:37.779Z"
   },
   {
    "duration": 28,
    "start_time": "2025-01-09T17:38:59.497Z"
   },
   {
    "duration": 49,
    "start_time": "2025-01-09T17:53:02.454Z"
   },
   {
    "duration": 48,
    "start_time": "2025-01-09T17:53:28.063Z"
   },
   {
    "duration": 28,
    "start_time": "2025-01-09T17:56:51.523Z"
   },
   {
    "duration": 33,
    "start_time": "2025-01-09T17:57:23.473Z"
   },
   {
    "duration": 31,
    "start_time": "2025-01-09T17:57:40.274Z"
   },
   {
    "duration": 32,
    "start_time": "2025-01-09T18:00:04.655Z"
   },
   {
    "duration": 31,
    "start_time": "2025-01-09T18:00:53.395Z"
   },
   {
    "duration": 92,
    "start_time": "2025-01-09T18:01:20.019Z"
   },
   {
    "duration": 168,
    "start_time": "2025-01-09T18:02:51.568Z"
   },
   {
    "duration": 337,
    "start_time": "2025-01-09T18:03:09.726Z"
   },
   {
    "duration": 408,
    "start_time": "2025-01-09T18:03:10.066Z"
   },
   {
    "duration": 97,
    "start_time": "2025-01-09T18:03:10.475Z"
   },
   {
    "duration": 14,
    "start_time": "2025-01-09T18:03:10.574Z"
   },
   {
    "duration": 251,
    "start_time": "2025-01-09T18:03:10.590Z"
   },
   {
    "duration": 345,
    "start_time": "2025-01-09T18:03:10.843Z"
   },
   {
    "duration": 35,
    "start_time": "2025-01-09T18:03:11.190Z"
   },
   {
    "duration": 31,
    "start_time": "2025-01-09T18:03:11.226Z"
   },
   {
    "duration": 51,
    "start_time": "2025-01-09T18:03:11.258Z"
   },
   {
    "duration": 30,
    "start_time": "2025-01-09T18:03:11.311Z"
   },
   {
    "duration": 196,
    "start_time": "2025-01-09T18:03:11.343Z"
   },
   {
    "duration": 17971,
    "start_time": "2025-01-09T18:03:11.540Z"
   },
   {
    "duration": 91,
    "start_time": "2025-01-09T18:09:05.240Z"
   },
   {
    "duration": 97,
    "start_time": "2025-01-09T18:09:26.121Z"
   },
   {
    "duration": 33,
    "start_time": "2025-01-09T18:15:04.662Z"
   },
   {
    "duration": 64,
    "start_time": "2025-01-09T18:19:17.386Z"
   },
   {
    "duration": 53,
    "start_time": "2025-01-09T18:19:42.982Z"
   },
   {
    "duration": 5,
    "start_time": "2025-01-09T20:14:04.054Z"
   },
   {
    "duration": 52,
    "start_time": "2025-01-09T20:14:17.032Z"
   },
   {
    "duration": 35,
    "start_time": "2025-01-09T20:14:59.764Z"
   },
   {
    "duration": 39,
    "start_time": "2025-01-09T20:16:17.590Z"
   },
   {
    "duration": 120,
    "start_time": "2025-01-09T20:20:04.690Z"
   },
   {
    "duration": 146,
    "start_time": "2025-01-09T20:20:20.763Z"
   },
   {
    "duration": 285,
    "start_time": "2025-01-10T14:28:04.116Z"
   },
   {
    "duration": 440,
    "start_time": "2025-01-10T14:28:04.403Z"
   },
   {
    "duration": 97,
    "start_time": "2025-01-10T14:28:04.845Z"
   },
   {
    "duration": 14,
    "start_time": "2025-01-10T14:28:04.945Z"
   },
   {
    "duration": 260,
    "start_time": "2025-01-10T14:28:04.960Z"
   },
   {
    "duration": 358,
    "start_time": "2025-01-10T14:28:05.222Z"
   },
   {
    "duration": 32,
    "start_time": "2025-01-10T14:28:05.581Z"
   },
   {
    "duration": 48,
    "start_time": "2025-01-10T14:28:05.615Z"
   },
   {
    "duration": 32,
    "start_time": "2025-01-10T14:28:05.664Z"
   },
   {
    "duration": 47,
    "start_time": "2025-01-10T14:28:05.699Z"
   },
   {
    "duration": 35,
    "start_time": "2025-01-10T14:28:05.748Z"
   },
   {
    "duration": 202,
    "start_time": "2025-01-10T14:28:05.784Z"
   },
   {
    "duration": 12242,
    "start_time": "2025-01-10T14:28:05.987Z"
   },
   {
    "duration": 67,
    "start_time": "2025-01-10T15:14:37.774Z"
   },
   {
    "duration": 50,
    "start_time": "2025-01-10T15:21:26.349Z"
   },
   {
    "duration": 7,
    "start_time": "2025-01-10T15:28:20.303Z"
   },
   {
    "duration": 11,
    "start_time": "2025-01-10T15:28:41.575Z"
   },
   {
    "duration": 5,
    "start_time": "2025-01-10T15:30:51.951Z"
   },
   {
    "duration": 6,
    "start_time": "2025-01-10T15:31:04.596Z"
   },
   {
    "duration": 27,
    "start_time": "2025-01-10T15:32:55.166Z"
   },
   {
    "duration": 5,
    "start_time": "2025-01-10T15:34:15.633Z"
   },
   {
    "duration": 21,
    "start_time": "2025-01-10T15:34:22.611Z"
   },
   {
    "duration": 16,
    "start_time": "2025-01-10T15:34:30.945Z"
   },
   {
    "duration": 21,
    "start_time": "2025-01-10T15:37:56.862Z"
   },
   {
    "duration": 12,
    "start_time": "2025-01-10T16:37:52.226Z"
   },
   {
    "duration": 330,
    "start_time": "2025-01-10T19:10:09.937Z"
   },
   {
    "duration": 450,
    "start_time": "2025-01-10T19:10:10.269Z"
   },
   {
    "duration": 98,
    "start_time": "2025-01-10T19:10:10.721Z"
   },
   {
    "duration": 14,
    "start_time": "2025-01-10T19:10:10.821Z"
   },
   {
    "duration": 253,
    "start_time": "2025-01-10T19:10:10.836Z"
   },
   {
    "duration": 364,
    "start_time": "2025-01-10T19:10:11.090Z"
   },
   {
    "duration": 32,
    "start_time": "2025-01-10T19:10:11.455Z"
   },
   {
    "duration": 43,
    "start_time": "2025-01-10T19:10:11.489Z"
   },
   {
    "duration": 32,
    "start_time": "2025-01-10T19:10:11.533Z"
   },
   {
    "duration": 52,
    "start_time": "2025-01-10T19:10:11.568Z"
   },
   {
    "duration": 36,
    "start_time": "2025-01-10T19:10:11.622Z"
   },
   {
    "duration": 194,
    "start_time": "2025-01-10T19:10:11.660Z"
   },
   {
    "duration": 12321,
    "start_time": "2025-01-10T19:10:11.856Z"
   },
   {
    "duration": 77,
    "start_time": "2025-01-10T19:10:24.179Z"
   },
   {
    "duration": 12317,
    "start_time": "2025-01-10T19:10:24.258Z"
   },
   {
    "duration": 7,
    "start_time": "2025-01-10T19:10:36.576Z"
   },
   {
    "duration": 34,
    "start_time": "2025-01-10T19:10:36.584Z"
   },
   {
    "duration": 13,
    "start_time": "2025-01-10T19:10:36.619Z"
   },
   {
    "duration": 572,
    "start_time": "2025-01-10T19:10:36.633Z"
   },
   {
    "duration": 8,
    "start_time": "2025-01-10T20:58:05.888Z"
   },
   {
    "duration": 2005,
    "start_time": "2025-01-10T21:00:04.676Z"
   },
   {
    "duration": 14,
    "start_time": "2025-01-10T21:02:51.108Z"
   },
   {
    "duration": 295,
    "start_time": "2025-01-10T21:03:29.429Z"
   },
   {
    "duration": 89,
    "start_time": "2025-01-10T21:05:02.184Z"
   },
   {
    "duration": 162,
    "start_time": "2025-01-10T21:05:32.251Z"
   },
   {
    "duration": 180,
    "start_time": "2025-01-10T21:05:45.769Z"
   },
   {
    "duration": 150,
    "start_time": "2025-01-10T21:06:17.618Z"
   },
   {
    "duration": 127518,
    "start_time": "2025-01-10T21:09:08.840Z"
   },
   {
    "duration": 140,
    "start_time": "2025-01-10T21:21:36.972Z"
   },
   {
    "duration": 24,
    "start_time": "2025-01-10T21:21:38.816Z"
   },
   {
    "duration": 6,
    "start_time": "2025-01-10T21:25:27.988Z"
   },
   {
    "duration": 15,
    "start_time": "2025-01-10T21:25:41.301Z"
   },
   {
    "duration": 22,
    "start_time": "2025-01-10T21:26:08.216Z"
   },
   {
    "duration": 21,
    "start_time": "2025-01-10T21:26:42.745Z"
   },
   {
    "duration": 7,
    "start_time": "2025-01-10T21:26:56.633Z"
   },
   {
    "duration": 7,
    "start_time": "2025-01-10T21:27:14.896Z"
   },
   {
    "duration": 117,
    "start_time": "2025-01-10T21:28:10.948Z"
   },
   {
    "duration": 23,
    "start_time": "2025-01-10T21:30:22.701Z"
   },
   {
    "duration": 22,
    "start_time": "2025-01-10T21:30:37.240Z"
   },
   {
    "duration": 20,
    "start_time": "2025-01-10T21:31:28.034Z"
   },
   {
    "duration": 318,
    "start_time": "2025-01-13T14:05:51.471Z"
   },
   {
    "duration": 472,
    "start_time": "2025-01-13T14:05:51.792Z"
   },
   {
    "duration": 94,
    "start_time": "2025-01-13T14:05:52.266Z"
   },
   {
    "duration": 14,
    "start_time": "2025-01-13T14:05:52.362Z"
   },
   {
    "duration": 250,
    "start_time": "2025-01-13T14:05:52.379Z"
   },
   {
    "duration": 340,
    "start_time": "2025-01-13T14:05:52.631Z"
   },
   {
    "duration": 30,
    "start_time": "2025-01-13T14:05:52.973Z"
   },
   {
    "duration": 47,
    "start_time": "2025-01-13T14:05:53.005Z"
   },
   {
    "duration": 31,
    "start_time": "2025-01-13T14:05:53.055Z"
   },
   {
    "duration": 29,
    "start_time": "2025-01-13T14:05:53.088Z"
   },
   {
    "duration": 51,
    "start_time": "2025-01-13T14:05:53.119Z"
   },
   {
    "duration": 202,
    "start_time": "2025-01-13T14:05:53.172Z"
   },
   {
    "duration": 12083,
    "start_time": "2025-01-13T14:05:53.375Z"
   },
   {
    "duration": 66,
    "start_time": "2025-01-13T14:06:05.462Z"
   },
   {
    "duration": 12193,
    "start_time": "2025-01-13T14:06:05.542Z"
   },
   {
    "duration": 2015,
    "start_time": "2025-01-13T14:06:17.736Z"
   },
   {
    "duration": 23,
    "start_time": "2025-01-13T14:06:19.753Z"
   },
   {
    "duration": 12,
    "start_time": "2025-01-13T14:06:19.778Z"
   },
   {
    "duration": 625,
    "start_time": "2025-01-13T14:06:19.792Z"
   },
   {
    "duration": 8,
    "start_time": "2025-01-13T15:39:02.174Z"
   },
   {
    "duration": 4,
    "start_time": "2025-01-13T15:41:30.653Z"
   },
   {
    "duration": 24,
    "start_time": "2025-01-13T15:42:00.697Z"
   },
   {
    "duration": 8,
    "start_time": "2025-01-13T15:43:06.811Z"
   },
   {
    "duration": 7,
    "start_time": "2025-01-13T15:43:46.226Z"
   },
   {
    "duration": 52,
    "start_time": "2025-01-13T16:14:02.315Z"
   },
   {
    "duration": 10,
    "start_time": "2025-01-13T16:17:17.488Z"
   },
   {
    "duration": 12,
    "start_time": "2025-01-13T16:17:28.761Z"
   },
   {
    "duration": 26,
    "start_time": "2025-01-13T16:18:45.566Z"
   },
   {
    "duration": 47,
    "start_time": "2025-01-13T16:21:24.684Z"
   },
   {
    "duration": 43,
    "start_time": "2025-01-13T16:22:12.107Z"
   },
   {
    "duration": 27,
    "start_time": "2025-01-13T16:23:33.196Z"
   },
   {
    "duration": 46,
    "start_time": "2025-01-13T16:24:00.237Z"
   },
   {
    "duration": 30,
    "start_time": "2025-01-13T16:25:23.588Z"
   },
   {
    "duration": 88,
    "start_time": "2025-01-13T16:25:36.696Z"
   },
   {
    "duration": 143,
    "start_time": "2025-01-13T16:27:10.083Z"
   },
   {
    "duration": 122,
    "start_time": "2025-01-13T16:27:37.133Z"
   },
   {
    "duration": 121,
    "start_time": "2025-01-13T16:27:57.190Z"
   },
   {
    "duration": 42,
    "start_time": "2025-01-13T16:32:16.062Z"
   },
   {
    "duration": 42,
    "start_time": "2025-01-13T16:32:50.054Z"
   },
   {
    "duration": 80,
    "start_time": "2025-01-13T16:33:02.470Z"
   },
   {
    "duration": 80,
    "start_time": "2025-01-13T16:33:13.494Z"
   },
   {
    "duration": 13,
    "start_time": "2025-01-13T17:05:53.668Z"
   },
   {
    "duration": 5,
    "start_time": "2025-01-13T17:06:00.677Z"
   },
   {
    "duration": 13,
    "start_time": "2025-01-13T17:06:02.270Z"
   },
   {
    "duration": 40,
    "start_time": "2025-01-13T17:06:13.023Z"
   },
   {
    "duration": 11,
    "start_time": "2025-01-13T17:06:22.955Z"
   },
   {
    "duration": 14,
    "start_time": "2025-01-13T17:06:46.099Z"
   },
   {
    "duration": 157,
    "start_time": "2025-01-13T17:06:56.134Z"
   },
   {
    "duration": 130,
    "start_time": "2025-01-13T17:07:30.365Z"
   },
   {
    "duration": 19,
    "start_time": "2025-01-13T17:11:10.090Z"
   },
   {
    "duration": 19,
    "start_time": "2025-01-13T17:11:19.714Z"
   },
   {
    "duration": 18,
    "start_time": "2025-01-13T17:11:30.370Z"
   },
   {
    "duration": 18,
    "start_time": "2025-01-13T17:11:42.242Z"
   },
   {
    "duration": 18,
    "start_time": "2025-01-13T17:12:12.553Z"
   },
   {
    "duration": 19,
    "start_time": "2025-01-13T17:12:27.998Z"
   },
   {
    "duration": 18,
    "start_time": "2025-01-13T17:12:48.189Z"
   },
   {
    "duration": 5,
    "start_time": "2025-01-13T17:13:12.773Z"
   },
   {
    "duration": 5,
    "start_time": "2025-01-13T17:13:25.463Z"
   },
   {
    "duration": 41,
    "start_time": "2025-01-13T17:13:43.897Z"
   },
   {
    "duration": 5,
    "start_time": "2025-01-13T17:14:01.445Z"
   },
   {
    "duration": 5,
    "start_time": "2025-01-13T17:14:11.508Z"
   },
   {
    "duration": 3,
    "start_time": "2025-01-13T17:14:18.878Z"
   },
   {
    "duration": 5,
    "start_time": "2025-01-13T17:14:19.454Z"
   },
   {
    "duration": 18,
    "start_time": "2025-01-13T17:14:35.924Z"
   },
   {
    "duration": 18,
    "start_time": "2025-01-13T17:14:48.408Z"
   },
   {
    "duration": 17,
    "start_time": "2025-01-13T17:15:14.421Z"
   },
   {
    "duration": 6,
    "start_time": "2025-01-13T17:15:32.440Z"
   },
   {
    "duration": 5,
    "start_time": "2025-01-13T17:20:54.596Z"
   },
   {
    "duration": 131,
    "start_time": "2025-01-13T17:21:42.728Z"
   },
   {
    "duration": 302,
    "start_time": "2025-01-13T17:23:58.982Z"
   },
   {
    "duration": 423,
    "start_time": "2025-01-13T17:23:59.286Z"
   },
   {
    "duration": 97,
    "start_time": "2025-01-13T17:23:59.710Z"
   },
   {
    "duration": 14,
    "start_time": "2025-01-13T17:23:59.809Z"
   },
   {
    "duration": 247,
    "start_time": "2025-01-13T17:23:59.824Z"
   },
   {
    "duration": 348,
    "start_time": "2025-01-13T17:24:00.073Z"
   },
   {
    "duration": 34,
    "start_time": "2025-01-13T17:24:00.423Z"
   },
   {
    "duration": 43,
    "start_time": "2025-01-13T17:24:00.459Z"
   },
   {
    "duration": 46,
    "start_time": "2025-01-13T17:24:00.504Z"
   },
   {
    "duration": 32,
    "start_time": "2025-01-13T17:24:00.554Z"
   },
   {
    "duration": 34,
    "start_time": "2025-01-13T17:24:00.587Z"
   },
   {
    "duration": 222,
    "start_time": "2025-01-13T17:24:00.622Z"
   },
   {
    "duration": 12282,
    "start_time": "2025-01-13T17:24:00.846Z"
   },
   {
    "duration": 56,
    "start_time": "2025-01-13T17:24:13.130Z"
   },
   {
    "duration": 80,
    "start_time": "2025-01-13T17:24:13.188Z"
   },
   {
    "duration": 5,
    "start_time": "2025-01-13T17:24:13.270Z"
   },
   {
    "duration": 0,
    "start_time": "2025-01-13T17:24:13.277Z"
   },
   {
    "duration": 0,
    "start_time": "2025-01-13T17:24:13.278Z"
   },
   {
    "duration": 0,
    "start_time": "2025-01-13T17:24:13.280Z"
   },
   {
    "duration": 1,
    "start_time": "2025-01-13T17:24:13.280Z"
   },
   {
    "duration": 0,
    "start_time": "2025-01-13T17:24:13.282Z"
   },
   {
    "duration": 0,
    "start_time": "2025-01-13T17:24:13.282Z"
   },
   {
    "duration": 0,
    "start_time": "2025-01-13T17:24:13.283Z"
   },
   {
    "duration": 0,
    "start_time": "2025-01-13T17:24:13.285Z"
   },
   {
    "duration": 0,
    "start_time": "2025-01-13T17:24:13.285Z"
   },
   {
    "duration": 0,
    "start_time": "2025-01-13T17:24:13.286Z"
   },
   {
    "duration": 0,
    "start_time": "2025-01-13T17:24:13.287Z"
   },
   {
    "duration": 295,
    "start_time": "2025-01-13T17:24:39.890Z"
   },
   {
    "duration": 424,
    "start_time": "2025-01-13T17:24:40.189Z"
   },
   {
    "duration": 94,
    "start_time": "2025-01-13T17:24:40.615Z"
   },
   {
    "duration": 14,
    "start_time": "2025-01-13T17:24:40.712Z"
   },
   {
    "duration": 261,
    "start_time": "2025-01-13T17:24:40.727Z"
   },
   {
    "duration": 344,
    "start_time": "2025-01-13T17:24:40.990Z"
   },
   {
    "duration": 35,
    "start_time": "2025-01-13T17:24:41.336Z"
   },
   {
    "duration": 31,
    "start_time": "2025-01-13T17:24:41.373Z"
   },
   {
    "duration": 47,
    "start_time": "2025-01-13T17:24:41.406Z"
   },
   {
    "duration": 32,
    "start_time": "2025-01-13T17:24:41.457Z"
   },
   {
    "duration": 34,
    "start_time": "2025-01-13T17:24:41.490Z"
   },
   {
    "duration": 216,
    "start_time": "2025-01-13T17:24:41.526Z"
   },
   {
    "duration": 12268,
    "start_time": "2025-01-13T17:24:41.744Z"
   },
   {
    "duration": 59,
    "start_time": "2025-01-13T17:24:54.014Z"
   },
   {
    "duration": 74,
    "start_time": "2025-01-13T17:24:54.075Z"
   },
   {
    "duration": 4,
    "start_time": "2025-01-13T17:24:54.151Z"
   },
   {
    "duration": 0,
    "start_time": "2025-01-13T17:24:54.156Z"
   },
   {
    "duration": 0,
    "start_time": "2025-01-13T17:24:54.158Z"
   },
   {
    "duration": 0,
    "start_time": "2025-01-13T17:24:54.160Z"
   },
   {
    "duration": 0,
    "start_time": "2025-01-13T17:24:54.161Z"
   },
   {
    "duration": 0,
    "start_time": "2025-01-13T17:24:54.163Z"
   },
   {
    "duration": 0,
    "start_time": "2025-01-13T17:24:54.164Z"
   },
   {
    "duration": 0,
    "start_time": "2025-01-13T17:24:54.166Z"
   },
   {
    "duration": 0,
    "start_time": "2025-01-13T17:24:54.168Z"
   },
   {
    "duration": 0,
    "start_time": "2025-01-13T17:24:54.169Z"
   },
   {
    "duration": 0,
    "start_time": "2025-01-13T17:24:54.171Z"
   },
   {
    "duration": 0,
    "start_time": "2025-01-13T17:24:54.173Z"
   },
   {
    "duration": 49,
    "start_time": "2025-01-13T17:25:11.316Z"
   },
   {
    "duration": 12529,
    "start_time": "2025-01-13T17:25:15.717Z"
   },
   {
    "duration": 55,
    "start_time": "2025-01-13T17:25:28.248Z"
   },
   {
    "duration": 94,
    "start_time": "2025-01-13T17:25:28.305Z"
   },
   {
    "duration": 185,
    "start_time": "2025-01-13T17:25:46.655Z"
   },
   {
    "duration": 1121,
    "start_time": "2025-01-13T17:27:14.925Z"
   },
   {
    "duration": 202,
    "start_time": "2025-01-13T17:27:34.165Z"
   },
   {
    "duration": 167,
    "start_time": "2025-01-13T17:28:03.456Z"
   },
   {
    "duration": 171,
    "start_time": "2025-01-13T17:28:43.183Z"
   },
   {
    "duration": 166,
    "start_time": "2025-01-13T17:29:38.887Z"
   },
   {
    "duration": 10,
    "start_time": "2025-01-13T17:42:28.330Z"
   },
   {
    "duration": 16,
    "start_time": "2025-01-13T17:43:09.496Z"
   },
   {
    "duration": 11,
    "start_time": "2025-01-13T17:43:21.990Z"
   },
   {
    "duration": 101,
    "start_time": "2025-01-13T17:43:35.738Z"
   },
   {
    "duration": 139,
    "start_time": "2025-01-13T17:48:16.905Z"
   },
   {
    "duration": 6,
    "start_time": "2025-01-13T17:48:43.432Z"
   },
   {
    "duration": 8,
    "start_time": "2025-01-13T17:48:57.659Z"
   },
   {
    "duration": 6,
    "start_time": "2025-01-13T17:49:23.874Z"
   },
   {
    "duration": 9,
    "start_time": "2025-01-13T17:50:21.632Z"
   },
   {
    "duration": 8,
    "start_time": "2025-01-13T17:50:39.158Z"
   },
   {
    "duration": 11,
    "start_time": "2025-01-13T17:50:58.494Z"
   },
   {
    "duration": 9,
    "start_time": "2025-01-13T17:51:09.554Z"
   },
   {
    "duration": 122,
    "start_time": "2025-01-13T17:54:24.321Z"
   },
   {
    "duration": 126,
    "start_time": "2025-01-13T19:50:24.755Z"
   },
   {
    "duration": 149,
    "start_time": "2025-01-13T19:50:37.840Z"
   },
   {
    "duration": 180,
    "start_time": "2025-01-13T19:50:56.301Z"
   },
   {
    "duration": 443,
    "start_time": "2025-01-13T19:54:34.186Z"
   },
   {
    "duration": 420,
    "start_time": "2025-01-13T19:54:44.256Z"
   },
   {
    "duration": 55,
    "start_time": "2025-01-13T19:55:32.142Z"
   },
   {
    "duration": 51,
    "start_time": "2025-01-13T19:55:50.788Z"
   },
   {
    "duration": 8,
    "start_time": "2025-01-13T19:56:23.547Z"
   },
   {
    "duration": 285,
    "start_time": "2025-01-13T19:57:30.634Z"
   },
   {
    "duration": 420,
    "start_time": "2025-01-13T19:57:30.921Z"
   },
   {
    "duration": 100,
    "start_time": "2025-01-13T19:57:31.343Z"
   },
   {
    "duration": 14,
    "start_time": "2025-01-13T19:57:31.445Z"
   },
   {
    "duration": 275,
    "start_time": "2025-01-13T19:57:31.461Z"
   },
   {
    "duration": 339,
    "start_time": "2025-01-13T19:57:31.737Z"
   },
   {
    "duration": 32,
    "start_time": "2025-01-13T19:57:32.077Z"
   },
   {
    "duration": 43,
    "start_time": "2025-01-13T19:57:32.110Z"
   },
   {
    "duration": 31,
    "start_time": "2025-01-13T19:57:32.155Z"
   },
   {
    "duration": 29,
    "start_time": "2025-01-13T19:57:32.189Z"
   },
   {
    "duration": 49,
    "start_time": "2025-01-13T19:57:32.220Z"
   },
   {
    "duration": 189,
    "start_time": "2025-01-13T19:57:32.271Z"
   },
   {
    "duration": 13355,
    "start_time": "2025-01-13T19:57:32.462Z"
   },
   {
    "duration": 55,
    "start_time": "2025-01-13T19:57:45.819Z"
   },
   {
    "duration": 73,
    "start_time": "2025-01-13T19:57:45.875Z"
   },
   {
    "duration": 49,
    "start_time": "2025-01-13T19:57:45.949Z"
   },
   {
    "duration": 12698,
    "start_time": "2025-01-13T19:57:46.000Z"
   },
   {
    "duration": 60,
    "start_time": "2025-01-13T19:57:58.700Z"
   },
   {
    "duration": 86,
    "start_time": "2025-01-13T19:57:58.761Z"
   },
   {
    "duration": 11,
    "start_time": "2025-01-13T19:57:58.849Z"
   },
   {
    "duration": 370,
    "start_time": "2025-01-13T19:57:58.862Z"
   },
   {
    "duration": 890,
    "start_time": "2025-01-13T19:57:59.233Z"
   },
   {
    "duration": 0,
    "start_time": "2025-01-13T19:58:00.125Z"
   },
   {
    "duration": 0,
    "start_time": "2025-01-13T19:58:00.127Z"
   },
   {
    "duration": 87,
    "start_time": "2025-01-13T19:58:25.917Z"
   },
   {
    "duration": 121,
    "start_time": "2025-01-13T19:59:24.592Z"
   },
   {
    "duration": 179,
    "start_time": "2025-01-13T19:59:33.605Z"
   },
   {
    "duration": 45,
    "start_time": "2025-01-13T20:00:24.939Z"
   },
   {
    "duration": 12,
    "start_time": "2025-01-13T20:19:06.711Z"
   },
   {
    "duration": 2,
    "start_time": "2025-01-13T20:19:23.098Z"
   },
   {
    "duration": 8,
    "start_time": "2025-01-13T20:19:28.217Z"
   },
   {
    "duration": 98,
    "start_time": "2025-01-13T20:19:44.598Z"
   },
   {
    "duration": 368,
    "start_time": "2025-01-13T20:19:52.386Z"
   },
   {
    "duration": 171,
    "start_time": "2025-01-13T20:19:59.455Z"
   },
   {
    "duration": 296,
    "start_time": "2025-01-13T20:20:28.937Z"
   },
   {
    "duration": 415,
    "start_time": "2025-01-13T20:20:29.236Z"
   },
   {
    "duration": 106,
    "start_time": "2025-01-13T20:20:29.652Z"
   },
   {
    "duration": 15,
    "start_time": "2025-01-13T20:20:29.762Z"
   },
   {
    "duration": 259,
    "start_time": "2025-01-13T20:20:29.778Z"
   },
   {
    "duration": 338,
    "start_time": "2025-01-13T20:20:30.043Z"
   },
   {
    "duration": 31,
    "start_time": "2025-01-13T20:20:30.384Z"
   },
   {
    "duration": 44,
    "start_time": "2025-01-13T20:20:30.417Z"
   },
   {
    "duration": 36,
    "start_time": "2025-01-13T20:20:30.463Z"
   },
   {
    "duration": 52,
    "start_time": "2025-01-13T20:20:30.502Z"
   },
   {
    "duration": 33,
    "start_time": "2025-01-13T20:20:30.556Z"
   },
   {
    "duration": 200,
    "start_time": "2025-01-13T20:20:30.591Z"
   },
   {
    "duration": 12152,
    "start_time": "2025-01-13T20:20:30.792Z"
   },
   {
    "duration": 53,
    "start_time": "2025-01-13T20:20:42.947Z"
   },
   {
    "duration": 87,
    "start_time": "2025-01-13T20:20:43.001Z"
   },
   {
    "duration": 54,
    "start_time": "2025-01-13T20:20:43.090Z"
   },
   {
    "duration": 12059,
    "start_time": "2025-01-13T20:20:43.146Z"
   },
   {
    "duration": 58,
    "start_time": "2025-01-13T20:20:55.207Z"
   },
   {
    "duration": 63,
    "start_time": "2025-01-13T20:20:55.267Z"
   },
   {
    "duration": 10,
    "start_time": "2025-01-13T20:20:55.344Z"
   },
   {
    "duration": 390,
    "start_time": "2025-01-13T20:20:55.356Z"
   },
   {
    "duration": 34,
    "start_time": "2025-01-13T20:20:55.748Z"
   },
   {
    "duration": 199,
    "start_time": "2025-01-13T20:20:55.783Z"
   },
   {
    "duration": 190,
    "start_time": "2025-01-13T20:20:55.984Z"
   },
   {
    "duration": 158,
    "start_time": "2025-01-13T20:21:09.388Z"
   },
   {
    "duration": 326,
    "start_time": "2025-01-13T20:28:49.588Z"
   },
   {
    "duration": 561,
    "start_time": "2025-01-13T20:30:05.437Z"
   },
   {
    "duration": 434,
    "start_time": "2025-01-13T20:30:05.999Z"
   },
   {
    "duration": 102,
    "start_time": "2025-01-13T20:30:06.435Z"
   },
   {
    "duration": 13,
    "start_time": "2025-01-13T20:30:06.539Z"
   },
   {
    "duration": 265,
    "start_time": "2025-01-13T20:30:06.553Z"
   },
   {
    "duration": 350,
    "start_time": "2025-01-13T20:30:06.819Z"
   },
   {
    "duration": 31,
    "start_time": "2025-01-13T20:30:07.171Z"
   },
   {
    "duration": 47,
    "start_time": "2025-01-13T20:30:07.204Z"
   },
   {
    "duration": 34,
    "start_time": "2025-01-13T20:30:07.253Z"
   },
   {
    "duration": 33,
    "start_time": "2025-01-13T20:30:07.290Z"
   },
   {
    "duration": 53,
    "start_time": "2025-01-13T20:30:07.324Z"
   },
   {
    "duration": 202,
    "start_time": "2025-01-13T20:30:07.379Z"
   },
   {
    "duration": 12462,
    "start_time": "2025-01-13T20:30:07.584Z"
   },
   {
    "duration": 50,
    "start_time": "2025-01-13T20:30:20.048Z"
   },
   {
    "duration": 80,
    "start_time": "2025-01-13T20:30:20.100Z"
   },
   {
    "duration": 49,
    "start_time": "2025-01-13T20:30:20.182Z"
   },
   {
    "duration": 12819,
    "start_time": "2025-01-13T20:30:20.243Z"
   },
   {
    "duration": 53,
    "start_time": "2025-01-13T20:30:33.064Z"
   },
   {
    "duration": 100,
    "start_time": "2025-01-13T20:30:33.119Z"
   },
   {
    "duration": 11,
    "start_time": "2025-01-13T20:30:33.220Z"
   },
   {
    "duration": 405,
    "start_time": "2025-01-13T20:30:33.232Z"
   },
   {
    "duration": 43,
    "start_time": "2025-01-13T20:30:33.639Z"
   },
   {
    "duration": 270,
    "start_time": "2025-01-13T20:30:33.684Z"
   },
   {
    "duration": 233,
    "start_time": "2025-01-13T20:30:33.958Z"
   },
   {
    "duration": 262,
    "start_time": "2025-01-13T20:30:51.435Z"
   },
   {
    "duration": 263,
    "start_time": "2025-01-13T20:30:59.839Z"
   },
   {
    "duration": 239,
    "start_time": "2025-01-13T20:31:08.433Z"
   },
   {
    "duration": 208,
    "start_time": "2025-01-13T20:31:15.500Z"
   },
   {
    "duration": 159,
    "start_time": "2025-01-13T20:33:25.042Z"
   },
   {
    "duration": 148,
    "start_time": "2025-01-13T20:33:39.786Z"
   },
   {
    "duration": 5,
    "start_time": "2025-01-13T20:35:43.338Z"
   },
   {
    "duration": 278,
    "start_time": "2025-01-13T20:41:31.033Z"
   },
   {
    "duration": 122,
    "start_time": "2025-01-13T20:41:35.333Z"
   },
   {
    "duration": 2,
    "start_time": "2025-01-13T20:41:38.832Z"
   },
   {
    "duration": 2,
    "start_time": "2025-01-13T20:41:40.866Z"
   },
   {
    "duration": 349,
    "start_time": "2025-01-13T20:45:39.572Z"
   },
   {
    "duration": 37,
    "start_time": "2025-01-13T20:46:33.839Z"
   },
   {
    "duration": 41,
    "start_time": "2025-01-13T20:46:50.320Z"
   },
   {
    "duration": 622,
    "start_time": "2025-01-13T20:47:18.391Z"
   },
   {
    "duration": 731,
    "start_time": "2025-01-13T20:47:23.524Z"
   },
   {
    "duration": 768,
    "start_time": "2025-01-13T20:55:26.847Z"
   },
   {
    "duration": 420,
    "start_time": "2025-01-13T20:55:27.617Z"
   },
   {
    "duration": 105,
    "start_time": "2025-01-13T20:55:28.039Z"
   },
   {
    "duration": 14,
    "start_time": "2025-01-13T20:55:28.145Z"
   },
   {
    "duration": 254,
    "start_time": "2025-01-13T20:55:28.162Z"
   },
   {
    "duration": 364,
    "start_time": "2025-01-13T20:55:28.418Z"
   },
   {
    "duration": 35,
    "start_time": "2025-01-13T20:55:28.784Z"
   },
   {
    "duration": 44,
    "start_time": "2025-01-13T20:55:28.821Z"
   },
   {
    "duration": 31,
    "start_time": "2025-01-13T20:55:28.867Z"
   },
   {
    "duration": 48,
    "start_time": "2025-01-13T20:55:28.900Z"
   },
   {
    "duration": 37,
    "start_time": "2025-01-13T20:55:28.950Z"
   },
   {
    "duration": 202,
    "start_time": "2025-01-13T20:55:28.988Z"
   },
   {
    "duration": 12621,
    "start_time": "2025-01-13T20:55:29.192Z"
   },
   {
    "duration": 62,
    "start_time": "2025-01-13T20:55:41.816Z"
   },
   {
    "duration": 85,
    "start_time": "2025-01-13T20:55:41.880Z"
   },
   {
    "duration": 50,
    "start_time": "2025-01-13T20:55:41.967Z"
   },
   {
    "duration": 13106,
    "start_time": "2025-01-13T20:55:42.018Z"
   },
   {
    "duration": 60,
    "start_time": "2025-01-13T20:55:55.127Z"
   },
   {
    "duration": 66,
    "start_time": "2025-01-13T20:55:55.190Z"
   },
   {
    "duration": 3,
    "start_time": "2025-01-13T20:55:55.258Z"
   },
   {
    "duration": 854,
    "start_time": "2025-01-13T20:55:55.262Z"
   },
   {
    "duration": 3,
    "start_time": "2025-01-13T20:55:56.119Z"
   },
   {
    "duration": 603,
    "start_time": "2025-01-13T20:55:56.124Z"
   },
   {
    "duration": 0,
    "start_time": "2025-01-13T20:55:56.728Z"
   },
   {
    "duration": 0,
    "start_time": "2025-01-13T20:55:56.730Z"
   },
   {
    "duration": 0,
    "start_time": "2025-01-13T20:55:56.731Z"
   },
   {
    "duration": 0,
    "start_time": "2025-01-13T20:55:56.732Z"
   },
   {
    "duration": 0,
    "start_time": "2025-01-13T20:55:56.742Z"
   },
   {
    "duration": 3,
    "start_time": "2025-01-13T20:57:02.692Z"
   },
   {
    "duration": 175,
    "start_time": "2025-01-13T20:57:13.737Z"
   },
   {
    "duration": 216,
    "start_time": "2025-01-13T20:59:23.588Z"
   },
   {
    "duration": 204,
    "start_time": "2025-01-13T21:00:53.491Z"
   },
   {
    "duration": 30,
    "start_time": "2025-01-13T21:00:58.611Z"
   },
   {
    "duration": 761,
    "start_time": "2025-01-13T21:01:12.960Z"
   },
   {
    "duration": 403,
    "start_time": "2025-01-13T21:01:13.723Z"
   },
   {
    "duration": 106,
    "start_time": "2025-01-13T21:01:14.128Z"
   },
   {
    "duration": 16,
    "start_time": "2025-01-13T21:01:14.243Z"
   },
   {
    "duration": 261,
    "start_time": "2025-01-13T21:01:14.262Z"
   },
   {
    "duration": 359,
    "start_time": "2025-01-13T21:01:14.525Z"
   },
   {
    "duration": 31,
    "start_time": "2025-01-13T21:01:14.885Z"
   },
   {
    "duration": 42,
    "start_time": "2025-01-13T21:01:14.917Z"
   },
   {
    "duration": 32,
    "start_time": "2025-01-13T21:01:14.961Z"
   },
   {
    "duration": 49,
    "start_time": "2025-01-13T21:01:14.995Z"
   },
   {
    "duration": 37,
    "start_time": "2025-01-13T21:01:15.046Z"
   },
   {
    "duration": 214,
    "start_time": "2025-01-13T21:01:15.084Z"
   },
   {
    "duration": 12224,
    "start_time": "2025-01-13T21:01:15.300Z"
   },
   {
    "duration": 60,
    "start_time": "2025-01-13T21:01:27.528Z"
   },
   {
    "duration": 80,
    "start_time": "2025-01-13T21:01:27.589Z"
   },
   {
    "duration": 49,
    "start_time": "2025-01-13T21:01:27.671Z"
   },
   {
    "duration": 12403,
    "start_time": "2025-01-13T21:01:27.721Z"
   },
   {
    "duration": 52,
    "start_time": "2025-01-13T21:01:40.127Z"
   },
   {
    "duration": 73,
    "start_time": "2025-01-13T21:01:40.181Z"
   },
   {
    "duration": 2,
    "start_time": "2025-01-13T21:01:40.256Z"
   },
   {
    "duration": 747,
    "start_time": "2025-01-13T21:01:40.260Z"
   },
   {
    "duration": 3,
    "start_time": "2025-01-13T21:01:41.009Z"
   },
   {
    "duration": 247,
    "start_time": "2025-01-13T21:01:41.014Z"
   },
   {
    "duration": 599,
    "start_time": "2025-01-13T21:01:41.263Z"
   },
   {
    "duration": 0,
    "start_time": "2025-01-13T21:01:41.863Z"
   },
   {
    "duration": 0,
    "start_time": "2025-01-13T21:01:41.864Z"
   },
   {
    "duration": 0,
    "start_time": "2025-01-13T21:01:41.866Z"
   },
   {
    "duration": 0,
    "start_time": "2025-01-13T21:01:41.867Z"
   },
   {
    "duration": 18,
    "start_time": "2025-01-13T21:03:05.182Z"
   },
   {
    "duration": 783,
    "start_time": "2025-01-13T21:04:20.763Z"
   },
   {
    "duration": 406,
    "start_time": "2025-01-13T21:04:21.548Z"
   },
   {
    "duration": 100,
    "start_time": "2025-01-13T21:04:21.956Z"
   },
   {
    "duration": 14,
    "start_time": "2025-01-13T21:04:22.060Z"
   },
   {
    "duration": 270,
    "start_time": "2025-01-13T21:04:22.076Z"
   },
   {
    "duration": 371,
    "start_time": "2025-01-13T21:04:22.349Z"
   },
   {
    "duration": 35,
    "start_time": "2025-01-13T21:04:22.722Z"
   },
   {
    "duration": 30,
    "start_time": "2025-01-13T21:04:22.758Z"
   },
   {
    "duration": 30,
    "start_time": "2025-01-13T21:04:22.790Z"
   },
   {
    "duration": 34,
    "start_time": "2025-01-13T21:04:22.844Z"
   },
   {
    "duration": 35,
    "start_time": "2025-01-13T21:04:22.880Z"
   },
   {
    "duration": 214,
    "start_time": "2025-01-13T21:04:22.917Z"
   },
   {
    "duration": 12648,
    "start_time": "2025-01-13T21:04:23.134Z"
   },
   {
    "duration": 48,
    "start_time": "2025-01-13T21:04:35.784Z"
   },
   {
    "duration": 78,
    "start_time": "2025-01-13T21:04:35.833Z"
   },
   {
    "duration": 61,
    "start_time": "2025-01-13T21:04:35.913Z"
   },
   {
    "duration": 12631,
    "start_time": "2025-01-13T21:04:35.976Z"
   },
   {
    "duration": 64,
    "start_time": "2025-01-13T21:04:48.610Z"
   },
   {
    "duration": 84,
    "start_time": "2025-01-13T21:04:48.675Z"
   },
   {
    "duration": 3,
    "start_time": "2025-01-13T21:04:48.761Z"
   },
   {
    "duration": 759,
    "start_time": "2025-01-13T21:04:48.766Z"
   },
   {
    "duration": 3,
    "start_time": "2025-01-13T21:04:49.527Z"
   },
   {
    "duration": 587,
    "start_time": "2025-01-13T21:04:49.543Z"
   },
   {
    "duration": 0,
    "start_time": "2025-01-13T21:04:50.132Z"
   },
   {
    "duration": 0,
    "start_time": "2025-01-13T21:04:50.134Z"
   },
   {
    "duration": 0,
    "start_time": "2025-01-13T21:04:50.135Z"
   },
   {
    "duration": 0,
    "start_time": "2025-01-13T21:04:50.142Z"
   },
   {
    "duration": 0,
    "start_time": "2025-01-13T21:04:50.144Z"
   },
   {
    "duration": 20,
    "start_time": "2025-01-13T21:06:07.762Z"
   },
   {
    "duration": 22,
    "start_time": "2025-01-13T21:06:23.503Z"
   },
   {
    "duration": 39,
    "start_time": "2025-01-13T21:06:49.028Z"
   },
   {
    "duration": 98,
    "start_time": "2025-01-13T21:08:31.020Z"
   },
   {
    "duration": 104,
    "start_time": "2025-01-13T21:08:48.020Z"
   },
   {
    "duration": 742,
    "start_time": "2025-01-13T21:13:02.705Z"
   },
   {
    "duration": 407,
    "start_time": "2025-01-13T21:13:03.450Z"
   },
   {
    "duration": 97,
    "start_time": "2025-01-13T21:13:03.859Z"
   },
   {
    "duration": 12,
    "start_time": "2025-01-13T21:13:03.958Z"
   },
   {
    "duration": 24,
    "start_time": "2025-01-13T21:13:03.972Z"
   },
   {
    "duration": 253,
    "start_time": "2025-01-13T21:13:03.998Z"
   },
   {
    "duration": 369,
    "start_time": "2025-01-13T21:13:04.253Z"
   },
   {
    "duration": 34,
    "start_time": "2025-01-13T21:13:04.624Z"
   },
   {
    "duration": 32,
    "start_time": "2025-01-13T21:13:04.660Z"
   },
   {
    "duration": 52,
    "start_time": "2025-01-13T21:13:04.694Z"
   },
   {
    "duration": 32,
    "start_time": "2025-01-13T21:13:04.748Z"
   },
   {
    "duration": 36,
    "start_time": "2025-01-13T21:13:04.781Z"
   },
   {
    "duration": 210,
    "start_time": "2025-01-13T21:13:04.818Z"
   },
   {
    "duration": 12670,
    "start_time": "2025-01-13T21:13:05.032Z"
   },
   {
    "duration": 59,
    "start_time": "2025-01-13T21:13:17.704Z"
   },
   {
    "duration": 79,
    "start_time": "2025-01-13T21:13:17.765Z"
   },
   {
    "duration": 51,
    "start_time": "2025-01-13T21:13:17.846Z"
   },
   {
    "duration": 13245,
    "start_time": "2025-01-13T21:13:17.899Z"
   },
   {
    "duration": 48,
    "start_time": "2025-01-13T21:13:31.146Z"
   },
   {
    "duration": 74,
    "start_time": "2025-01-13T21:13:31.195Z"
   },
   {
    "duration": 2,
    "start_time": "2025-01-13T21:13:31.271Z"
   },
   {
    "duration": 734,
    "start_time": "2025-01-13T21:13:31.275Z"
   },
   {
    "duration": 2,
    "start_time": "2025-01-13T21:13:32.011Z"
   },
   {
    "duration": 113,
    "start_time": "2025-01-13T21:13:32.016Z"
   },
   {
    "duration": 19,
    "start_time": "2025-01-13T21:13:32.130Z"
   },
   {
    "duration": 288,
    "start_time": "2025-01-13T21:13:32.150Z"
   },
   {
    "duration": 43,
    "start_time": "2025-01-13T21:13:32.442Z"
   },
   {
    "duration": 214,
    "start_time": "2025-01-13T21:13:32.488Z"
   },
   {
    "duration": 225,
    "start_time": "2025-01-13T21:13:32.705Z"
   },
   {
    "duration": 761,
    "start_time": "2025-01-13T21:15:09.678Z"
   },
   {
    "duration": 441,
    "start_time": "2025-01-13T21:15:10.442Z"
   },
   {
    "duration": 96,
    "start_time": "2025-01-13T21:15:10.884Z"
   },
   {
    "duration": 14,
    "start_time": "2025-01-13T21:15:10.982Z"
   },
   {
    "duration": 45,
    "start_time": "2025-01-13T21:15:10.998Z"
   },
   {
    "duration": 252,
    "start_time": "2025-01-13T21:15:11.045Z"
   },
   {
    "duration": 356,
    "start_time": "2025-01-13T21:15:11.298Z"
   },
   {
    "duration": 34,
    "start_time": "2025-01-13T21:15:11.656Z"
   },
   {
    "duration": 33,
    "start_time": "2025-01-13T21:15:11.693Z"
   },
   {
    "duration": 34,
    "start_time": "2025-01-13T21:15:11.744Z"
   },
   {
    "duration": 32,
    "start_time": "2025-01-13T21:15:11.780Z"
   },
   {
    "duration": 56,
    "start_time": "2025-01-13T21:15:11.813Z"
   },
   {
    "duration": 202,
    "start_time": "2025-01-13T21:15:11.871Z"
   },
   {
    "duration": 12935,
    "start_time": "2025-01-13T21:15:12.078Z"
   },
   {
    "duration": 57,
    "start_time": "2025-01-13T21:15:25.014Z"
   },
   {
    "duration": 74,
    "start_time": "2025-01-13T21:15:25.073Z"
   },
   {
    "duration": 53,
    "start_time": "2025-01-13T21:15:25.148Z"
   },
   {
    "duration": 12739,
    "start_time": "2025-01-13T21:15:25.203Z"
   },
   {
    "duration": 50,
    "start_time": "2025-01-13T21:15:37.944Z"
   },
   {
    "duration": 75,
    "start_time": "2025-01-13T21:15:37.995Z"
   },
   {
    "duration": 3,
    "start_time": "2025-01-13T21:15:38.071Z"
   },
   {
    "duration": 734,
    "start_time": "2025-01-13T21:15:38.076Z"
   },
   {
    "duration": 3,
    "start_time": "2025-01-13T21:15:38.812Z"
   },
   {
    "duration": 112,
    "start_time": "2025-01-13T21:15:38.816Z"
   },
   {
    "duration": 19,
    "start_time": "2025-01-13T21:15:38.930Z"
   },
   {
    "duration": 303,
    "start_time": "2025-01-13T21:15:38.950Z"
   },
   {
    "duration": 46,
    "start_time": "2025-01-13T21:15:39.255Z"
   },
   {
    "duration": 235,
    "start_time": "2025-01-13T21:15:39.302Z"
   },
   {
    "duration": 225,
    "start_time": "2025-01-13T21:15:39.539Z"
   },
   {
    "duration": 764,
    "start_time": "2025-01-13T21:17:25.567Z"
   },
   {
    "duration": 429,
    "start_time": "2025-01-13T21:17:26.334Z"
   },
   {
    "duration": 98,
    "start_time": "2025-01-13T21:17:26.764Z"
   },
   {
    "duration": 14,
    "start_time": "2025-01-13T21:17:26.863Z"
   },
   {
    "duration": 266,
    "start_time": "2025-01-13T21:17:26.880Z"
   },
   {
    "duration": 527,
    "start_time": "2025-01-13T21:17:27.148Z"
   },
   {
    "duration": 77,
    "start_time": "2025-01-13T21:17:27.677Z"
   },
   {
    "duration": 106,
    "start_time": "2025-01-13T21:17:27.756Z"
   },
   {
    "duration": 101,
    "start_time": "2025-01-13T21:17:27.864Z"
   },
   {
    "duration": 90,
    "start_time": "2025-01-13T21:17:27.967Z"
   },
   {
    "duration": 40,
    "start_time": "2025-01-13T21:17:28.059Z"
   },
   {
    "duration": 63,
    "start_time": "2025-01-13T21:17:28.101Z"
   },
   {
    "duration": 193,
    "start_time": "2025-01-13T21:17:28.166Z"
   },
   {
    "duration": 12621,
    "start_time": "2025-01-13T21:17:28.363Z"
   },
   {
    "duration": 57,
    "start_time": "2025-01-13T21:17:40.986Z"
   },
   {
    "duration": 72,
    "start_time": "2025-01-13T21:17:41.044Z"
   },
   {
    "duration": 64,
    "start_time": "2025-01-13T21:17:41.118Z"
   },
   {
    "duration": 12565,
    "start_time": "2025-01-13T21:17:41.184Z"
   },
   {
    "duration": 49,
    "start_time": "2025-01-13T21:17:53.752Z"
   },
   {
    "duration": 77,
    "start_time": "2025-01-13T21:17:53.802Z"
   },
   {
    "duration": 2,
    "start_time": "2025-01-13T21:17:53.882Z"
   },
   {
    "duration": 713,
    "start_time": "2025-01-13T21:17:53.886Z"
   },
   {
    "duration": 3,
    "start_time": "2025-01-13T21:17:54.600Z"
   },
   {
    "duration": 109,
    "start_time": "2025-01-13T21:17:54.604Z"
   },
   {
    "duration": 10,
    "start_time": "2025-01-13T21:17:54.715Z"
   },
   {
    "duration": 296,
    "start_time": "2025-01-13T21:17:54.727Z"
   },
   {
    "duration": 51,
    "start_time": "2025-01-13T21:17:55.025Z"
   },
   {
    "duration": 223,
    "start_time": "2025-01-13T21:17:55.077Z"
   },
   {
    "duration": 230,
    "start_time": "2025-01-13T21:17:55.302Z"
   },
   {
    "duration": 741,
    "start_time": "2025-01-13T21:18:26.290Z"
   },
   {
    "duration": 421,
    "start_time": "2025-01-13T21:18:27.034Z"
   },
   {
    "duration": 101,
    "start_time": "2025-01-13T21:18:27.456Z"
   },
   {
    "duration": 14,
    "start_time": "2025-01-13T21:18:27.559Z"
   },
   {
    "duration": 248,
    "start_time": "2025-01-13T21:18:27.575Z"
   },
   {
    "duration": 342,
    "start_time": "2025-01-13T21:18:27.825Z"
   },
   {
    "duration": 31,
    "start_time": "2025-01-13T21:18:28.169Z"
   },
   {
    "duration": 46,
    "start_time": "2025-01-13T21:18:28.202Z"
   },
   {
    "duration": 37,
    "start_time": "2025-01-13T21:18:28.250Z"
   },
   {
    "duration": 33,
    "start_time": "2025-01-13T21:18:28.289Z"
   },
   {
    "duration": 54,
    "start_time": "2025-01-13T21:18:28.324Z"
   },
   {
    "duration": 197,
    "start_time": "2025-01-13T21:18:28.380Z"
   },
   {
    "duration": 19,
    "start_time": "2025-01-13T21:18:28.579Z"
   },
   {
    "duration": 14133,
    "start_time": "2025-01-13T21:18:28.602Z"
   },
   {
    "duration": 53,
    "start_time": "2025-01-13T21:18:42.736Z"
   },
   {
    "duration": 78,
    "start_time": "2025-01-13T21:18:42.790Z"
   },
   {
    "duration": 48,
    "start_time": "2025-01-13T21:18:42.870Z"
   },
   {
    "duration": 13089,
    "start_time": "2025-01-13T21:18:42.920Z"
   },
   {
    "duration": 60,
    "start_time": "2025-01-13T21:18:56.011Z"
   },
   {
    "duration": 81,
    "start_time": "2025-01-13T21:18:56.073Z"
   },
   {
    "duration": 3,
    "start_time": "2025-01-13T21:18:56.156Z"
   },
   {
    "duration": 745,
    "start_time": "2025-01-13T21:18:56.161Z"
   },
   {
    "duration": 3,
    "start_time": "2025-01-13T21:18:56.908Z"
   },
   {
    "duration": 117,
    "start_time": "2025-01-13T21:18:56.913Z"
   },
   {
    "duration": 11,
    "start_time": "2025-01-13T21:18:57.032Z"
   },
   {
    "duration": 310,
    "start_time": "2025-01-13T21:18:57.045Z"
   },
   {
    "duration": 43,
    "start_time": "2025-01-13T21:18:57.357Z"
   },
   {
    "duration": 221,
    "start_time": "2025-01-13T21:18:57.401Z"
   },
   {
    "duration": 223,
    "start_time": "2025-01-13T21:18:57.624Z"
   },
   {
    "duration": 769,
    "start_time": "2025-01-13T21:19:58.860Z"
   },
   {
    "duration": 414,
    "start_time": "2025-01-13T21:19:59.631Z"
   },
   {
    "duration": 100,
    "start_time": "2025-01-13T21:20:00.047Z"
   },
   {
    "duration": 13,
    "start_time": "2025-01-13T21:20:00.148Z"
   },
   {
    "duration": 250,
    "start_time": "2025-01-13T21:20:00.164Z"
   },
   {
    "duration": 355,
    "start_time": "2025-01-13T21:20:00.416Z"
   },
   {
    "duration": 30,
    "start_time": "2025-01-13T21:20:00.773Z"
   },
   {
    "duration": 56,
    "start_time": "2025-01-13T21:20:00.805Z"
   },
   {
    "duration": 38,
    "start_time": "2025-01-13T21:20:00.863Z"
   },
   {
    "duration": 42,
    "start_time": "2025-01-13T21:20:00.902Z"
   },
   {
    "duration": 37,
    "start_time": "2025-01-13T21:20:00.946Z"
   },
   {
    "duration": 212,
    "start_time": "2025-01-13T21:20:00.985Z"
   },
   {
    "duration": 6,
    "start_time": "2025-01-13T21:20:01.199Z"
   },
   {
    "duration": 12901,
    "start_time": "2025-01-13T21:20:01.209Z"
   },
   {
    "duration": 56,
    "start_time": "2025-01-13T21:20:14.112Z"
   },
   {
    "duration": 77,
    "start_time": "2025-01-13T21:20:14.170Z"
   },
   {
    "duration": 47,
    "start_time": "2025-01-13T21:20:14.248Z"
   },
   {
    "duration": 12786,
    "start_time": "2025-01-13T21:20:14.297Z"
   },
   {
    "duration": 57,
    "start_time": "2025-01-13T21:20:27.085Z"
   },
   {
    "duration": 58,
    "start_time": "2025-01-13T21:20:27.144Z"
   },
   {
    "duration": 3,
    "start_time": "2025-01-13T21:20:27.204Z"
   },
   {
    "duration": 723,
    "start_time": "2025-01-13T21:20:27.208Z"
   },
   {
    "duration": 10,
    "start_time": "2025-01-13T21:20:27.933Z"
   },
   {
    "duration": 113,
    "start_time": "2025-01-13T21:20:27.945Z"
   },
   {
    "duration": 12,
    "start_time": "2025-01-13T21:20:28.060Z"
   },
   {
    "duration": 294,
    "start_time": "2025-01-13T21:20:28.073Z"
   },
   {
    "duration": 42,
    "start_time": "2025-01-13T21:20:28.369Z"
   },
   {
    "duration": 211,
    "start_time": "2025-01-13T21:20:28.413Z"
   },
   {
    "duration": 232,
    "start_time": "2025-01-13T21:20:28.626Z"
   },
   {
    "duration": 764,
    "start_time": "2025-01-13T21:20:43.485Z"
   },
   {
    "duration": 412,
    "start_time": "2025-01-13T21:20:44.252Z"
   },
   {
    "duration": 109,
    "start_time": "2025-01-13T21:20:44.665Z"
   },
   {
    "duration": 14,
    "start_time": "2025-01-13T21:20:44.775Z"
   },
   {
    "duration": 260,
    "start_time": "2025-01-13T21:20:44.792Z"
   },
   {
    "duration": 359,
    "start_time": "2025-01-13T21:20:45.053Z"
   },
   {
    "duration": 7,
    "start_time": "2025-01-13T21:20:45.414Z"
   },
   {
    "duration": 44,
    "start_time": "2025-01-13T21:20:45.422Z"
   },
   {
    "duration": 30,
    "start_time": "2025-01-13T21:20:45.468Z"
   },
   {
    "duration": 51,
    "start_time": "2025-01-13T21:20:45.500Z"
   },
   {
    "duration": 34,
    "start_time": "2025-01-13T21:20:45.553Z"
   },
   {
    "duration": 55,
    "start_time": "2025-01-13T21:20:45.588Z"
   },
   {
    "duration": 198,
    "start_time": "2025-01-13T21:20:45.645Z"
   },
   {
    "duration": 12151,
    "start_time": "2025-01-13T21:20:45.846Z"
   },
   {
    "duration": 57,
    "start_time": "2025-01-13T21:20:57.998Z"
   },
   {
    "duration": 71,
    "start_time": "2025-01-13T21:20:58.057Z"
   },
   {
    "duration": 58,
    "start_time": "2025-01-13T21:20:58.129Z"
   },
   {
    "duration": 12855,
    "start_time": "2025-01-13T21:20:58.188Z"
   },
   {
    "duration": 51,
    "start_time": "2025-01-13T21:21:11.045Z"
   },
   {
    "duration": 83,
    "start_time": "2025-01-13T21:21:11.098Z"
   },
   {
    "duration": 2,
    "start_time": "2025-01-13T21:21:11.183Z"
   },
   {
    "duration": 720,
    "start_time": "2025-01-13T21:21:11.187Z"
   },
   {
    "duration": 3,
    "start_time": "2025-01-13T21:21:11.909Z"
   },
   {
    "duration": 117,
    "start_time": "2025-01-13T21:21:11.913Z"
   },
   {
    "duration": 14,
    "start_time": "2025-01-13T21:21:12.032Z"
   },
   {
    "duration": 306,
    "start_time": "2025-01-13T21:21:12.048Z"
   },
   {
    "duration": 47,
    "start_time": "2025-01-13T21:21:12.356Z"
   },
   {
    "duration": 238,
    "start_time": "2025-01-13T21:21:12.405Z"
   },
   {
    "duration": 220,
    "start_time": "2025-01-13T21:21:12.645Z"
   },
   {
    "duration": 768,
    "start_time": "2025-01-13T21:22:23.247Z"
   },
   {
    "duration": 402,
    "start_time": "2025-01-13T21:22:24.017Z"
   },
   {
    "duration": 96,
    "start_time": "2025-01-13T21:22:24.420Z"
   },
   {
    "duration": 13,
    "start_time": "2025-01-13T21:22:24.518Z"
   },
   {
    "duration": 6,
    "start_time": "2025-01-13T21:22:24.544Z"
   },
   {
    "duration": 248,
    "start_time": "2025-01-13T21:22:24.552Z"
   },
   {
    "duration": 340,
    "start_time": "2025-01-13T21:22:24.802Z"
   },
   {
    "duration": 33,
    "start_time": "2025-01-13T21:22:25.144Z"
   },
   {
    "duration": 36,
    "start_time": "2025-01-13T21:22:25.179Z"
   },
   {
    "duration": 48,
    "start_time": "2025-01-13T21:22:25.217Z"
   },
   {
    "duration": 32,
    "start_time": "2025-01-13T21:22:25.267Z"
   },
   {
    "duration": 55,
    "start_time": "2025-01-13T21:22:25.301Z"
   },
   {
    "duration": 197,
    "start_time": "2025-01-13T21:22:25.358Z"
   },
   {
    "duration": 12342,
    "start_time": "2025-01-13T21:22:25.558Z"
   },
   {
    "duration": 59,
    "start_time": "2025-01-13T21:22:37.901Z"
   },
   {
    "duration": 67,
    "start_time": "2025-01-13T21:22:37.962Z"
   },
   {
    "duration": 55,
    "start_time": "2025-01-13T21:22:38.031Z"
   },
   {
    "duration": 13571,
    "start_time": "2025-01-13T21:22:38.088Z"
   },
   {
    "duration": 47,
    "start_time": "2025-01-13T21:22:51.661Z"
   },
   {
    "duration": 70,
    "start_time": "2025-01-13T21:22:51.709Z"
   },
   {
    "duration": 2,
    "start_time": "2025-01-13T21:22:51.781Z"
   },
   {
    "duration": 723,
    "start_time": "2025-01-13T21:22:51.785Z"
   },
   {
    "duration": 7,
    "start_time": "2025-01-13T21:22:52.510Z"
   },
   {
    "duration": 114,
    "start_time": "2025-01-13T21:22:52.519Z"
   },
   {
    "duration": 16,
    "start_time": "2025-01-13T21:22:52.635Z"
   },
   {
    "duration": 291,
    "start_time": "2025-01-13T21:22:52.653Z"
   },
   {
    "duration": 45,
    "start_time": "2025-01-13T21:22:52.946Z"
   },
   {
    "duration": 224,
    "start_time": "2025-01-13T21:22:52.993Z"
   },
   {
    "duration": 229,
    "start_time": "2025-01-13T21:22:53.220Z"
   },
   {
    "duration": 943,
    "start_time": "2025-01-13T22:21:43.418Z"
   },
   {
    "duration": 673,
    "start_time": "2025-01-13T22:21:45.765Z"
   },
   {
    "duration": 153,
    "start_time": "2025-01-13T22:21:47.211Z"
   },
   {
    "duration": 21,
    "start_time": "2025-01-13T22:21:51.099Z"
   },
   {
    "duration": 8,
    "start_time": "2025-01-13T22:21:56.369Z"
   },
   {
    "duration": 152,
    "start_time": "2025-01-13T22:28:16.848Z"
   },
   {
    "duration": 2440,
    "start_time": "2025-01-13T22:34:27.436Z"
   },
   {
    "duration": 14,
    "start_time": "2025-01-13T22:35:13.307Z"
   },
   {
    "duration": 3,
    "start_time": "2025-01-13T22:35:20.286Z"
   },
   {
    "duration": 56,
    "start_time": "2025-01-13T22:35:28.470Z"
   },
   {
    "duration": 3,
    "start_time": "2025-01-13T22:36:15.263Z"
   },
   {
    "duration": 57,
    "start_time": "2025-01-13T22:36:20.073Z"
   },
   {
    "duration": 158,
    "start_time": "2025-01-13T22:40:42.732Z"
   },
   {
    "duration": 156,
    "start_time": "2025-01-13T22:41:51.250Z"
   },
   {
    "duration": 172,
    "start_time": "2025-01-13T22:44:19.005Z"
   },
   {
    "duration": 5,
    "start_time": "2025-01-13T22:47:18.570Z"
   },
   {
    "duration": 7,
    "start_time": "2025-01-13T22:47:29.085Z"
   },
   {
    "duration": 15,
    "start_time": "2025-01-13T22:48:42.789Z"
   },
   {
    "duration": 60,
    "start_time": "2025-01-13T22:49:08.593Z"
   },
   {
    "duration": 3,
    "start_time": "2025-01-13T22:51:50.592Z"
   },
   {
    "duration": 358,
    "start_time": "2025-01-13T22:51:54.691Z"
   },
   {
    "duration": 3,
    "start_time": "2025-01-13T22:52:14.556Z"
   },
   {
    "duration": 42,
    "start_time": "2025-01-13T22:52:34.115Z"
   },
   {
    "duration": 929,
    "start_time": "2025-01-13T22:52:48.486Z"
   },
   {
    "duration": 433,
    "start_time": "2025-01-13T22:52:49.418Z"
   },
   {
    "duration": 100,
    "start_time": "2025-01-13T22:52:49.853Z"
   },
   {
    "duration": 15,
    "start_time": "2025-01-13T22:52:49.955Z"
   },
   {
    "duration": 275,
    "start_time": "2025-01-13T22:52:49.972Z"
   },
   {
    "duration": 382,
    "start_time": "2025-01-13T22:52:50.249Z"
   },
   {
    "duration": 36,
    "start_time": "2025-01-13T22:52:50.634Z"
   },
   {
    "duration": 53,
    "start_time": "2025-01-13T22:52:50.672Z"
   },
   {
    "duration": 35,
    "start_time": "2025-01-13T22:52:50.727Z"
   },
   {
    "duration": 56,
    "start_time": "2025-01-13T22:52:50.766Z"
   },
   {
    "duration": 39,
    "start_time": "2025-01-13T22:52:50.824Z"
   },
   {
    "duration": 218,
    "start_time": "2025-01-13T22:52:50.866Z"
   },
   {
    "duration": 14428,
    "start_time": "2025-01-13T22:52:51.086Z"
   },
   {
    "duration": 51,
    "start_time": "2025-01-13T22:53:05.516Z"
   },
   {
    "duration": 123,
    "start_time": "2025-01-13T22:53:05.569Z"
   },
   {
    "duration": 66,
    "start_time": "2025-01-13T22:53:05.694Z"
   },
   {
    "duration": 13582,
    "start_time": "2025-01-13T22:53:05.762Z"
   },
   {
    "duration": 63,
    "start_time": "2025-01-13T22:53:19.346Z"
   },
   {
    "duration": 65,
    "start_time": "2025-01-13T22:53:19.411Z"
   },
   {
    "duration": 141,
    "start_time": "2025-01-13T22:53:19.478Z"
   },
   {
    "duration": 3,
    "start_time": "2025-01-13T22:53:19.621Z"
   },
   {
    "duration": 1461,
    "start_time": "2025-01-13T22:53:19.626Z"
   },
   {
    "duration": 2,
    "start_time": "2025-01-13T22:53:21.090Z"
   },
   {
    "duration": 62,
    "start_time": "2025-01-13T22:53:21.096Z"
   },
   {
    "duration": 890,
    "start_time": "2025-01-13T22:53:21.162Z"
   },
   {
    "duration": 0,
    "start_time": "2025-01-13T22:53:22.055Z"
   },
   {
    "duration": 0,
    "start_time": "2025-01-13T22:53:22.057Z"
   },
   {
    "duration": 0,
    "start_time": "2025-01-13T22:53:22.058Z"
   },
   {
    "duration": 0,
    "start_time": "2025-01-13T22:53:22.059Z"
   },
   {
    "duration": 0,
    "start_time": "2025-01-13T22:53:22.060Z"
   },
   {
    "duration": 0,
    "start_time": "2025-01-13T22:53:22.062Z"
   },
   {
    "duration": 938,
    "start_time": "2025-01-13T22:53:59.353Z"
   },
   {
    "duration": 432,
    "start_time": "2025-01-13T22:54:00.294Z"
   },
   {
    "duration": 143,
    "start_time": "2025-01-13T22:54:00.729Z"
   },
   {
    "duration": 18,
    "start_time": "2025-01-13T22:54:00.876Z"
   },
   {
    "duration": 391,
    "start_time": "2025-01-13T22:54:00.896Z"
   },
   {
    "duration": 382,
    "start_time": "2025-01-13T22:54:01.289Z"
   },
   {
    "duration": 52,
    "start_time": "2025-01-13T22:54:01.672Z"
   },
   {
    "duration": 38,
    "start_time": "2025-01-13T22:54:01.726Z"
   },
   {
    "duration": 56,
    "start_time": "2025-01-13T22:54:01.766Z"
   },
   {
    "duration": 36,
    "start_time": "2025-01-13T22:54:01.827Z"
   },
   {
    "duration": 56,
    "start_time": "2025-01-13T22:54:01.865Z"
   },
   {
    "duration": 219,
    "start_time": "2025-01-13T22:54:01.923Z"
   },
   {
    "duration": 13017,
    "start_time": "2025-01-13T22:54:02.144Z"
   },
   {
    "duration": 60,
    "start_time": "2025-01-13T22:54:15.163Z"
   },
   {
    "duration": 91,
    "start_time": "2025-01-13T22:54:15.226Z"
   },
   {
    "duration": 61,
    "start_time": "2025-01-13T22:54:15.319Z"
   },
   {
    "duration": 13120,
    "start_time": "2025-01-13T22:54:15.382Z"
   },
   {
    "duration": 60,
    "start_time": "2025-01-13T22:54:28.509Z"
   },
   {
    "duration": 80,
    "start_time": "2025-01-13T22:54:28.571Z"
   },
   {
    "duration": 114,
    "start_time": "2025-01-13T22:54:28.655Z"
   },
   {
    "duration": 3,
    "start_time": "2025-01-13T22:54:28.772Z"
   },
   {
    "duration": 1351,
    "start_time": "2025-01-13T22:54:28.777Z"
   },
   {
    "duration": 6,
    "start_time": "2025-01-13T22:54:30.131Z"
   },
   {
    "duration": 130,
    "start_time": "2025-01-13T22:54:30.138Z"
   },
   {
    "duration": 12,
    "start_time": "2025-01-13T22:54:30.270Z"
   },
   {
    "duration": 200,
    "start_time": "2025-01-13T22:54:30.283Z"
   },
   {
    "duration": 61,
    "start_time": "2025-01-13T22:54:30.486Z"
   },
   {
    "duration": 277,
    "start_time": "2025-01-13T22:54:30.552Z"
   },
   {
    "duration": 240,
    "start_time": "2025-01-13T22:54:30.831Z"
   },
   {
    "duration": 7,
    "start_time": "2025-01-13T22:54:31.074Z"
   },
   {
    "duration": 29,
    "start_time": "2025-01-13T22:54:31.084Z"
   },
   {
    "duration": 14,
    "start_time": "2025-01-13T23:01:50.259Z"
   },
   {
    "duration": 970,
    "start_time": "2025-01-13T23:02:48.652Z"
   },
   {
    "duration": 496,
    "start_time": "2025-01-13T23:02:49.628Z"
   },
   {
    "duration": 134,
    "start_time": "2025-01-13T23:02:50.130Z"
   },
   {
    "duration": 16,
    "start_time": "2025-01-13T23:02:50.266Z"
   },
   {
    "duration": 329,
    "start_time": "2025-01-13T23:02:50.283Z"
   },
   {
    "duration": 427,
    "start_time": "2025-01-13T23:02:50.613Z"
   },
   {
    "duration": 44,
    "start_time": "2025-01-13T23:02:51.043Z"
   },
   {
    "duration": 47,
    "start_time": "2025-01-13T23:02:51.089Z"
   },
   {
    "duration": 47,
    "start_time": "2025-01-13T23:02:51.137Z"
   },
   {
    "duration": 36,
    "start_time": "2025-01-13T23:02:51.189Z"
   },
   {
    "duration": 51,
    "start_time": "2025-01-13T23:02:51.227Z"
   },
   {
    "duration": 242,
    "start_time": "2025-01-13T23:02:51.280Z"
   },
   {
    "duration": 14462,
    "start_time": "2025-01-13T23:02:51.533Z"
   },
   {
    "duration": 71,
    "start_time": "2025-01-13T23:03:05.997Z"
   },
   {
    "duration": 87,
    "start_time": "2025-01-13T23:03:06.074Z"
   },
   {
    "duration": 61,
    "start_time": "2025-01-13T23:03:06.172Z"
   },
   {
    "duration": 14701,
    "start_time": "2025-01-13T23:03:06.234Z"
   },
   {
    "duration": 52,
    "start_time": "2025-01-13T23:03:20.953Z"
   },
   {
    "duration": 94,
    "start_time": "2025-01-13T23:03:21.007Z"
   },
   {
    "duration": 157,
    "start_time": "2025-01-13T23:03:21.103Z"
   },
   {
    "duration": 4,
    "start_time": "2025-01-13T23:03:21.265Z"
   },
   {
    "duration": 1469,
    "start_time": "2025-01-13T23:03:21.272Z"
   },
   {
    "duration": 15,
    "start_time": "2025-01-13T23:03:22.753Z"
   },
   {
    "duration": 109,
    "start_time": "2025-01-13T23:03:22.770Z"
   },
   {
    "duration": 14,
    "start_time": "2025-01-13T23:03:22.882Z"
   },
   {
    "duration": 46,
    "start_time": "2025-01-13T23:03:22.898Z"
   },
   {
    "duration": 215,
    "start_time": "2025-01-13T23:03:22.946Z"
   },
   {
    "duration": 38,
    "start_time": "2025-01-13T23:03:23.166Z"
   },
   {
    "duration": 276,
    "start_time": "2025-01-13T23:03:23.209Z"
   },
   {
    "duration": 287,
    "start_time": "2025-01-13T23:03:23.487Z"
   },
   {
    "duration": 6,
    "start_time": "2025-01-13T23:03:23.777Z"
   },
   {
    "duration": 13,
    "start_time": "2025-01-13T23:03:23.785Z"
   },
   {
    "duration": 2610,
    "start_time": "2025-01-14T14:23:23.586Z"
   },
   {
    "duration": 435,
    "start_time": "2025-01-14T14:23:26.198Z"
   },
   {
    "duration": 98,
    "start_time": "2025-01-14T14:23:26.635Z"
   },
   {
    "duration": 12,
    "start_time": "2025-01-14T14:23:26.736Z"
   },
   {
    "duration": 248,
    "start_time": "2025-01-14T14:23:26.750Z"
   },
   {
    "duration": 340,
    "start_time": "2025-01-14T14:23:27.000Z"
   },
   {
    "duration": 31,
    "start_time": "2025-01-14T14:23:27.342Z"
   },
   {
    "duration": 47,
    "start_time": "2025-01-14T14:23:27.375Z"
   },
   {
    "duration": 32,
    "start_time": "2025-01-14T14:23:27.423Z"
   },
   {
    "duration": 30,
    "start_time": "2025-01-14T14:23:27.457Z"
   },
   {
    "duration": 48,
    "start_time": "2025-01-14T14:23:27.489Z"
   },
   {
    "duration": 192,
    "start_time": "2025-01-14T14:23:27.540Z"
   },
   {
    "duration": 12247,
    "start_time": "2025-01-14T14:23:27.734Z"
   },
   {
    "duration": 52,
    "start_time": "2025-01-14T14:23:39.983Z"
   },
   {
    "duration": 75,
    "start_time": "2025-01-14T14:23:40.036Z"
   },
   {
    "duration": 49,
    "start_time": "2025-01-14T14:23:40.113Z"
   },
   {
    "duration": 12321,
    "start_time": "2025-01-14T14:23:40.163Z"
   },
   {
    "duration": 60,
    "start_time": "2025-01-14T14:23:52.486Z"
   },
   {
    "duration": 67,
    "start_time": "2025-01-14T14:23:52.547Z"
   },
   {
    "duration": 116,
    "start_time": "2025-01-14T14:23:52.616Z"
   },
   {
    "duration": 3,
    "start_time": "2025-01-14T14:23:52.734Z"
   },
   {
    "duration": 1077,
    "start_time": "2025-01-14T14:23:52.739Z"
   },
   {
    "duration": 3,
    "start_time": "2025-01-14T14:23:53.818Z"
   },
   {
    "duration": 123,
    "start_time": "2025-01-14T14:23:53.823Z"
   },
   {
    "duration": 15,
    "start_time": "2025-01-14T14:23:53.948Z"
   },
   {
    "duration": 11,
    "start_time": "2025-01-14T14:23:53.965Z"
   },
   {
    "duration": 194,
    "start_time": "2025-01-14T14:23:53.977Z"
   },
   {
    "duration": 44,
    "start_time": "2025-01-14T14:23:54.176Z"
   },
   {
    "duration": 161,
    "start_time": "2025-01-14T14:23:54.222Z"
   },
   {
    "duration": 276,
    "start_time": "2025-01-14T14:23:54.385Z"
   },
   {
    "duration": 6,
    "start_time": "2025-01-14T14:23:54.662Z"
   },
   {
    "duration": 14,
    "start_time": "2025-01-14T14:23:54.669Z"
   },
   {
    "duration": 14,
    "start_time": "2025-01-14T14:31:29.414Z"
   },
   {
    "duration": 631,
    "start_time": "2025-01-14T14:38:08.674Z"
   },
   {
    "duration": 6,
    "start_time": "2025-01-14T14:38:22.397Z"
   },
   {
    "duration": 39,
    "start_time": "2025-01-14T14:38:24.217Z"
   },
   {
    "duration": 45,
    "start_time": "2025-01-14T14:38:43.286Z"
   },
   {
    "duration": 19,
    "start_time": "2025-01-14T14:39:56.401Z"
   },
   {
    "duration": 905,
    "start_time": "2025-01-14T14:41:35.666Z"
   },
   {
    "duration": 408,
    "start_time": "2025-01-14T14:41:36.573Z"
   },
   {
    "duration": 92,
    "start_time": "2025-01-14T14:41:36.982Z"
   },
   {
    "duration": 13,
    "start_time": "2025-01-14T14:41:37.075Z"
   },
   {
    "duration": 248,
    "start_time": "2025-01-14T14:41:37.111Z"
   },
   {
    "duration": 345,
    "start_time": "2025-01-14T14:41:37.360Z"
   },
   {
    "duration": 30,
    "start_time": "2025-01-14T14:41:37.707Z"
   },
   {
    "duration": 31,
    "start_time": "2025-01-14T14:41:37.739Z"
   },
   {
    "duration": 50,
    "start_time": "2025-01-14T14:41:37.772Z"
   },
   {
    "duration": 31,
    "start_time": "2025-01-14T14:41:37.824Z"
   },
   {
    "duration": 34,
    "start_time": "2025-01-14T14:41:37.856Z"
   },
   {
    "duration": 188,
    "start_time": "2025-01-14T14:41:37.906Z"
   },
   {
    "duration": 12778,
    "start_time": "2025-01-14T14:41:38.096Z"
   },
   {
    "duration": 54,
    "start_time": "2025-01-14T14:41:50.879Z"
   },
   {
    "duration": 74,
    "start_time": "2025-01-14T14:41:50.936Z"
   },
   {
    "duration": 49,
    "start_time": "2025-01-14T14:41:51.012Z"
   },
   {
    "duration": 12376,
    "start_time": "2025-01-14T14:41:51.063Z"
   },
   {
    "duration": 51,
    "start_time": "2025-01-14T14:42:03.441Z"
   },
   {
    "duration": 72,
    "start_time": "2025-01-14T14:42:03.493Z"
   },
   {
    "duration": 12,
    "start_time": "2025-01-14T14:42:03.567Z"
   },
   {
    "duration": 231,
    "start_time": "2025-01-14T14:42:03.580Z"
   },
   {
    "duration": 261,
    "start_time": "2025-01-14T14:42:03.812Z"
   },
   {
    "duration": 0,
    "start_time": "2025-01-14T14:42:04.075Z"
   },
   {
    "duration": 0,
    "start_time": "2025-01-14T14:42:04.077Z"
   },
   {
    "duration": 0,
    "start_time": "2025-01-14T14:42:04.078Z"
   },
   {
    "duration": 0,
    "start_time": "2025-01-14T14:42:04.079Z"
   },
   {
    "duration": 0,
    "start_time": "2025-01-14T14:42:04.080Z"
   },
   {
    "duration": 0,
    "start_time": "2025-01-14T14:42:04.081Z"
   },
   {
    "duration": 0,
    "start_time": "2025-01-14T14:42:04.082Z"
   },
   {
    "duration": 0,
    "start_time": "2025-01-14T14:42:04.083Z"
   },
   {
    "duration": 0,
    "start_time": "2025-01-14T14:42:04.084Z"
   },
   {
    "duration": 0,
    "start_time": "2025-01-14T14:42:04.085Z"
   },
   {
    "duration": 0,
    "start_time": "2025-01-14T14:42:04.086Z"
   },
   {
    "duration": 0,
    "start_time": "2025-01-14T14:42:04.105Z"
   },
   {
    "duration": 38,
    "start_time": "2025-01-14T14:43:10.975Z"
   },
   {
    "duration": 155,
    "start_time": "2025-01-14T14:43:29.695Z"
   },
   {
    "duration": 208,
    "start_time": "2025-01-14T14:43:34.719Z"
   },
   {
    "duration": 8,
    "start_time": "2025-01-14T14:43:40.251Z"
   },
   {
    "duration": 12,
    "start_time": "2025-01-14T14:43:42.579Z"
   },
   {
    "duration": 10,
    "start_time": "2025-01-14T14:43:51.308Z"
   },
   {
    "duration": 66,
    "start_time": "2025-01-14T14:43:53.793Z"
   },
   {
    "duration": 104,
    "start_time": "2025-01-14T14:43:59.178Z"
   },
   {
    "duration": 2,
    "start_time": "2025-01-14T14:44:04.880Z"
   },
   {
    "duration": 1052,
    "start_time": "2025-01-14T14:44:05.846Z"
   },
   {
    "duration": 4,
    "start_time": "2025-01-14T14:44:07.876Z"
   },
   {
    "duration": 67,
    "start_time": "2025-01-14T14:44:09.105Z"
   },
   {
    "duration": 927,
    "start_time": "2025-01-14T14:54:46.112Z"
   },
   {
    "duration": 462,
    "start_time": "2025-01-14T14:54:47.043Z"
   },
   {
    "duration": 91,
    "start_time": "2025-01-14T14:54:47.507Z"
   },
   {
    "duration": 14,
    "start_time": "2025-01-14T14:54:47.605Z"
   },
   {
    "duration": 251,
    "start_time": "2025-01-14T14:54:47.622Z"
   },
   {
    "duration": 409,
    "start_time": "2025-01-14T14:54:47.875Z"
   },
   {
    "duration": 40,
    "start_time": "2025-01-14T14:54:48.286Z"
   },
   {
    "duration": 34,
    "start_time": "2025-01-14T14:54:48.328Z"
   },
   {
    "duration": 44,
    "start_time": "2025-01-14T14:54:48.364Z"
   },
   {
    "duration": 35,
    "start_time": "2025-01-14T14:54:48.410Z"
   },
   {
    "duration": 36,
    "start_time": "2025-01-14T14:54:48.447Z"
   },
   {
    "duration": 210,
    "start_time": "2025-01-14T14:54:48.485Z"
   },
   {
    "duration": 13979,
    "start_time": "2025-01-14T14:54:48.697Z"
   },
   {
    "duration": 65,
    "start_time": "2025-01-14T14:55:02.681Z"
   },
   {
    "duration": 80,
    "start_time": "2025-01-14T14:55:02.748Z"
   },
   {
    "duration": 47,
    "start_time": "2025-01-14T14:55:02.830Z"
   },
   {
    "duration": 14143,
    "start_time": "2025-01-14T14:55:02.878Z"
   },
   {
    "duration": 51,
    "start_time": "2025-01-14T14:55:17.022Z"
   },
   {
    "duration": 84,
    "start_time": "2025-01-14T14:55:17.075Z"
   },
   {
    "duration": 10,
    "start_time": "2025-01-14T14:55:17.162Z"
   },
   {
    "duration": 270,
    "start_time": "2025-01-14T14:55:17.174Z"
   },
   {
    "duration": 300,
    "start_time": "2025-01-14T14:55:17.448Z"
   },
   {
    "duration": 0,
    "start_time": "2025-01-14T14:55:17.750Z"
   },
   {
    "duration": 0,
    "start_time": "2025-01-14T14:55:17.751Z"
   },
   {
    "duration": 0,
    "start_time": "2025-01-14T14:55:17.752Z"
   },
   {
    "duration": 0,
    "start_time": "2025-01-14T14:55:17.753Z"
   },
   {
    "duration": 0,
    "start_time": "2025-01-14T14:55:17.754Z"
   },
   {
    "duration": 0,
    "start_time": "2025-01-14T14:55:17.755Z"
   },
   {
    "duration": 0,
    "start_time": "2025-01-14T14:55:17.757Z"
   },
   {
    "duration": 0,
    "start_time": "2025-01-14T14:55:17.758Z"
   },
   {
    "duration": 0,
    "start_time": "2025-01-14T14:55:17.759Z"
   },
   {
    "duration": 0,
    "start_time": "2025-01-14T14:55:17.759Z"
   },
   {
    "duration": 0,
    "start_time": "2025-01-14T14:55:17.761Z"
   },
   {
    "duration": 0,
    "start_time": "2025-01-14T14:55:17.762Z"
   },
   {
    "duration": 51,
    "start_time": "2025-01-14T14:56:18.123Z"
   },
   {
    "duration": 174,
    "start_time": "2025-01-14T14:56:23.231Z"
   },
   {
    "duration": 269,
    "start_time": "2025-01-14T14:56:32.257Z"
   },
   {
    "duration": 6,
    "start_time": "2025-01-14T14:56:45.565Z"
   },
   {
    "duration": 15,
    "start_time": "2025-01-14T14:56:46.772Z"
   },
   {
    "duration": 26,
    "start_time": "2025-01-14T14:56:53.105Z"
   },
   {
    "duration": 129,
    "start_time": "2025-01-14T14:57:19.292Z"
   },
   {
    "duration": 15,
    "start_time": "2025-01-14T14:57:31.644Z"
   },
   {
    "duration": 2,
    "start_time": "2025-01-14T14:57:35.887Z"
   },
   {
    "duration": 1201,
    "start_time": "2025-01-14T14:57:36.553Z"
   },
   {
    "duration": 5,
    "start_time": "2025-01-14T14:57:39.222Z"
   },
   {
    "duration": 132,
    "start_time": "2025-01-14T14:57:45.196Z"
   },
   {
    "duration": 13,
    "start_time": "2025-01-14T14:58:07.078Z"
   },
   {
    "duration": 17,
    "start_time": "2025-01-14T14:58:20.388Z"
   },
   {
    "duration": 47,
    "start_time": "2025-01-14T14:58:21.622Z"
   },
   {
    "duration": 45,
    "start_time": "2025-01-14T15:00:29.563Z"
   },
   {
    "duration": 37,
    "start_time": "2025-01-14T15:01:05.952Z"
   },
   {
    "duration": 3,
    "start_time": "2025-01-14T15:08:40.427Z"
   },
   {
    "duration": 3,
    "start_time": "2025-01-14T15:09:24.205Z"
   },
   {
    "duration": 36,
    "start_time": "2025-01-14T15:14:25.522Z"
   },
   {
    "duration": 147,
    "start_time": "2025-01-14T15:14:26.836Z"
   },
   {
    "duration": 19,
    "start_time": "2025-01-14T15:15:08.117Z"
   },
   {
    "duration": 16,
    "start_time": "2025-01-14T15:15:25.943Z"
   },
   {
    "duration": 8,
    "start_time": "2025-01-14T15:17:04.445Z"
   },
   {
    "duration": 36,
    "start_time": "2025-01-14T15:17:54.368Z"
   },
   {
    "duration": 18,
    "start_time": "2025-01-14T15:17:55.238Z"
   },
   {
    "duration": 15,
    "start_time": "2025-01-14T15:18:38.250Z"
   },
   {
    "duration": 4,
    "start_time": "2025-01-14T15:18:45.076Z"
   },
   {
    "duration": 43,
    "start_time": "2025-01-14T16:14:34.447Z"
   },
   {
    "duration": 1184,
    "start_time": "2025-01-14T16:15:45.718Z"
   },
   {
    "duration": 899,
    "start_time": "2025-01-14T16:15:57.618Z"
   },
   {
    "duration": 462,
    "start_time": "2025-01-14T16:15:58.520Z"
   },
   {
    "duration": 106,
    "start_time": "2025-01-14T16:15:58.983Z"
   },
   {
    "duration": 25,
    "start_time": "2025-01-14T16:15:59.090Z"
   },
   {
    "duration": 288,
    "start_time": "2025-01-14T16:15:59.119Z"
   },
   {
    "duration": 444,
    "start_time": "2025-01-14T16:15:59.409Z"
   },
   {
    "duration": 30,
    "start_time": "2025-01-14T16:15:59.855Z"
   },
   {
    "duration": 51,
    "start_time": "2025-01-14T16:15:59.887Z"
   },
   {
    "duration": 39,
    "start_time": "2025-01-14T16:15:59.941Z"
   },
   {
    "duration": 37,
    "start_time": "2025-01-14T16:15:59.982Z"
   },
   {
    "duration": 44,
    "start_time": "2025-01-14T16:16:00.021Z"
   },
   {
    "duration": 244,
    "start_time": "2025-01-14T16:16:00.067Z"
   },
   {
    "duration": 13371,
    "start_time": "2025-01-14T16:16:00.314Z"
   },
   {
    "duration": 66,
    "start_time": "2025-01-14T16:16:13.689Z"
   },
   {
    "duration": 92,
    "start_time": "2025-01-14T16:16:13.757Z"
   },
   {
    "duration": 49,
    "start_time": "2025-01-14T16:16:13.853Z"
   },
   {
    "duration": 13646,
    "start_time": "2025-01-14T16:16:13.906Z"
   },
   {
    "duration": 59,
    "start_time": "2025-01-14T16:16:27.554Z"
   },
   {
    "duration": 70,
    "start_time": "2025-01-14T16:16:27.615Z"
   },
   {
    "duration": 20,
    "start_time": "2025-01-14T16:16:27.687Z"
   },
   {
    "duration": 247,
    "start_time": "2025-01-14T16:16:27.711Z"
   },
   {
    "duration": 55,
    "start_time": "2025-01-14T16:16:27.960Z"
   },
   {
    "duration": 182,
    "start_time": "2025-01-14T16:16:28.017Z"
   },
   {
    "duration": 271,
    "start_time": "2025-01-14T16:16:28.201Z"
   },
   {
    "duration": 6,
    "start_time": "2025-01-14T16:16:28.473Z"
   },
   {
    "duration": 27,
    "start_time": "2025-01-14T16:16:28.480Z"
   },
   {
    "duration": 145,
    "start_time": "2025-01-14T16:16:28.510Z"
   },
   {
    "duration": 3,
    "start_time": "2025-01-14T16:16:28.656Z"
   },
   {
    "duration": 638,
    "start_time": "2025-01-14T16:16:28.661Z"
   },
   {
    "duration": 0,
    "start_time": "2025-01-14T16:16:29.306Z"
   },
   {
    "duration": 0,
    "start_time": "2025-01-14T16:16:29.307Z"
   },
   {
    "duration": 0,
    "start_time": "2025-01-14T16:16:29.308Z"
   },
   {
    "duration": 0,
    "start_time": "2025-01-14T16:16:29.309Z"
   },
   {
    "duration": 0,
    "start_time": "2025-01-14T16:16:29.310Z"
   },
   {
    "duration": 0,
    "start_time": "2025-01-14T16:16:29.311Z"
   },
   {
    "duration": 0,
    "start_time": "2025-01-14T16:16:29.313Z"
   },
   {
    "duration": 0,
    "start_time": "2025-01-14T16:16:29.314Z"
   },
   {
    "duration": 67,
    "start_time": "2025-01-14T16:17:03.233Z"
   },
   {
    "duration": 3,
    "start_time": "2025-01-14T16:17:07.762Z"
   },
   {
    "duration": 88,
    "start_time": "2025-01-14T16:17:08.495Z"
   },
   {
    "duration": 138,
    "start_time": "2025-01-14T16:21:40.375Z"
   },
   {
    "duration": 3,
    "start_time": "2025-01-14T16:25:33.028Z"
   },
   {
    "duration": 1168,
    "start_time": "2025-01-14T16:25:43.545Z"
   },
   {
    "duration": 16,
    "start_time": "2025-01-14T16:28:57.993Z"
   },
   {
    "duration": 3,
    "start_time": "2025-01-14T16:32:41.330Z"
   },
   {
    "duration": 2,
    "start_time": "2025-01-14T16:33:21.164Z"
   },
   {
    "duration": 141,
    "start_time": "2025-01-14T16:33:21.779Z"
   },
   {
    "duration": 3,
    "start_time": "2025-01-14T16:33:53.392Z"
   },
   {
    "duration": 450,
    "start_time": "2025-01-14T16:33:54.983Z"
   },
   {
    "duration": 44,
    "start_time": "2025-01-14T16:33:57.618Z"
   },
   {
    "duration": 16,
    "start_time": "2025-01-14T16:35:03.716Z"
   },
   {
    "duration": 58,
    "start_time": "2025-01-14T16:35:05.209Z"
   },
   {
    "duration": 18,
    "start_time": "2025-01-14T16:37:00.716Z"
   },
   {
    "duration": 16,
    "start_time": "2025-01-14T16:37:24.880Z"
   },
   {
    "duration": 3,
    "start_time": "2025-01-14T16:51:00.915Z"
   },
   {
    "duration": 21,
    "start_time": "2025-01-14T16:52:44.655Z"
   },
   {
    "duration": 137,
    "start_time": "2025-01-14T16:53:42.605Z"
   },
   {
    "duration": 19101,
    "start_time": "2025-01-14T16:56:25.920Z"
   },
   {
    "duration": 15,
    "start_time": "2025-01-14T17:00:07.340Z"
   },
   {
    "duration": 205,
    "start_time": "2025-01-14T17:09:15.332Z"
   },
   {
    "duration": 288,
    "start_time": "2025-01-14T17:09:30.022Z"
   },
   {
    "duration": 3,
    "start_time": "2025-01-14T17:10:02.584Z"
   },
   {
    "duration": 124,
    "start_time": "2025-01-14T17:10:08.115Z"
   },
   {
    "duration": 213,
    "start_time": "2025-01-14T17:14:11.623Z"
   },
   {
    "duration": 90,
    "start_time": "2025-01-14T17:14:33.333Z"
   },
   {
    "duration": 152,
    "start_time": "2025-01-14T17:14:42.877Z"
   },
   {
    "duration": 168,
    "start_time": "2025-01-14T17:14:55.549Z"
   },
   {
    "duration": 194,
    "start_time": "2025-01-14T17:15:02.211Z"
   },
   {
    "duration": 18566,
    "start_time": "2025-01-14T17:15:23.919Z"
   },
   {
    "duration": 113,
    "start_time": "2025-01-14T17:20:04.715Z"
   },
   {
    "duration": 3,
    "start_time": "2025-01-14T17:26:59.223Z"
   },
   {
    "duration": 119,
    "start_time": "2025-01-14T17:27:54.110Z"
   },
   {
    "duration": 6,
    "start_time": "2025-01-14T17:55:49.740Z"
   },
   {
    "duration": 4,
    "start_time": "2025-01-14T17:56:04.981Z"
   },
   {
    "duration": 3,
    "start_time": "2025-01-14T17:56:15.609Z"
   },
   {
    "duration": 142,
    "start_time": "2025-01-14T17:56:23.666Z"
   },
   {
    "duration": 5,
    "start_time": "2025-01-14T17:56:27.282Z"
   },
   {
    "duration": 303950,
    "start_time": "2025-01-14T17:56:37.216Z"
   },
   {
    "duration": 913,
    "start_time": "2025-01-14T18:02:57.688Z"
   },
   {
    "duration": 409,
    "start_time": "2025-01-14T18:02:58.603Z"
   },
   {
    "duration": 99,
    "start_time": "2025-01-14T18:02:59.014Z"
   },
   {
    "duration": 23,
    "start_time": "2025-01-14T18:02:59.116Z"
   },
   {
    "duration": 297,
    "start_time": "2025-01-14T18:02:59.141Z"
   },
   {
    "duration": 342,
    "start_time": "2025-01-14T18:02:59.439Z"
   },
   {
    "duration": 41,
    "start_time": "2025-01-14T18:02:59.783Z"
   },
   {
    "duration": 34,
    "start_time": "2025-01-14T18:02:59.826Z"
   },
   {
    "duration": 44,
    "start_time": "2025-01-14T18:02:59.862Z"
   },
   {
    "duration": 32,
    "start_time": "2025-01-14T18:02:59.910Z"
   },
   {
    "duration": 35,
    "start_time": "2025-01-14T18:02:59.945Z"
   },
   {
    "duration": 207,
    "start_time": "2025-01-14T18:02:59.981Z"
   },
   {
    "duration": 12430,
    "start_time": "2025-01-14T18:03:00.190Z"
   },
   {
    "duration": 47,
    "start_time": "2025-01-14T18:03:12.624Z"
   },
   {
    "duration": 92,
    "start_time": "2025-01-14T18:03:12.673Z"
   },
   {
    "duration": 54,
    "start_time": "2025-01-14T18:03:12.767Z"
   },
   {
    "duration": 12295,
    "start_time": "2025-01-14T18:03:12.822Z"
   },
   {
    "duration": 54,
    "start_time": "2025-01-14T18:03:25.119Z"
   },
   {
    "duration": 70,
    "start_time": "2025-01-14T18:03:25.174Z"
   },
   {
    "duration": 11,
    "start_time": "2025-01-14T18:03:25.246Z"
   },
   {
    "duration": 174,
    "start_time": "2025-01-14T18:03:25.258Z"
   },
   {
    "duration": 38,
    "start_time": "2025-01-14T18:03:25.434Z"
   },
   {
    "duration": 169,
    "start_time": "2025-01-14T18:03:25.474Z"
   },
   {
    "duration": 226,
    "start_time": "2025-01-14T18:03:25.645Z"
   },
   {
    "duration": 6,
    "start_time": "2025-01-14T18:03:25.873Z"
   },
   {
    "duration": 25,
    "start_time": "2025-01-14T18:03:25.881Z"
   },
   {
    "duration": 115,
    "start_time": "2025-01-14T18:03:25.907Z"
   },
   {
    "duration": 3,
    "start_time": "2025-01-14T18:03:26.026Z"
   },
   {
    "duration": 130,
    "start_time": "2025-01-14T18:03:26.030Z"
   },
   {
    "duration": 3,
    "start_time": "2025-01-14T18:03:26.162Z"
   },
   {
    "duration": 1021,
    "start_time": "2025-01-14T18:03:26.166Z"
   },
   {
    "duration": 23,
    "start_time": "2025-01-14T18:03:27.189Z"
   },
   {
    "duration": 3,
    "start_time": "2025-01-14T18:03:27.214Z"
   },
   {
    "duration": 373,
    "start_time": "2025-01-14T18:03:27.219Z"
   },
   {
    "duration": 39,
    "start_time": "2025-01-14T18:03:27.594Z"
   },
   {
    "duration": 15,
    "start_time": "2025-01-14T18:03:27.635Z"
   },
   {
    "duration": 66,
    "start_time": "2025-01-14T18:03:27.652Z"
   },
   {
    "duration": 191,
    "start_time": "2025-01-14T18:03:27.720Z"
   },
   {
    "duration": 571,
    "start_time": "2025-01-14T18:03:27.913Z"
   },
   {
    "duration": 4,
    "start_time": "2025-01-14T18:03:28.486Z"
   },
   {
    "duration": 263950,
    "start_time": "2025-01-14T18:05:19.522Z"
   },
   {
    "duration": 177,
    "start_time": "2025-01-14T18:12:54.742Z"
   },
   {
    "duration": 133687,
    "start_time": "2025-01-14T18:13:07.230Z"
   },
   {
    "duration": 4,
    "start_time": "2025-01-14T18:43:20.755Z"
   },
   {
    "duration": 10,
    "start_time": "2025-01-14T18:43:32.457Z"
   },
   {
    "duration": 26,
    "start_time": "2025-01-14T18:43:44.463Z"
   },
   {
    "duration": 3765,
    "start_time": "2025-01-14T18:43:50.041Z"
   },
   {
    "duration": 16,
    "start_time": "2025-01-14T19:27:34.584Z"
   },
   {
    "duration": 11,
    "start_time": "2025-01-14T21:35:46.774Z"
   },
   {
    "duration": 15,
    "start_time": "2025-01-14T21:35:52.305Z"
   },
   {
    "duration": 1109,
    "start_time": "2025-01-14T21:36:50.800Z"
   },
   {
    "duration": 538,
    "start_time": "2025-01-14T21:36:51.915Z"
   },
   {
    "duration": 113,
    "start_time": "2025-01-14T21:36:52.455Z"
   },
   {
    "duration": 16,
    "start_time": "2025-01-14T21:36:52.572Z"
   },
   {
    "duration": 339,
    "start_time": "2025-01-14T21:36:52.590Z"
   },
   {
    "duration": 387,
    "start_time": "2025-01-14T21:36:52.931Z"
   },
   {
    "duration": 39,
    "start_time": "2025-01-14T21:36:53.319Z"
   },
   {
    "duration": 47,
    "start_time": "2025-01-14T21:36:53.361Z"
   },
   {
    "duration": 51,
    "start_time": "2025-01-14T21:36:53.412Z"
   },
   {
    "duration": 38,
    "start_time": "2025-01-14T21:36:53.470Z"
   },
   {
    "duration": 58,
    "start_time": "2025-01-14T21:36:53.512Z"
   },
   {
    "duration": 264,
    "start_time": "2025-01-14T21:36:53.572Z"
   },
   {
    "duration": 14703,
    "start_time": "2025-01-14T21:36:53.838Z"
   },
   {
    "duration": 48,
    "start_time": "2025-01-14T21:37:08.543Z"
   },
   {
    "duration": 95,
    "start_time": "2025-01-14T21:37:08.592Z"
   },
   {
    "duration": 62,
    "start_time": "2025-01-14T21:37:08.689Z"
   },
   {
    "duration": 14314,
    "start_time": "2025-01-14T21:37:08.753Z"
   },
   {
    "duration": 59,
    "start_time": "2025-01-14T21:37:23.069Z"
   },
   {
    "duration": 62,
    "start_time": "2025-01-14T21:37:23.130Z"
   },
   {
    "duration": 30,
    "start_time": "2025-01-14T21:37:23.194Z"
   },
   {
    "duration": 171,
    "start_time": "2025-01-14T21:37:23.230Z"
   },
   {
    "duration": 45,
    "start_time": "2025-01-14T21:37:23.402Z"
   },
   {
    "duration": 209,
    "start_time": "2025-01-14T21:37:23.449Z"
   },
   {
    "duration": 248,
    "start_time": "2025-01-14T21:37:23.660Z"
   },
   {
    "duration": 12,
    "start_time": "2025-01-14T21:37:23.910Z"
   },
   {
    "duration": 20,
    "start_time": "2025-01-14T21:37:23.924Z"
   },
   {
    "duration": 119,
    "start_time": "2025-01-14T21:37:23.946Z"
   },
   {
    "duration": 3,
    "start_time": "2025-01-14T21:37:24.070Z"
   },
   {
    "duration": 162,
    "start_time": "2025-01-14T21:37:24.075Z"
   },
   {
    "duration": 2,
    "start_time": "2025-01-14T21:37:24.239Z"
   },
   {
    "duration": 1167,
    "start_time": "2025-01-14T21:37:24.243Z"
   },
   {
    "duration": 25,
    "start_time": "2025-01-14T21:37:25.412Z"
   },
   {
    "duration": 3,
    "start_time": "2025-01-14T21:37:25.440Z"
   },
   {
    "duration": 443,
    "start_time": "2025-01-14T21:37:25.445Z"
   },
   {
    "duration": 40,
    "start_time": "2025-01-14T21:37:25.890Z"
   },
   {
    "duration": 16,
    "start_time": "2025-01-14T21:37:25.932Z"
   },
   {
    "duration": 55,
    "start_time": "2025-01-14T21:37:25.951Z"
   },
   {
    "duration": 198,
    "start_time": "2025-01-14T21:37:26.008Z"
   },
   {
    "duration": 127276,
    "start_time": "2025-01-14T21:37:26.214Z"
   },
   {
    "duration": 170,
    "start_time": "2025-01-14T21:39:33.491Z"
   },
   {
    "duration": 12,
    "start_time": "2025-01-14T21:40:26.960Z"
   },
   {
    "duration": 12,
    "start_time": "2025-01-14T21:40:57.047Z"
   },
   {
    "duration": 12,
    "start_time": "2025-01-14T21:41:19.122Z"
   },
   {
    "duration": 13,
    "start_time": "2025-01-14T21:41:31.686Z"
   },
   {
    "duration": 11,
    "start_time": "2025-01-14T21:42:26.233Z"
   },
   {
    "duration": 172327,
    "start_time": "2025-01-14T21:45:23.593Z"
   },
   {
    "duration": 62,
    "start_time": "2025-01-14T22:02:18.079Z"
   },
   {
    "duration": 364,
    "start_time": "2025-01-14T22:12:37.966Z"
   },
   {
    "duration": 153,
    "start_time": "2025-01-14T22:13:15.832Z"
   },
   {
    "duration": 68412,
    "start_time": "2025-01-14T22:13:49.615Z"
   },
   {
    "duration": 66877,
    "start_time": "2025-01-14T22:15:25.915Z"
   },
   {
    "duration": 7,
    "start_time": "2025-01-14T22:22:57.789Z"
   },
   {
    "duration": 5,
    "start_time": "2025-01-14T22:23:30.067Z"
   },
   {
    "duration": 5,
    "start_time": "2025-01-14T22:24:20.001Z"
   },
   {
    "duration": 206406,
    "start_time": "2025-01-14T22:24:30.303Z"
   },
   {
    "duration": 1085,
    "start_time": "2025-01-14T22:48:52.227Z"
   },
   {
    "duration": 410,
    "start_time": "2025-01-14T22:48:53.315Z"
   },
   {
    "duration": 97,
    "start_time": "2025-01-14T22:48:53.726Z"
   },
   {
    "duration": 15,
    "start_time": "2025-01-14T22:48:53.824Z"
   },
   {
    "duration": 250,
    "start_time": "2025-01-14T22:48:53.843Z"
   },
   {
    "duration": 357,
    "start_time": "2025-01-14T22:48:54.095Z"
   },
   {
    "duration": 32,
    "start_time": "2025-01-14T22:48:54.453Z"
   },
   {
    "duration": 46,
    "start_time": "2025-01-14T22:48:54.486Z"
   },
   {
    "duration": 32,
    "start_time": "2025-01-14T22:48:54.533Z"
   },
   {
    "duration": 49,
    "start_time": "2025-01-14T22:48:54.566Z"
   },
   {
    "duration": 36,
    "start_time": "2025-01-14T22:48:54.616Z"
   },
   {
    "duration": 206,
    "start_time": "2025-01-14T22:48:54.654Z"
   },
   {
    "duration": 12609,
    "start_time": "2025-01-14T22:48:54.863Z"
   },
   {
    "duration": 55,
    "start_time": "2025-01-14T22:49:07.475Z"
   },
   {
    "duration": 74,
    "start_time": "2025-01-14T22:49:07.532Z"
   },
   {
    "duration": 44,
    "start_time": "2025-01-14T22:49:07.608Z"
   },
   {
    "duration": 12576,
    "start_time": "2025-01-14T22:49:07.654Z"
   },
   {
    "duration": 49,
    "start_time": "2025-01-14T22:49:20.232Z"
   },
   {
    "duration": 75,
    "start_time": "2025-01-14T22:49:20.283Z"
   },
   {
    "duration": 11,
    "start_time": "2025-01-14T22:49:20.360Z"
   },
   {
    "duration": 180,
    "start_time": "2025-01-14T22:49:20.373Z"
   },
   {
    "duration": 38,
    "start_time": "2025-01-14T22:49:20.555Z"
   },
   {
    "duration": 163,
    "start_time": "2025-01-14T22:49:20.604Z"
   },
   {
    "duration": 215,
    "start_time": "2025-01-14T22:49:20.769Z"
   },
   {
    "duration": 5,
    "start_time": "2025-01-14T22:49:20.985Z"
   },
   {
    "duration": 22,
    "start_time": "2025-01-14T22:49:20.992Z"
   },
   {
    "duration": 116,
    "start_time": "2025-01-14T22:49:21.016Z"
   },
   {
    "duration": 3,
    "start_time": "2025-01-14T22:49:21.133Z"
   },
   {
    "duration": 127,
    "start_time": "2025-01-14T22:49:21.138Z"
   },
   {
    "duration": 5,
    "start_time": "2025-01-14T22:49:21.267Z"
   },
   {
    "duration": 1007,
    "start_time": "2025-01-14T22:49:21.274Z"
   },
   {
    "duration": 24,
    "start_time": "2025-01-14T22:49:22.283Z"
   },
   {
    "duration": 3,
    "start_time": "2025-01-14T22:49:22.309Z"
   },
   {
    "duration": 404,
    "start_time": "2025-01-14T22:49:22.313Z"
   },
   {
    "duration": 39,
    "start_time": "2025-01-14T22:49:22.720Z"
   },
   {
    "duration": 14,
    "start_time": "2025-01-14T22:49:22.761Z"
   },
   {
    "duration": 66,
    "start_time": "2025-01-14T22:49:22.777Z"
   },
   {
    "duration": 164,
    "start_time": "2025-01-14T22:49:22.845Z"
   },
   {
    "duration": 2130,
    "start_time": "2025-01-14T22:49:23.011Z"
   },
   {
    "duration": 122881,
    "start_time": "2025-01-14T22:49:25.143Z"
   },
   {
    "duration": 1058,
    "start_time": "2025-01-14T23:05:15.630Z"
   },
   {
    "duration": 404,
    "start_time": "2025-01-14T23:05:16.690Z"
   },
   {
    "duration": 100,
    "start_time": "2025-01-14T23:05:17.096Z"
   },
   {
    "duration": 17,
    "start_time": "2025-01-14T23:05:17.199Z"
   },
   {
    "duration": 239,
    "start_time": "2025-01-14T23:05:17.217Z"
   },
   {
    "duration": 340,
    "start_time": "2025-01-14T23:05:17.457Z"
   },
   {
    "duration": 35,
    "start_time": "2025-01-14T23:05:17.799Z"
   },
   {
    "duration": 30,
    "start_time": "2025-01-14T23:05:17.836Z"
   },
   {
    "duration": 46,
    "start_time": "2025-01-14T23:05:17.867Z"
   },
   {
    "duration": 31,
    "start_time": "2025-01-14T23:05:17.916Z"
   },
   {
    "duration": 31,
    "start_time": "2025-01-14T23:05:17.949Z"
   },
   {
    "duration": 209,
    "start_time": "2025-01-14T23:05:17.981Z"
   },
   {
    "duration": 13337,
    "start_time": "2025-01-14T23:05:18.191Z"
   },
   {
    "duration": 54,
    "start_time": "2025-01-14T23:05:31.529Z"
   },
   {
    "duration": 77,
    "start_time": "2025-01-14T23:05:31.584Z"
   },
   {
    "duration": 70,
    "start_time": "2025-01-14T23:05:31.663Z"
   },
   {
    "duration": 12707,
    "start_time": "2025-01-14T23:05:31.735Z"
   },
   {
    "duration": 62,
    "start_time": "2025-01-14T23:05:44.444Z"
   },
   {
    "duration": 82,
    "start_time": "2025-01-14T23:05:44.507Z"
   },
   {
    "duration": 21,
    "start_time": "2025-01-14T23:05:44.590Z"
   },
   {
    "duration": 170,
    "start_time": "2025-01-14T23:05:44.612Z"
   },
   {
    "duration": 54,
    "start_time": "2025-01-14T23:05:44.784Z"
   },
   {
    "duration": 160,
    "start_time": "2025-01-14T23:05:44.840Z"
   },
   {
    "duration": 225,
    "start_time": "2025-01-14T23:05:45.005Z"
   },
   {
    "duration": 6,
    "start_time": "2025-01-14T23:05:45.232Z"
   },
   {
    "duration": 20,
    "start_time": "2025-01-14T23:05:45.240Z"
   },
   {
    "duration": 126,
    "start_time": "2025-01-14T23:05:45.262Z"
   },
   {
    "duration": 2,
    "start_time": "2025-01-14T23:05:45.393Z"
   },
   {
    "duration": 134,
    "start_time": "2025-01-14T23:05:45.397Z"
   },
   {
    "duration": 3,
    "start_time": "2025-01-14T23:05:45.532Z"
   },
   {
    "duration": 1022,
    "start_time": "2025-01-14T23:05:45.536Z"
   },
   {
    "duration": 14,
    "start_time": "2025-01-14T23:05:46.560Z"
   },
   {
    "duration": 4,
    "start_time": "2025-01-14T23:05:46.576Z"
   },
   {
    "duration": 389,
    "start_time": "2025-01-14T23:05:46.581Z"
   },
   {
    "duration": 39,
    "start_time": "2025-01-14T23:05:46.972Z"
   },
   {
    "duration": 13,
    "start_time": "2025-01-14T23:05:47.013Z"
   },
   {
    "duration": 47,
    "start_time": "2025-01-14T23:05:47.027Z"
   },
   {
    "duration": 232,
    "start_time": "2025-01-14T23:05:47.076Z"
   },
   {
    "duration": 2164,
    "start_time": "2025-01-14T23:05:47.310Z"
   },
   {
    "duration": 0,
    "start_time": "2025-01-14T23:05:49.477Z"
   },
   {
    "duration": 0,
    "start_time": "2025-01-14T23:05:49.478Z"
   },
   {
    "duration": 1927,
    "start_time": "2025-01-14T23:06:06.757Z"
   },
   {
    "duration": 181,
    "start_time": "2025-01-14T23:07:22.656Z"
   },
   {
    "duration": 140464,
    "start_time": "2025-01-14T23:08:04.113Z"
   },
   {
    "duration": 264,
    "start_time": "2025-01-14T23:11:31.165Z"
   },
   {
    "duration": 127200,
    "start_time": "2025-01-14T23:31:54.109Z"
   },
   {
    "duration": 1014,
    "start_time": "2025-01-14T23:57:47.274Z"
   },
   {
    "duration": 400,
    "start_time": "2025-01-14T23:57:48.290Z"
   },
   {
    "duration": 100,
    "start_time": "2025-01-14T23:57:48.692Z"
   },
   {
    "duration": 21,
    "start_time": "2025-01-14T23:57:48.795Z"
   },
   {
    "duration": 242,
    "start_time": "2025-01-14T23:57:48.818Z"
   },
   {
    "duration": 365,
    "start_time": "2025-01-14T23:57:49.061Z"
   },
   {
    "duration": 31,
    "start_time": "2025-01-14T23:57:49.428Z"
   },
   {
    "duration": 47,
    "start_time": "2025-01-14T23:57:49.461Z"
   },
   {
    "duration": 32,
    "start_time": "2025-01-14T23:57:49.510Z"
   },
   {
    "duration": 29,
    "start_time": "2025-01-14T23:57:49.546Z"
   },
   {
    "duration": 52,
    "start_time": "2025-01-14T23:57:49.577Z"
   },
   {
    "duration": 198,
    "start_time": "2025-01-14T23:57:49.633Z"
   },
   {
    "duration": 12583,
    "start_time": "2025-01-14T23:57:49.833Z"
   },
   {
    "duration": 53,
    "start_time": "2025-01-14T23:58:02.418Z"
   },
   {
    "duration": 82,
    "start_time": "2025-01-14T23:58:02.473Z"
   },
   {
    "duration": 55,
    "start_time": "2025-01-14T23:58:02.557Z"
   },
   {
    "duration": 12528,
    "start_time": "2025-01-14T23:58:02.614Z"
   },
   {
    "duration": 61,
    "start_time": "2025-01-14T23:58:15.144Z"
   },
   {
    "duration": 83,
    "start_time": "2025-01-14T23:58:15.207Z"
   },
   {
    "duration": 22,
    "start_time": "2025-01-14T23:58:15.292Z"
   },
   {
    "duration": 167,
    "start_time": "2025-01-14T23:58:15.316Z"
   },
   {
    "duration": 58,
    "start_time": "2025-01-14T23:58:15.485Z"
   },
   {
    "duration": 165,
    "start_time": "2025-01-14T23:58:15.545Z"
   },
   {
    "duration": 237,
    "start_time": "2025-01-14T23:58:15.713Z"
   },
   {
    "duration": 7,
    "start_time": "2025-01-14T23:58:15.952Z"
   },
   {
    "duration": 18,
    "start_time": "2025-01-14T23:58:15.960Z"
   },
   {
    "duration": 120,
    "start_time": "2025-01-14T23:58:15.980Z"
   },
   {
    "duration": 2,
    "start_time": "2025-01-14T23:58:16.104Z"
   },
   {
    "duration": 128,
    "start_time": "2025-01-14T23:58:16.108Z"
   },
   {
    "duration": 2,
    "start_time": "2025-01-14T23:58:16.238Z"
   },
   {
    "duration": 1012,
    "start_time": "2025-01-14T23:58:16.242Z"
   },
   {
    "duration": 15,
    "start_time": "2025-01-14T23:58:17.256Z"
   },
   {
    "duration": 2,
    "start_time": "2025-01-14T23:58:17.273Z"
   },
   {
    "duration": 383,
    "start_time": "2025-01-14T23:58:17.277Z"
   },
   {
    "duration": 45,
    "start_time": "2025-01-14T23:58:17.661Z"
   },
   {
    "duration": 16,
    "start_time": "2025-01-14T23:58:17.708Z"
   },
   {
    "duration": 45,
    "start_time": "2025-01-14T23:58:17.726Z"
   },
   {
    "duration": 145,
    "start_time": "2025-01-14T23:58:17.774Z"
   },
   {
    "duration": 1028,
    "start_time": "2025-01-15T00:00:12.401Z"
   },
   {
    "duration": 416,
    "start_time": "2025-01-15T00:00:13.432Z"
   },
   {
    "duration": 97,
    "start_time": "2025-01-15T00:00:13.850Z"
   },
   {
    "duration": 12,
    "start_time": "2025-01-15T00:00:13.950Z"
   },
   {
    "duration": 258,
    "start_time": "2025-01-15T00:00:13.963Z"
   },
   {
    "duration": 349,
    "start_time": "2025-01-15T00:00:14.223Z"
   },
   {
    "duration": 41,
    "start_time": "2025-01-15T00:00:14.574Z"
   },
   {
    "duration": 31,
    "start_time": "2025-01-15T00:00:14.617Z"
   },
   {
    "duration": 31,
    "start_time": "2025-01-15T00:00:14.650Z"
   },
   {
    "duration": 48,
    "start_time": "2025-01-15T00:00:14.684Z"
   },
   {
    "duration": 35,
    "start_time": "2025-01-15T00:00:14.734Z"
   },
   {
    "duration": 199,
    "start_time": "2025-01-15T00:00:14.771Z"
   },
   {
    "duration": 12786,
    "start_time": "2025-01-15T00:00:14.972Z"
   },
   {
    "duration": 55,
    "start_time": "2025-01-15T00:00:27.760Z"
   },
   {
    "duration": 71,
    "start_time": "2025-01-15T00:00:27.817Z"
   },
   {
    "duration": 53,
    "start_time": "2025-01-15T00:00:27.889Z"
   },
   {
    "duration": 13236,
    "start_time": "2025-01-15T00:00:27.943Z"
   },
   {
    "duration": 55,
    "start_time": "2025-01-15T00:00:41.182Z"
   },
   {
    "duration": 58,
    "start_time": "2025-01-15T00:00:41.239Z"
   },
   {
    "duration": 16,
    "start_time": "2025-01-15T00:00:41.298Z"
   },
   {
    "duration": 173,
    "start_time": "2025-01-15T00:00:41.316Z"
   },
   {
    "duration": 49,
    "start_time": "2025-01-15T00:00:41.492Z"
   },
   {
    "duration": 167,
    "start_time": "2025-01-15T00:00:41.543Z"
   },
   {
    "duration": 216,
    "start_time": "2025-01-15T00:00:41.712Z"
   },
   {
    "duration": 5,
    "start_time": "2025-01-15T00:00:41.930Z"
   },
   {
    "duration": 13,
    "start_time": "2025-01-15T00:00:41.937Z"
   },
   {
    "duration": 124,
    "start_time": "2025-01-15T00:00:41.952Z"
   },
   {
    "duration": 3,
    "start_time": "2025-01-15T00:00:42.080Z"
   },
   {
    "duration": 128,
    "start_time": "2025-01-15T00:00:42.085Z"
   },
   {
    "duration": 2,
    "start_time": "2025-01-15T00:00:42.215Z"
   },
   {
    "duration": 1028,
    "start_time": "2025-01-15T00:00:42.219Z"
   },
   {
    "duration": 15,
    "start_time": "2025-01-15T00:00:43.249Z"
   },
   {
    "duration": 3,
    "start_time": "2025-01-15T00:00:43.265Z"
   },
   {
    "duration": 393,
    "start_time": "2025-01-15T00:00:43.270Z"
   },
   {
    "duration": 44,
    "start_time": "2025-01-15T00:00:43.665Z"
   },
   {
    "duration": 15,
    "start_time": "2025-01-15T00:00:43.711Z"
   },
   {
    "duration": 46,
    "start_time": "2025-01-15T00:00:43.728Z"
   },
   {
    "duration": 142,
    "start_time": "2025-01-15T00:00:43.776Z"
   },
   {
    "duration": 130024,
    "start_time": "2025-01-15T00:00:43.920Z"
   },
   {
    "duration": 131361,
    "start_time": "2025-01-15T00:02:53.946Z"
   },
   {
    "duration": 1135,
    "start_time": "2025-01-15T00:05:59.834Z"
   },
   {
    "duration": 507,
    "start_time": "2025-01-15T00:06:00.971Z"
   },
   {
    "duration": 115,
    "start_time": "2025-01-15T00:06:01.480Z"
   },
   {
    "duration": 15,
    "start_time": "2025-01-15T00:06:01.607Z"
   },
   {
    "duration": 312,
    "start_time": "2025-01-15T00:06:01.625Z"
   },
   {
    "duration": 369,
    "start_time": "2025-01-15T00:06:01.939Z"
   },
   {
    "duration": 43,
    "start_time": "2025-01-15T00:06:02.310Z"
   },
   {
    "duration": 50,
    "start_time": "2025-01-15T00:06:02.355Z"
   },
   {
    "duration": 51,
    "start_time": "2025-01-15T00:06:02.407Z"
   },
   {
    "duration": 35,
    "start_time": "2025-01-15T00:06:02.460Z"
   },
   {
    "duration": 57,
    "start_time": "2025-01-15T00:06:02.496Z"
   },
   {
    "duration": 205,
    "start_time": "2025-01-15T00:06:02.555Z"
   },
   {
    "duration": 13699,
    "start_time": "2025-01-15T00:06:02.762Z"
   },
   {
    "duration": 59,
    "start_time": "2025-01-15T00:06:16.465Z"
   },
   {
    "duration": 80,
    "start_time": "2025-01-15T00:06:16.526Z"
   },
   {
    "duration": 53,
    "start_time": "2025-01-15T00:06:16.614Z"
   },
   {
    "duration": 13913,
    "start_time": "2025-01-15T00:06:16.669Z"
   },
   {
    "duration": 55,
    "start_time": "2025-01-15T00:06:30.584Z"
   },
   {
    "duration": 65,
    "start_time": "2025-01-15T00:06:30.641Z"
   },
   {
    "duration": 11,
    "start_time": "2025-01-15T00:06:30.708Z"
   },
   {
    "duration": 180,
    "start_time": "2025-01-15T00:06:30.720Z"
   },
   {
    "duration": 39,
    "start_time": "2025-01-15T00:06:30.902Z"
   },
   {
    "duration": 165,
    "start_time": "2025-01-15T00:06:30.942Z"
   },
   {
    "duration": 241,
    "start_time": "2025-01-15T00:06:31.109Z"
   },
   {
    "duration": 5,
    "start_time": "2025-01-15T00:06:31.353Z"
   },
   {
    "duration": 13,
    "start_time": "2025-01-15T00:06:31.360Z"
   },
   {
    "duration": 121,
    "start_time": "2025-01-15T00:06:31.375Z"
   },
   {
    "duration": 8,
    "start_time": "2025-01-15T00:06:31.498Z"
   },
   {
    "duration": 130,
    "start_time": "2025-01-15T00:06:31.507Z"
   },
   {
    "duration": 3,
    "start_time": "2025-01-15T00:06:31.639Z"
   },
   {
    "duration": 1035,
    "start_time": "2025-01-15T00:06:31.644Z"
   },
   {
    "duration": 25,
    "start_time": "2025-01-15T00:06:32.681Z"
   },
   {
    "duration": 4,
    "start_time": "2025-01-15T00:06:32.708Z"
   },
   {
    "duration": 384,
    "start_time": "2025-01-15T00:06:32.714Z"
   },
   {
    "duration": 31,
    "start_time": "2025-01-15T00:06:33.100Z"
   },
   {
    "duration": 14,
    "start_time": "2025-01-15T00:06:33.133Z"
   },
   {
    "duration": 64,
    "start_time": "2025-01-15T00:06:33.148Z"
   },
   {
    "duration": 191,
    "start_time": "2025-01-15T00:06:33.214Z"
   },
   {
    "duration": 77717,
    "start_time": "2025-01-15T00:06:33.407Z"
   },
   {
    "duration": 30288,
    "start_time": "2025-01-15T00:07:51.126Z"
   },
   {
    "duration": 436237,
    "start_time": "2025-01-15T00:08:21.419Z"
   },
   {
    "duration": 245,
    "start_time": "2025-01-15T00:15:37.658Z"
   },
   {
    "duration": 16,
    "start_time": "2025-01-15T00:17:00.007Z"
   },
   {
    "duration": 8,
    "start_time": "2025-01-15T00:17:33.687Z"
   },
   {
    "duration": 7,
    "start_time": "2025-01-15T00:18:02.152Z"
   },
   {
    "duration": 7,
    "start_time": "2025-01-15T00:18:59.930Z"
   }
  ],
  "kernelspec": {
   "display_name": "vehiculo",
   "language": "python",
   "name": "python3"
  },
  "language_info": {
   "codemirror_mode": {
    "name": "ipython",
    "version": 3
   },
   "file_extension": ".py",
   "mimetype": "text/x-python",
   "name": "python",
   "nbconvert_exporter": "python",
   "pygments_lexer": "ipython3",
   "version": "3.11.11"
  },
  "toc": {
   "base_numbering": 1,
   "nav_menu": {},
   "number_sections": true,
   "sideBar": true,
   "skip_h1_title": true,
   "title_cell": "Table of Contents",
   "title_sidebar": "Contents",
   "toc_cell": false,
   "toc_position": {
    "height": "calc(100% - 180px)",
    "left": "10px",
    "top": "150px",
    "width": "165px"
   },
   "toc_section_display": true,
   "toc_window_display": true
  }
 },
 "nbformat": 4,
 "nbformat_minor": 2
}
